{
  "nbformat": 4,
  "nbformat_minor": 0,
  "metadata": {
    "colab": {
      "provenance": [],
      "collapsed_sections": [
        "gUwSHbfzQ_qi"
      ],
      "authorship_tag": "ABX9TyPiEb9REcttxxb7MAOh6tL1",
      "include_colab_link": true
    },
    "kernelspec": {
      "name": "python3",
      "display_name": "Python 3"
    },
    "language_info": {
      "name": "python"
    }
  },
  "cells": [
    {
      "cell_type": "markdown",
      "metadata": {
        "id": "view-in-github",
        "colab_type": "text"
      },
      "source": [
        "<a href=\"https://colab.research.google.com/github/slapazromero/Coches_net/blob/main/Analisis_de_datos.ipynb\" target=\"_parent\"><img src=\"https://colab.research.google.com/assets/colab-badge.svg\" alt=\"Open In Colab\"/></a>"
      ]
    },
    {
      "cell_type": "markdown",
      "source": [
        "# 1. Importación de librerias."
      ],
      "metadata": {
        "id": "ydP9cY_phTxG"
      }
    },
    {
      "cell_type": "code",
      "execution_count": 1,
      "metadata": {
        "id": "lLilfuKNPRKK"
      },
      "outputs": [],
      "source": [
        "import pandas as pd\n",
        "import numpy as np\n",
        "\n",
        "from google.colab import files\n",
        "import io\n",
        "\n",
        "import os\n",
        "import csv\n",
        "import json\n",
        "\n",
        "import matplotlib.pyplot as plt\n",
        "import seaborn as sns"
      ]
    },
    {
      "cell_type": "markdown",
      "source": [
        "# 2. Importación de datos"
      ],
      "metadata": {
        "id": "W82C8Tbx7_mW"
      }
    },
    {
      "cell_type": "code",
      "source": [
        "#funciones para la obtención de columnas con valores nulos\n",
        "def columns_without_values(data):\n",
        "    columns = data.isnull().sum()\n",
        "    print(columns[columns > 0])\n",
        "\n",
        "#funciones para obtener la representación de los diagramas de cajas\n",
        "def draw_hist_boxplot(df, feature_name):\n",
        "    sns.boxplot(x=feature_name, data=df)\n",
        "    sns.stripplot(x=feature_name, data=df, color=\"#474646\")\n",
        "\n",
        "#funciones que se utilizan para 'corregir' valores atípicos\n",
        "def replace_outliers_with_median(df, feature_name):\n",
        "    Q1 = df[feature_name].quantile(0.25)\n",
        "    median = df[feature_name].quantile(0.5)\n",
        "    Q3 = df[feature_name].quantile(0.75)\n",
        "    IQR = Q3 - Q1\n",
        "    lower_whisker = Q1 - 1.5 * IQR\n",
        "    upper_whisker = Q3 + 1.5 * IQR\n",
        "    df[feature_name] = np.where((df[feature_name] < lower_whisker) | \n",
        "                                (df[feature_name] > upper_whisker), \n",
        "                                 median, \n",
        "                                 df[feature_name])"
      ],
      "metadata": {
        "id": "dFIMOzakae3k"
      },
      "execution_count": 2,
      "outputs": []
    },
    {
      "cell_type": "code",
      "source": [
        "# data = ...\n",
        "data = None"
      ],
      "metadata": {
        "id": "tw_NYCgB5RIw"
      },
      "execution_count": 3,
      "outputs": []
    },
    {
      "cell_type": "code",
      "source": [
        "def read_file(filename):\n",
        "  if filename.endswith(\".json\"):\n",
        "    df = pd.read_json(filename, encoding='utf-8')\n",
        "  elif filename.endswith(\".csv\"):\n",
        "    df = pd.read_csv(filename, encoding='utf-8')\n",
        "  else:\n",
        "    print(\"El archivo no es valido.\")\n",
        "    return None\n",
        "    \n",
        "  return df\n",
        "\n",
        "def format_file(df):\n",
        "  return df.drop('resto_de_datos', axis=1).join(pd.json_normalize(df['resto_de_datos']).drop('url', axis=1))"
      ],
      "metadata": {
        "id": "LEDeXFfk9AbT"
      },
      "execution_count": 4,
      "outputs": []
    },
    {
      "cell_type": "code",
      "source": [
        "def create_dataframe(data, filename):\n",
        "  df = read_file(filename)\n",
        "  if 'resto_de_datos' in df:\n",
        "    df = format_file(df)\n",
        "  if data is None or data.empty:\n",
        "    data = df\n",
        "  else:\n",
        "    data = pd.concat([data, df], ignore_index=True)\n",
        "  return data"
      ],
      "metadata": {
        "id": "85856ZYhVwvZ"
      },
      "execution_count": 5,
      "outputs": []
    },
    {
      "cell_type": "code",
      "source": [
        "folder_path = \"/content/\"\n",
        "\n",
        "for filename in os.listdir(folder_path):\n",
        "  full_path = os.path.join(folder_path, filename)\n",
        "  if os.path.isfile(full_path):\n",
        "    print(full_path)\n",
        "    data = create_dataframe(data, full_path)"
      ],
      "metadata": {
        "id": "bjgqdQXHWwEo",
        "colab": {
          "base_uri": "https://localhost:8080/"
        },
        "outputId": "9960f042-21b0-4a5a-9f95-a3e274259124"
      },
      "execution_count": 6,
      "outputs": [
        {
          "output_type": "stream",
          "name": "stdout",
          "text": [
            "/content/16.csv\n",
            "/content/01.json\n",
            "/content/17.csv\n",
            "/content/04.json\n",
            "/content/11.json\n",
            "/content/05.json\n",
            "/content/06.json\n",
            "/content/03.json\n",
            "/content/14.json\n",
            "/content/12.json\n",
            "/content/08.json\n",
            "/content/07.json\n",
            "/content/10.json\n",
            "/content/02.json\n",
            "/content/13.json\n",
            "/content/09.json\n",
            "/content/15.json\n"
          ]
        }
      ]
    },
    {
      "cell_type": "code",
      "source": [
        "df = data"
      ],
      "metadata": {
        "id": "tQga7yNss4jX"
      },
      "execution_count": 7,
      "outputs": []
    },
    {
      "cell_type": "markdown",
      "source": [
        "Obtener información acerca de los datos que se acaban de leer."
      ],
      "metadata": {
        "id": "-fVfq8g27fqf"
      }
    },
    {
      "cell_type": "code",
      "source": [
        "type(df)"
      ],
      "metadata": {
        "id": "Nmwc2z8C6qcx",
        "colab": {
          "base_uri": "https://localhost:8080/"
        },
        "outputId": "ce0768f6-2d09-4294-9156-d94da6d2e538"
      },
      "execution_count": 8,
      "outputs": [
        {
          "output_type": "execute_result",
          "data": {
            "text/plain": [
              "pandas.core.frame.DataFrame"
            ]
          },
          "metadata": {},
          "execution_count": 8
        }
      ]
    },
    {
      "cell_type": "code",
      "source": [
        "df"
      ],
      "metadata": {
        "id": "sl695V5n5K_R",
        "colab": {
          "base_uri": "https://localhost:8080/",
          "height": 783
        },
        "outputId": "5c4cf3ea-9be5-4e4f-ae59-e918694c9092"
      },
      "execution_count": 9,
      "outputs": [
        {
          "output_type": "execute_result",
          "data": {
            "text/plain": [
              "       Unnamed: 0   fuelType  fuelTypeId                color          id  \\\n",
              "0             0.0     Diésel         1.0   COMMON.COLOR_BLACK  53501300.0   \n",
              "1             1.0     Diésel         1.0   COMMON.COLOR_WHITE  54722839.0   \n",
              "2             2.0     Diésel         1.0   COMMON.COLOR_BLACK  54738428.0   \n",
              "3             3.0   Gasolina         2.0    COMMON.COLOR_BLUE  54594808.0   \n",
              "4             4.0     Diésel         1.0   COMMON.COLOR_BLACK  53851852.0   \n",
              "...           ...        ...         ...                  ...         ...   \n",
              "13854         NaN  Eléctrico         3.0   COMMON.COLOR_BLACK    54767364   \n",
              "13855         NaN  Eléctrico         3.0   COMMON.COLOR_WHITE    54858044   \n",
              "13856         NaN  Eléctrico         3.0   COMMON.COLOR_WHITE    54039041   \n",
              "13857         NaN  Eléctrico         3.0   COMMON.COLOR_WHITE    54039033   \n",
              "13858         NaN  Eléctrico         3.0  COMMON.COLOR_GARNET    54889434   \n",
              "\n",
              "             km   make  makeId                model  modelId  ...  \\\n",
              "0      170000.0    BMW     7.0                   X3    515.0  ...   \n",
              "1       88000.0    BMW     7.0              Serie 5     71.0  ...   \n",
              "2       74500.0    BMW     7.0                   X5    438.0  ...   \n",
              "3       39956.0    BMW     7.0              Serie 1    539.0  ...   \n",
              "4       96267.0    BMW     7.0  Serie 2 Gran Tourer   1159.0  ...   \n",
              "...         ...    ...     ...                  ...      ...  ...   \n",
              "13854  129000.0  TESLA  1354.0              Model S   1171.0  ...   \n",
              "13855  175000.0  TESLA  1354.0              Model X   1172.0  ...   \n",
              "13856   77000.0  TESLA  1354.0              Model 3   1262.0  ...   \n",
              "13857   33000.0  TESLA  1354.0              Model 3   1262.0  ...   \n",
              "13858   29899.0  TESLA  1354.0              Model 3   1262.0  ...   \n",
              "\n",
              "                                                     url                 date  \\\n",
              "0      https://www.coches.net/bmw-x3-sdrive18d-diesel...  2023-04-08 21:24:06   \n",
              "1      https://www.coches.net/bmw-serie-5-520da-touri...  2023-04-08 21:24:14   \n",
              "2      https://www.coches.net/bmw-x5-xdrive30d-5p-die...  2023-04-08 21:24:16   \n",
              "3      https://www.coches.net/bmw-serie-1-118i-corpor...  2023-04-08 21:24:18   \n",
              "4      https://www.coches.net/bmw-serie-2-gran-tourer...  2023-04-08 21:24:20   \n",
              "...                                                  ...                  ...   \n",
              "13854  https://www.coches.net/tesla-model-s-75d-4wd-5...                  NaN   \n",
              "13855  https://www.coches.net/tesla-model-x-90d-4wd-e...                  NaN   \n",
              "13856  https://www.coches.net/tesla-model-3-performan...                  NaN   \n",
              "13857  https://www.coches.net/tesla-model-3-gran-auto...                  NaN   \n",
              "13858  https://www.coches.net/tesla-model-3-estandar-...                  NaN   \n",
              "\n",
              "       datetime  brand brand_id  fuel_types  model_id         bodyType  \\\n",
              "0           NaT    NaN      NaN         NaN       NaN              NaN   \n",
              "1           NaT    NaN      NaN         NaN       NaN              NaN   \n",
              "2           NaT    NaN      NaN         NaN       NaN              NaN   \n",
              "3           NaT    NaN      NaN         NaN       NaN              NaN   \n",
              "4           NaT    NaN      NaN         NaN       NaN              NaN   \n",
              "...         ...    ...      ...         ...       ...              ...   \n",
              "13854       NaT  TESLA   1354.0   Eléctrico    1171.0  BODY_TYPE_SEDAN   \n",
              "13855       NaT  TESLA   1354.0   Eléctrico    1172.0    BODY_TYPE_4X4   \n",
              "13856       NaT  TESLA   1354.0   Eléctrico    1262.0  BODY_TYPE_SEDAN   \n",
              "13857       NaT  TESLA   1354.0   Eléctrico    1262.0  BODY_TYPE_SEDAN   \n",
              "13858       NaT  TESLA   1354.0   Eléctrico    1262.0  BODY_TYPE_SEDAN   \n",
              "\n",
              "       publicationDate fecha  \n",
              "0                  NaN   NaN  \n",
              "1                  NaN   NaN  \n",
              "2                  NaN   NaN  \n",
              "3                  NaN   NaN  \n",
              "4                  NaN   NaN  \n",
              "...                ...   ...  \n",
              "13854              NaN   NaN  \n",
              "13855              NaN   NaN  \n",
              "13856              NaN   NaN  \n",
              "13857              NaN   NaN  \n",
              "13858              NaN   NaN  \n",
              "\n",
              "[13859 rows x 34 columns]"
            ],
            "text/html": [
              "\n",
              "  <div id=\"df-87fc8bc7-03ee-4a5d-9124-aabc852d1a0c\">\n",
              "    <div class=\"colab-df-container\">\n",
              "      <div>\n",
              "<style scoped>\n",
              "    .dataframe tbody tr th:only-of-type {\n",
              "        vertical-align: middle;\n",
              "    }\n",
              "\n",
              "    .dataframe tbody tr th {\n",
              "        vertical-align: top;\n",
              "    }\n",
              "\n",
              "    .dataframe thead th {\n",
              "        text-align: right;\n",
              "    }\n",
              "</style>\n",
              "<table border=\"1\" class=\"dataframe\">\n",
              "  <thead>\n",
              "    <tr style=\"text-align: right;\">\n",
              "      <th></th>\n",
              "      <th>Unnamed: 0</th>\n",
              "      <th>fuelType</th>\n",
              "      <th>fuelTypeId</th>\n",
              "      <th>color</th>\n",
              "      <th>id</th>\n",
              "      <th>km</th>\n",
              "      <th>make</th>\n",
              "      <th>makeId</th>\n",
              "      <th>model</th>\n",
              "      <th>modelId</th>\n",
              "      <th>...</th>\n",
              "      <th>url</th>\n",
              "      <th>date</th>\n",
              "      <th>datetime</th>\n",
              "      <th>brand</th>\n",
              "      <th>brand_id</th>\n",
              "      <th>fuel_types</th>\n",
              "      <th>model_id</th>\n",
              "      <th>bodyType</th>\n",
              "      <th>publicationDate</th>\n",
              "      <th>fecha</th>\n",
              "    </tr>\n",
              "  </thead>\n",
              "  <tbody>\n",
              "    <tr>\n",
              "      <th>0</th>\n",
              "      <td>0.0</td>\n",
              "      <td>Diésel</td>\n",
              "      <td>1.0</td>\n",
              "      <td>COMMON.COLOR_BLACK</td>\n",
              "      <td>53501300.0</td>\n",
              "      <td>170000.0</td>\n",
              "      <td>BMW</td>\n",
              "      <td>7.0</td>\n",
              "      <td>X3</td>\n",
              "      <td>515.0</td>\n",
              "      <td>...</td>\n",
              "      <td>https://www.coches.net/bmw-x3-sdrive18d-diesel...</td>\n",
              "      <td>2023-04-08 21:24:06</td>\n",
              "      <td>NaT</td>\n",
              "      <td>NaN</td>\n",
              "      <td>NaN</td>\n",
              "      <td>NaN</td>\n",
              "      <td>NaN</td>\n",
              "      <td>NaN</td>\n",
              "      <td>NaN</td>\n",
              "      <td>NaN</td>\n",
              "    </tr>\n",
              "    <tr>\n",
              "      <th>1</th>\n",
              "      <td>1.0</td>\n",
              "      <td>Diésel</td>\n",
              "      <td>1.0</td>\n",
              "      <td>COMMON.COLOR_WHITE</td>\n",
              "      <td>54722839.0</td>\n",
              "      <td>88000.0</td>\n",
              "      <td>BMW</td>\n",
              "      <td>7.0</td>\n",
              "      <td>Serie 5</td>\n",
              "      <td>71.0</td>\n",
              "      <td>...</td>\n",
              "      <td>https://www.coches.net/bmw-serie-5-520da-touri...</td>\n",
              "      <td>2023-04-08 21:24:14</td>\n",
              "      <td>NaT</td>\n",
              "      <td>NaN</td>\n",
              "      <td>NaN</td>\n",
              "      <td>NaN</td>\n",
              "      <td>NaN</td>\n",
              "      <td>NaN</td>\n",
              "      <td>NaN</td>\n",
              "      <td>NaN</td>\n",
              "    </tr>\n",
              "    <tr>\n",
              "      <th>2</th>\n",
              "      <td>2.0</td>\n",
              "      <td>Diésel</td>\n",
              "      <td>1.0</td>\n",
              "      <td>COMMON.COLOR_BLACK</td>\n",
              "      <td>54738428.0</td>\n",
              "      <td>74500.0</td>\n",
              "      <td>BMW</td>\n",
              "      <td>7.0</td>\n",
              "      <td>X5</td>\n",
              "      <td>438.0</td>\n",
              "      <td>...</td>\n",
              "      <td>https://www.coches.net/bmw-x5-xdrive30d-5p-die...</td>\n",
              "      <td>2023-04-08 21:24:16</td>\n",
              "      <td>NaT</td>\n",
              "      <td>NaN</td>\n",
              "      <td>NaN</td>\n",
              "      <td>NaN</td>\n",
              "      <td>NaN</td>\n",
              "      <td>NaN</td>\n",
              "      <td>NaN</td>\n",
              "      <td>NaN</td>\n",
              "    </tr>\n",
              "    <tr>\n",
              "      <th>3</th>\n",
              "      <td>3.0</td>\n",
              "      <td>Gasolina</td>\n",
              "      <td>2.0</td>\n",
              "      <td>COMMON.COLOR_BLUE</td>\n",
              "      <td>54594808.0</td>\n",
              "      <td>39956.0</td>\n",
              "      <td>BMW</td>\n",
              "      <td>7.0</td>\n",
              "      <td>Serie 1</td>\n",
              "      <td>539.0</td>\n",
              "      <td>...</td>\n",
              "      <td>https://www.coches.net/bmw-serie-1-118i-corpor...</td>\n",
              "      <td>2023-04-08 21:24:18</td>\n",
              "      <td>NaT</td>\n",
              "      <td>NaN</td>\n",
              "      <td>NaN</td>\n",
              "      <td>NaN</td>\n",
              "      <td>NaN</td>\n",
              "      <td>NaN</td>\n",
              "      <td>NaN</td>\n",
              "      <td>NaN</td>\n",
              "    </tr>\n",
              "    <tr>\n",
              "      <th>4</th>\n",
              "      <td>4.0</td>\n",
              "      <td>Diésel</td>\n",
              "      <td>1.0</td>\n",
              "      <td>COMMON.COLOR_BLACK</td>\n",
              "      <td>53851852.0</td>\n",
              "      <td>96267.0</td>\n",
              "      <td>BMW</td>\n",
              "      <td>7.0</td>\n",
              "      <td>Serie 2 Gran Tourer</td>\n",
              "      <td>1159.0</td>\n",
              "      <td>...</td>\n",
              "      <td>https://www.coches.net/bmw-serie-2-gran-tourer...</td>\n",
              "      <td>2023-04-08 21:24:20</td>\n",
              "      <td>NaT</td>\n",
              "      <td>NaN</td>\n",
              "      <td>NaN</td>\n",
              "      <td>NaN</td>\n",
              "      <td>NaN</td>\n",
              "      <td>NaN</td>\n",
              "      <td>NaN</td>\n",
              "      <td>NaN</td>\n",
              "    </tr>\n",
              "    <tr>\n",
              "      <th>...</th>\n",
              "      <td>...</td>\n",
              "      <td>...</td>\n",
              "      <td>...</td>\n",
              "      <td>...</td>\n",
              "      <td>...</td>\n",
              "      <td>...</td>\n",
              "      <td>...</td>\n",
              "      <td>...</td>\n",
              "      <td>...</td>\n",
              "      <td>...</td>\n",
              "      <td>...</td>\n",
              "      <td>...</td>\n",
              "      <td>...</td>\n",
              "      <td>...</td>\n",
              "      <td>...</td>\n",
              "      <td>...</td>\n",
              "      <td>...</td>\n",
              "      <td>...</td>\n",
              "      <td>...</td>\n",
              "      <td>...</td>\n",
              "      <td>...</td>\n",
              "    </tr>\n",
              "    <tr>\n",
              "      <th>13854</th>\n",
              "      <td>NaN</td>\n",
              "      <td>Eléctrico</td>\n",
              "      <td>3.0</td>\n",
              "      <td>COMMON.COLOR_BLACK</td>\n",
              "      <td>54767364</td>\n",
              "      <td>129000.0</td>\n",
              "      <td>TESLA</td>\n",
              "      <td>1354.0</td>\n",
              "      <td>Model S</td>\n",
              "      <td>1171.0</td>\n",
              "      <td>...</td>\n",
              "      <td>https://www.coches.net/tesla-model-s-75d-4wd-5...</td>\n",
              "      <td>NaN</td>\n",
              "      <td>NaT</td>\n",
              "      <td>TESLA</td>\n",
              "      <td>1354.0</td>\n",
              "      <td>Eléctrico</td>\n",
              "      <td>1171.0</td>\n",
              "      <td>BODY_TYPE_SEDAN</td>\n",
              "      <td>NaN</td>\n",
              "      <td>NaN</td>\n",
              "    </tr>\n",
              "    <tr>\n",
              "      <th>13855</th>\n",
              "      <td>NaN</td>\n",
              "      <td>Eléctrico</td>\n",
              "      <td>3.0</td>\n",
              "      <td>COMMON.COLOR_WHITE</td>\n",
              "      <td>54858044</td>\n",
              "      <td>175000.0</td>\n",
              "      <td>TESLA</td>\n",
              "      <td>1354.0</td>\n",
              "      <td>Model X</td>\n",
              "      <td>1172.0</td>\n",
              "      <td>...</td>\n",
              "      <td>https://www.coches.net/tesla-model-x-90d-4wd-e...</td>\n",
              "      <td>NaN</td>\n",
              "      <td>NaT</td>\n",
              "      <td>TESLA</td>\n",
              "      <td>1354.0</td>\n",
              "      <td>Eléctrico</td>\n",
              "      <td>1172.0</td>\n",
              "      <td>BODY_TYPE_4X4</td>\n",
              "      <td>NaN</td>\n",
              "      <td>NaN</td>\n",
              "    </tr>\n",
              "    <tr>\n",
              "      <th>13856</th>\n",
              "      <td>NaN</td>\n",
              "      <td>Eléctrico</td>\n",
              "      <td>3.0</td>\n",
              "      <td>COMMON.COLOR_WHITE</td>\n",
              "      <td>54039041</td>\n",
              "      <td>77000.0</td>\n",
              "      <td>TESLA</td>\n",
              "      <td>1354.0</td>\n",
              "      <td>Model 3</td>\n",
              "      <td>1262.0</td>\n",
              "      <td>...</td>\n",
              "      <td>https://www.coches.net/tesla-model-3-performan...</td>\n",
              "      <td>NaN</td>\n",
              "      <td>NaT</td>\n",
              "      <td>TESLA</td>\n",
              "      <td>1354.0</td>\n",
              "      <td>Eléctrico</td>\n",
              "      <td>1262.0</td>\n",
              "      <td>BODY_TYPE_SEDAN</td>\n",
              "      <td>NaN</td>\n",
              "      <td>NaN</td>\n",
              "    </tr>\n",
              "    <tr>\n",
              "      <th>13857</th>\n",
              "      <td>NaN</td>\n",
              "      <td>Eléctrico</td>\n",
              "      <td>3.0</td>\n",
              "      <td>COMMON.COLOR_WHITE</td>\n",
              "      <td>54039033</td>\n",
              "      <td>33000.0</td>\n",
              "      <td>TESLA</td>\n",
              "      <td>1354.0</td>\n",
              "      <td>Model 3</td>\n",
              "      <td>1262.0</td>\n",
              "      <td>...</td>\n",
              "      <td>https://www.coches.net/tesla-model-3-gran-auto...</td>\n",
              "      <td>NaN</td>\n",
              "      <td>NaT</td>\n",
              "      <td>TESLA</td>\n",
              "      <td>1354.0</td>\n",
              "      <td>Eléctrico</td>\n",
              "      <td>1262.0</td>\n",
              "      <td>BODY_TYPE_SEDAN</td>\n",
              "      <td>NaN</td>\n",
              "      <td>NaN</td>\n",
              "    </tr>\n",
              "    <tr>\n",
              "      <th>13858</th>\n",
              "      <td>NaN</td>\n",
              "      <td>Eléctrico</td>\n",
              "      <td>3.0</td>\n",
              "      <td>COMMON.COLOR_GARNET</td>\n",
              "      <td>54889434</td>\n",
              "      <td>29899.0</td>\n",
              "      <td>TESLA</td>\n",
              "      <td>1354.0</td>\n",
              "      <td>Model 3</td>\n",
              "      <td>1262.0</td>\n",
              "      <td>...</td>\n",
              "      <td>https://www.coches.net/tesla-model-3-estandar-...</td>\n",
              "      <td>NaN</td>\n",
              "      <td>NaT</td>\n",
              "      <td>TESLA</td>\n",
              "      <td>1354.0</td>\n",
              "      <td>Eléctrico</td>\n",
              "      <td>1262.0</td>\n",
              "      <td>BODY_TYPE_SEDAN</td>\n",
              "      <td>NaN</td>\n",
              "      <td>NaN</td>\n",
              "    </tr>\n",
              "  </tbody>\n",
              "</table>\n",
              "<p>13859 rows × 34 columns</p>\n",
              "</div>\n",
              "      <button class=\"colab-df-convert\" onclick=\"convertToInteractive('df-87fc8bc7-03ee-4a5d-9124-aabc852d1a0c')\"\n",
              "              title=\"Convert this dataframe to an interactive table.\"\n",
              "              style=\"display:none;\">\n",
              "        \n",
              "  <svg xmlns=\"http://www.w3.org/2000/svg\" height=\"24px\"viewBox=\"0 0 24 24\"\n",
              "       width=\"24px\">\n",
              "    <path d=\"M0 0h24v24H0V0z\" fill=\"none\"/>\n",
              "    <path d=\"M18.56 5.44l.94 2.06.94-2.06 2.06-.94-2.06-.94-.94-2.06-.94 2.06-2.06.94zm-11 1L8.5 8.5l.94-2.06 2.06-.94-2.06-.94L8.5 2.5l-.94 2.06-2.06.94zm10 10l.94 2.06.94-2.06 2.06-.94-2.06-.94-.94-2.06-.94 2.06-2.06.94z\"/><path d=\"M17.41 7.96l-1.37-1.37c-.4-.4-.92-.59-1.43-.59-.52 0-1.04.2-1.43.59L10.3 9.45l-7.72 7.72c-.78.78-.78 2.05 0 2.83L4 21.41c.39.39.9.59 1.41.59.51 0 1.02-.2 1.41-.59l7.78-7.78 2.81-2.81c.8-.78.8-2.07 0-2.86zM5.41 20L4 18.59l7.72-7.72 1.47 1.35L5.41 20z\"/>\n",
              "  </svg>\n",
              "      </button>\n",
              "      \n",
              "  <style>\n",
              "    .colab-df-container {\n",
              "      display:flex;\n",
              "      flex-wrap:wrap;\n",
              "      gap: 12px;\n",
              "    }\n",
              "\n",
              "    .colab-df-convert {\n",
              "      background-color: #E8F0FE;\n",
              "      border: none;\n",
              "      border-radius: 50%;\n",
              "      cursor: pointer;\n",
              "      display: none;\n",
              "      fill: #1967D2;\n",
              "      height: 32px;\n",
              "      padding: 0 0 0 0;\n",
              "      width: 32px;\n",
              "    }\n",
              "\n",
              "    .colab-df-convert:hover {\n",
              "      background-color: #E2EBFA;\n",
              "      box-shadow: 0px 1px 2px rgba(60, 64, 67, 0.3), 0px 1px 3px 1px rgba(60, 64, 67, 0.15);\n",
              "      fill: #174EA6;\n",
              "    }\n",
              "\n",
              "    [theme=dark] .colab-df-convert {\n",
              "      background-color: #3B4455;\n",
              "      fill: #D2E3FC;\n",
              "    }\n",
              "\n",
              "    [theme=dark] .colab-df-convert:hover {\n",
              "      background-color: #434B5C;\n",
              "      box-shadow: 0px 1px 3px 1px rgba(0, 0, 0, 0.15);\n",
              "      filter: drop-shadow(0px 1px 2px rgba(0, 0, 0, 0.3));\n",
              "      fill: #FFFFFF;\n",
              "    }\n",
              "  </style>\n",
              "\n",
              "      <script>\n",
              "        const buttonEl =\n",
              "          document.querySelector('#df-87fc8bc7-03ee-4a5d-9124-aabc852d1a0c button.colab-df-convert');\n",
              "        buttonEl.style.display =\n",
              "          google.colab.kernel.accessAllowed ? 'block' : 'none';\n",
              "\n",
              "        async function convertToInteractive(key) {\n",
              "          const element = document.querySelector('#df-87fc8bc7-03ee-4a5d-9124-aabc852d1a0c');\n",
              "          const dataTable =\n",
              "            await google.colab.kernel.invokeFunction('convertToInteractive',\n",
              "                                                     [key], {});\n",
              "          if (!dataTable) return;\n",
              "\n",
              "          const docLinkHtml = 'Like what you see? Visit the ' +\n",
              "            '<a target=\"_blank\" href=https://colab.research.google.com/notebooks/data_table.ipynb>data table notebook</a>'\n",
              "            + ' to learn more about interactive tables.';\n",
              "          element.innerHTML = '';\n",
              "          dataTable['output_type'] = 'display_data';\n",
              "          await google.colab.output.renderOutput(dataTable, element);\n",
              "          const docLink = document.createElement('div');\n",
              "          docLink.innerHTML = docLinkHtml;\n",
              "          element.appendChild(docLink);\n",
              "        }\n",
              "      </script>\n",
              "    </div>\n",
              "  </div>\n",
              "  "
            ]
          },
          "metadata": {},
          "execution_count": 9
        }
      ]
    },
    {
      "cell_type": "code",
      "source": [
        "df.dtypes"
      ],
      "metadata": {
        "id": "YSLfrn345iUt",
        "colab": {
          "base_uri": "https://localhost:8080/"
        },
        "outputId": "576b3978-8eb5-4f9d-cbe6-71db1dd77602"
      },
      "execution_count": 10,
      "outputs": [
        {
          "output_type": "execute_result",
          "data": {
            "text/plain": [
              "Unnamed: 0                   float64\n",
              "fuelType                      object\n",
              "fuelTypeId                   float64\n",
              "color                         object\n",
              "id                            object\n",
              "km                           float64\n",
              "make                          object\n",
              "makeId                       float64\n",
              "model                         object\n",
              "modelId                      float64\n",
              "province                      object\n",
              "provinceId                   float64\n",
              "price                        float64\n",
              "title                         object\n",
              "transmissionType              object\n",
              "transmissionTypeId           float64\n",
              "year                         float64\n",
              "seller_type                   object\n",
              "seller_type_id               float64\n",
              "body_types                    object\n",
              "body_types_id                float64\n",
              "cubicCapacity                float64\n",
              "doors                        float64\n",
              "hp                           float64\n",
              "url                           object\n",
              "date                          object\n",
              "datetime              datetime64[ns]\n",
              "brand                         object\n",
              "brand_id                     float64\n",
              "fuel_types                    object\n",
              "model_id                     float64\n",
              "bodyType                      object\n",
              "publicationDate               object\n",
              "fecha                         object\n",
              "dtype: object"
            ]
          },
          "metadata": {},
          "execution_count": 10
        }
      ]
    },
    {
      "cell_type": "code",
      "source": [
        "df.describe()"
      ],
      "metadata": {
        "id": "tCKww_645ev7",
        "colab": {
          "base_uri": "https://localhost:8080/",
          "height": 364
        },
        "outputId": "9f20d368-6f2b-497f-ae4e-e82cf3b61edf"
      },
      "execution_count": 11,
      "outputs": [
        {
          "output_type": "execute_result",
          "data": {
            "text/plain": [
              "        Unnamed: 0    fuelTypeId             km        makeId      modelId  \\\n",
              "count  2014.000000  13853.000000   13853.000000  13853.000000  13842.00000   \n",
              "mean   1006.500000      1.698405   73631.588826     67.421281    700.10013   \n",
              "std     581.536041      0.986918   42334.050002    215.144161    432.62635   \n",
              "min       0.000000      1.000000   10000.000000      1.000000      2.00000   \n",
              "25%     503.250000      1.000000   38700.000000     15.000000    345.00000   \n",
              "50%    1006.500000      1.000000   68408.000000     28.000000    678.00000   \n",
              "75%    1509.750000      2.000000  100712.000000     35.000000   1097.00000   \n",
              "max    2013.000000      7.000000  180000.000000   1400.000000   1442.00000   \n",
              "\n",
              "         provinceId          price  transmissionTypeId          year  \\\n",
              "count  13853.000000   13853.000000        13850.000000  13853.000000   \n",
              "mean      26.791092   24692.173609            1.591119   2018.188190   \n",
              "std       13.817296   18407.759898            0.491645      2.347429   \n",
              "min        1.000000    4000.000000            1.000000   2012.000000   \n",
              "25%       14.000000   15700.000000            1.000000   2017.000000   \n",
              "50%       28.000000   20900.000000            2.000000   2018.000000   \n",
              "75%       38.000000   27990.000000            2.000000   2020.000000   \n",
              "max       52.000000  450000.000000            2.000000   2022.000000   \n",
              "\n",
              "       seller_type_id  body_types_id  cubicCapacity         doors  \\\n",
              "count     2008.000000    1965.000000   13383.000000  13842.000000   \n",
              "mean         1.095120       4.040712    1697.940596      4.770770   \n",
              "std          0.293453       2.296586     553.938153      0.645753   \n",
              "min          1.000000       1.000000     647.000000      2.000000   \n",
              "25%          1.000000       1.000000    1395.000000      5.000000   \n",
              "50%          1.000000       6.000000    1596.000000      5.000000   \n",
              "75%          1.000000       6.000000    1995.000000      5.000000   \n",
              "max          2.000000       6.000000    6496.000000      5.000000   \n",
              "\n",
              "                 hp      brand_id      model_id  \n",
              "count  13614.000000  10807.000000  10798.000000  \n",
              "mean     149.978772     82.903581    688.657159  \n",
              "std       76.239499    241.278013    440.288107  \n",
              "min       60.000000      1.000000      2.000000  \n",
              "25%      110.000000     22.000000    275.000000  \n",
              "50%      130.000000     32.000000    628.000000  \n",
              "75%      160.000000     40.000000   1100.000000  \n",
              "max      800.000000   1400.000000   1442.000000  "
            ],
            "text/html": [
              "\n",
              "  <div id=\"df-038a3c9c-b880-41a3-bc4f-9f63b22496d5\">\n",
              "    <div class=\"colab-df-container\">\n",
              "      <div>\n",
              "<style scoped>\n",
              "    .dataframe tbody tr th:only-of-type {\n",
              "        vertical-align: middle;\n",
              "    }\n",
              "\n",
              "    .dataframe tbody tr th {\n",
              "        vertical-align: top;\n",
              "    }\n",
              "\n",
              "    .dataframe thead th {\n",
              "        text-align: right;\n",
              "    }\n",
              "</style>\n",
              "<table border=\"1\" class=\"dataframe\">\n",
              "  <thead>\n",
              "    <tr style=\"text-align: right;\">\n",
              "      <th></th>\n",
              "      <th>Unnamed: 0</th>\n",
              "      <th>fuelTypeId</th>\n",
              "      <th>km</th>\n",
              "      <th>makeId</th>\n",
              "      <th>modelId</th>\n",
              "      <th>provinceId</th>\n",
              "      <th>price</th>\n",
              "      <th>transmissionTypeId</th>\n",
              "      <th>year</th>\n",
              "      <th>seller_type_id</th>\n",
              "      <th>body_types_id</th>\n",
              "      <th>cubicCapacity</th>\n",
              "      <th>doors</th>\n",
              "      <th>hp</th>\n",
              "      <th>brand_id</th>\n",
              "      <th>model_id</th>\n",
              "    </tr>\n",
              "  </thead>\n",
              "  <tbody>\n",
              "    <tr>\n",
              "      <th>count</th>\n",
              "      <td>2014.000000</td>\n",
              "      <td>13853.000000</td>\n",
              "      <td>13853.000000</td>\n",
              "      <td>13853.000000</td>\n",
              "      <td>13842.00000</td>\n",
              "      <td>13853.000000</td>\n",
              "      <td>13853.000000</td>\n",
              "      <td>13850.000000</td>\n",
              "      <td>13853.000000</td>\n",
              "      <td>2008.000000</td>\n",
              "      <td>1965.000000</td>\n",
              "      <td>13383.000000</td>\n",
              "      <td>13842.000000</td>\n",
              "      <td>13614.000000</td>\n",
              "      <td>10807.000000</td>\n",
              "      <td>10798.000000</td>\n",
              "    </tr>\n",
              "    <tr>\n",
              "      <th>mean</th>\n",
              "      <td>1006.500000</td>\n",
              "      <td>1.698405</td>\n",
              "      <td>73631.588826</td>\n",
              "      <td>67.421281</td>\n",
              "      <td>700.10013</td>\n",
              "      <td>26.791092</td>\n",
              "      <td>24692.173609</td>\n",
              "      <td>1.591119</td>\n",
              "      <td>2018.188190</td>\n",
              "      <td>1.095120</td>\n",
              "      <td>4.040712</td>\n",
              "      <td>1697.940596</td>\n",
              "      <td>4.770770</td>\n",
              "      <td>149.978772</td>\n",
              "      <td>82.903581</td>\n",
              "      <td>688.657159</td>\n",
              "    </tr>\n",
              "    <tr>\n",
              "      <th>std</th>\n",
              "      <td>581.536041</td>\n",
              "      <td>0.986918</td>\n",
              "      <td>42334.050002</td>\n",
              "      <td>215.144161</td>\n",
              "      <td>432.62635</td>\n",
              "      <td>13.817296</td>\n",
              "      <td>18407.759898</td>\n",
              "      <td>0.491645</td>\n",
              "      <td>2.347429</td>\n",
              "      <td>0.293453</td>\n",
              "      <td>2.296586</td>\n",
              "      <td>553.938153</td>\n",
              "      <td>0.645753</td>\n",
              "      <td>76.239499</td>\n",
              "      <td>241.278013</td>\n",
              "      <td>440.288107</td>\n",
              "    </tr>\n",
              "    <tr>\n",
              "      <th>min</th>\n",
              "      <td>0.000000</td>\n",
              "      <td>1.000000</td>\n",
              "      <td>10000.000000</td>\n",
              "      <td>1.000000</td>\n",
              "      <td>2.00000</td>\n",
              "      <td>1.000000</td>\n",
              "      <td>4000.000000</td>\n",
              "      <td>1.000000</td>\n",
              "      <td>2012.000000</td>\n",
              "      <td>1.000000</td>\n",
              "      <td>1.000000</td>\n",
              "      <td>647.000000</td>\n",
              "      <td>2.000000</td>\n",
              "      <td>60.000000</td>\n",
              "      <td>1.000000</td>\n",
              "      <td>2.000000</td>\n",
              "    </tr>\n",
              "    <tr>\n",
              "      <th>25%</th>\n",
              "      <td>503.250000</td>\n",
              "      <td>1.000000</td>\n",
              "      <td>38700.000000</td>\n",
              "      <td>15.000000</td>\n",
              "      <td>345.00000</td>\n",
              "      <td>14.000000</td>\n",
              "      <td>15700.000000</td>\n",
              "      <td>1.000000</td>\n",
              "      <td>2017.000000</td>\n",
              "      <td>1.000000</td>\n",
              "      <td>1.000000</td>\n",
              "      <td>1395.000000</td>\n",
              "      <td>5.000000</td>\n",
              "      <td>110.000000</td>\n",
              "      <td>22.000000</td>\n",
              "      <td>275.000000</td>\n",
              "    </tr>\n",
              "    <tr>\n",
              "      <th>50%</th>\n",
              "      <td>1006.500000</td>\n",
              "      <td>1.000000</td>\n",
              "      <td>68408.000000</td>\n",
              "      <td>28.000000</td>\n",
              "      <td>678.00000</td>\n",
              "      <td>28.000000</td>\n",
              "      <td>20900.000000</td>\n",
              "      <td>2.000000</td>\n",
              "      <td>2018.000000</td>\n",
              "      <td>1.000000</td>\n",
              "      <td>6.000000</td>\n",
              "      <td>1596.000000</td>\n",
              "      <td>5.000000</td>\n",
              "      <td>130.000000</td>\n",
              "      <td>32.000000</td>\n",
              "      <td>628.000000</td>\n",
              "    </tr>\n",
              "    <tr>\n",
              "      <th>75%</th>\n",
              "      <td>1509.750000</td>\n",
              "      <td>2.000000</td>\n",
              "      <td>100712.000000</td>\n",
              "      <td>35.000000</td>\n",
              "      <td>1097.00000</td>\n",
              "      <td>38.000000</td>\n",
              "      <td>27990.000000</td>\n",
              "      <td>2.000000</td>\n",
              "      <td>2020.000000</td>\n",
              "      <td>1.000000</td>\n",
              "      <td>6.000000</td>\n",
              "      <td>1995.000000</td>\n",
              "      <td>5.000000</td>\n",
              "      <td>160.000000</td>\n",
              "      <td>40.000000</td>\n",
              "      <td>1100.000000</td>\n",
              "    </tr>\n",
              "    <tr>\n",
              "      <th>max</th>\n",
              "      <td>2013.000000</td>\n",
              "      <td>7.000000</td>\n",
              "      <td>180000.000000</td>\n",
              "      <td>1400.000000</td>\n",
              "      <td>1442.00000</td>\n",
              "      <td>52.000000</td>\n",
              "      <td>450000.000000</td>\n",
              "      <td>2.000000</td>\n",
              "      <td>2022.000000</td>\n",
              "      <td>2.000000</td>\n",
              "      <td>6.000000</td>\n",
              "      <td>6496.000000</td>\n",
              "      <td>5.000000</td>\n",
              "      <td>800.000000</td>\n",
              "      <td>1400.000000</td>\n",
              "      <td>1442.000000</td>\n",
              "    </tr>\n",
              "  </tbody>\n",
              "</table>\n",
              "</div>\n",
              "      <button class=\"colab-df-convert\" onclick=\"convertToInteractive('df-038a3c9c-b880-41a3-bc4f-9f63b22496d5')\"\n",
              "              title=\"Convert this dataframe to an interactive table.\"\n",
              "              style=\"display:none;\">\n",
              "        \n",
              "  <svg xmlns=\"http://www.w3.org/2000/svg\" height=\"24px\"viewBox=\"0 0 24 24\"\n",
              "       width=\"24px\">\n",
              "    <path d=\"M0 0h24v24H0V0z\" fill=\"none\"/>\n",
              "    <path d=\"M18.56 5.44l.94 2.06.94-2.06 2.06-.94-2.06-.94-.94-2.06-.94 2.06-2.06.94zm-11 1L8.5 8.5l.94-2.06 2.06-.94-2.06-.94L8.5 2.5l-.94 2.06-2.06.94zm10 10l.94 2.06.94-2.06 2.06-.94-2.06-.94-.94-2.06-.94 2.06-2.06.94z\"/><path d=\"M17.41 7.96l-1.37-1.37c-.4-.4-.92-.59-1.43-.59-.52 0-1.04.2-1.43.59L10.3 9.45l-7.72 7.72c-.78.78-.78 2.05 0 2.83L4 21.41c.39.39.9.59 1.41.59.51 0 1.02-.2 1.41-.59l7.78-7.78 2.81-2.81c.8-.78.8-2.07 0-2.86zM5.41 20L4 18.59l7.72-7.72 1.47 1.35L5.41 20z\"/>\n",
              "  </svg>\n",
              "      </button>\n",
              "      \n",
              "  <style>\n",
              "    .colab-df-container {\n",
              "      display:flex;\n",
              "      flex-wrap:wrap;\n",
              "      gap: 12px;\n",
              "    }\n",
              "\n",
              "    .colab-df-convert {\n",
              "      background-color: #E8F0FE;\n",
              "      border: none;\n",
              "      border-radius: 50%;\n",
              "      cursor: pointer;\n",
              "      display: none;\n",
              "      fill: #1967D2;\n",
              "      height: 32px;\n",
              "      padding: 0 0 0 0;\n",
              "      width: 32px;\n",
              "    }\n",
              "\n",
              "    .colab-df-convert:hover {\n",
              "      background-color: #E2EBFA;\n",
              "      box-shadow: 0px 1px 2px rgba(60, 64, 67, 0.3), 0px 1px 3px 1px rgba(60, 64, 67, 0.15);\n",
              "      fill: #174EA6;\n",
              "    }\n",
              "\n",
              "    [theme=dark] .colab-df-convert {\n",
              "      background-color: #3B4455;\n",
              "      fill: #D2E3FC;\n",
              "    }\n",
              "\n",
              "    [theme=dark] .colab-df-convert:hover {\n",
              "      background-color: #434B5C;\n",
              "      box-shadow: 0px 1px 3px 1px rgba(0, 0, 0, 0.15);\n",
              "      filter: drop-shadow(0px 1px 2px rgba(0, 0, 0, 0.3));\n",
              "      fill: #FFFFFF;\n",
              "    }\n",
              "  </style>\n",
              "\n",
              "      <script>\n",
              "        const buttonEl =\n",
              "          document.querySelector('#df-038a3c9c-b880-41a3-bc4f-9f63b22496d5 button.colab-df-convert');\n",
              "        buttonEl.style.display =\n",
              "          google.colab.kernel.accessAllowed ? 'block' : 'none';\n",
              "\n",
              "        async function convertToInteractive(key) {\n",
              "          const element = document.querySelector('#df-038a3c9c-b880-41a3-bc4f-9f63b22496d5');\n",
              "          const dataTable =\n",
              "            await google.colab.kernel.invokeFunction('convertToInteractive',\n",
              "                                                     [key], {});\n",
              "          if (!dataTable) return;\n",
              "\n",
              "          const docLinkHtml = 'Like what you see? Visit the ' +\n",
              "            '<a target=\"_blank\" href=https://colab.research.google.com/notebooks/data_table.ipynb>data table notebook</a>'\n",
              "            + ' to learn more about interactive tables.';\n",
              "          element.innerHTML = '';\n",
              "          dataTable['output_type'] = 'display_data';\n",
              "          await google.colab.output.renderOutput(dataTable, element);\n",
              "          const docLink = document.createElement('div');\n",
              "          docLink.innerHTML = docLinkHtml;\n",
              "          element.appendChild(docLink);\n",
              "        }\n",
              "      </script>\n",
              "    </div>\n",
              "  </div>\n",
              "  "
            ]
          },
          "metadata": {},
          "execution_count": 11
        }
      ]
    },
    {
      "cell_type": "markdown",
      "source": [
        "# 3. Preparación de datos."
      ],
      "metadata": {
        "id": "9GIN9F7wczQz"
      }
    },
    {
      "cell_type": "code",
      "source": [
        "pd.isnull(df).any()"
      ],
      "metadata": {
        "colab": {
          "base_uri": "https://localhost:8080/"
        },
        "outputId": "410c24de-dbec-43d7-b0bf-fac256656d7c",
        "id": "6kaelR_Yxjzb"
      },
      "execution_count": 12,
      "outputs": [
        {
          "output_type": "execute_result",
          "data": {
            "text/plain": [
              "Unnamed: 0             True\n",
              "fuelType               True\n",
              "fuelTypeId             True\n",
              "color                  True\n",
              "id                     True\n",
              "km                     True\n",
              "make                   True\n",
              "makeId                 True\n",
              "model                  True\n",
              "modelId                True\n",
              "province               True\n",
              "provinceId             True\n",
              "price                  True\n",
              "title                  True\n",
              "transmissionType       True\n",
              "transmissionTypeId     True\n",
              "year                   True\n",
              "seller_type            True\n",
              "seller_type_id         True\n",
              "body_types             True\n",
              "body_types_id          True\n",
              "cubicCapacity          True\n",
              "doors                  True\n",
              "hp                     True\n",
              "url                   False\n",
              "date                   True\n",
              "datetime               True\n",
              "brand                  True\n",
              "brand_id               True\n",
              "fuel_types             True\n",
              "model_id               True\n",
              "bodyType               True\n",
              "publicationDate        True\n",
              "fecha                  True\n",
              "dtype: bool"
            ]
          },
          "metadata": {},
          "execution_count": 12
        }
      ]
    },
    {
      "cell_type": "code",
      "source": [
        "columns_without_values(df)"
      ],
      "metadata": {
        "colab": {
          "base_uri": "https://localhost:8080/"
        },
        "outputId": "effc5ccb-0e5c-46ef-a147-801f3a831cd7",
        "id": "yTJSH4svxjzc"
      },
      "execution_count": 13,
      "outputs": [
        {
          "output_type": "stream",
          "name": "stdout",
          "text": [
            "Unnamed: 0            11845\n",
            "fuelType                  6\n",
            "fuelTypeId                6\n",
            "color                     8\n",
            "id                        6\n",
            "km                        6\n",
            "make                      6\n",
            "makeId                    6\n",
            "model                     6\n",
            "modelId                  17\n",
            "province                  6\n",
            "provinceId                6\n",
            "price                     6\n",
            "title                     6\n",
            "transmissionType          9\n",
            "transmissionTypeId        9\n",
            "year                      6\n",
            "seller_type               6\n",
            "seller_type_id        11851\n",
            "body_types            11894\n",
            "body_types_id         11894\n",
            "cubicCapacity           476\n",
            "doors                    17\n",
            "hp                      245\n",
            "date                  11845\n",
            "datetime               3622\n",
            "brand                  3052\n",
            "brand_id               3052\n",
            "fuel_types             3052\n",
            "model_id               3061\n",
            "bodyType               2204\n",
            "publicationDate       12821\n",
            "fecha                 12821\n",
            "dtype: int64\n"
          ]
        }
      ]
    },
    {
      "cell_type": "code",
      "source": [
        "df = df.drop_duplicates(keep='first')"
      ],
      "metadata": {
        "id": "Y9lhpyWjc2dB"
      },
      "execution_count": 14,
      "outputs": []
    },
    {
      "cell_type": "code",
      "source": [
        "posibles_bodyType = ['BODY_TYPE_4X4', 'BODY_TYPE_CABRIO', 'BODY_TYPE_COUPE', 'BODY_TYPE_FAMILIAR', 'BODY_TYPE_MINIVAN', 'BODY_TYPE_PICK_UP', 'BODY_TYPE_SEDAN', 'BODY_TYPE_BERLINA']\n",
        "posibles_body_types = ['4x4 suv', 'cabrio', 'coupe', 'familiar', 'minivan', 'pick up', 'sedan', 'berlina']\n",
        "for x, y in zip(posibles_bodyType, posibles_body_types):\n",
        "  df['bodyType'] = df.apply(lambda row: x if pd.notnull(row['bodyType']) and row['bodyType'].lower() == y else row['bodyType'], axis=1)"
      ],
      "metadata": {
        "id": "U5dU1L0p2xpB",
        "colab": {
          "base_uri": "https://localhost:8080/"
        },
        "outputId": "62ef6e6f-756f-47c1-e26e-4bc2a4019cdd"
      },
      "execution_count": 15,
      "outputs": [
        {
          "output_type": "stream",
          "name": "stderr",
          "text": [
            "<ipython-input-15-0f6c81b0d6d1>:4: SettingWithCopyWarning: \n",
            "A value is trying to be set on a copy of a slice from a DataFrame.\n",
            "Try using .loc[row_indexer,col_indexer] = value instead\n",
            "\n",
            "See the caveats in the documentation: https://pandas.pydata.org/pandas-docs/stable/user_guide/indexing.html#returning-a-view-versus-a-copy\n",
            "  df['bodyType'] = df.apply(lambda row: x if pd.notnull(row['bodyType']) and row['bodyType'].lower() == y else row['bodyType'], axis=1)\n",
            "<ipython-input-15-0f6c81b0d6d1>:4: SettingWithCopyWarning: \n",
            "A value is trying to be set on a copy of a slice from a DataFrame.\n",
            "Try using .loc[row_indexer,col_indexer] = value instead\n",
            "\n",
            "See the caveats in the documentation: https://pandas.pydata.org/pandas-docs/stable/user_guide/indexing.html#returning-a-view-versus-a-copy\n",
            "  df['bodyType'] = df.apply(lambda row: x if pd.notnull(row['bodyType']) and row['bodyType'].lower() == y else row['bodyType'], axis=1)\n",
            "<ipython-input-15-0f6c81b0d6d1>:4: SettingWithCopyWarning: \n",
            "A value is trying to be set on a copy of a slice from a DataFrame.\n",
            "Try using .loc[row_indexer,col_indexer] = value instead\n",
            "\n",
            "See the caveats in the documentation: https://pandas.pydata.org/pandas-docs/stable/user_guide/indexing.html#returning-a-view-versus-a-copy\n",
            "  df['bodyType'] = df.apply(lambda row: x if pd.notnull(row['bodyType']) and row['bodyType'].lower() == y else row['bodyType'], axis=1)\n",
            "<ipython-input-15-0f6c81b0d6d1>:4: SettingWithCopyWarning: \n",
            "A value is trying to be set on a copy of a slice from a DataFrame.\n",
            "Try using .loc[row_indexer,col_indexer] = value instead\n",
            "\n",
            "See the caveats in the documentation: https://pandas.pydata.org/pandas-docs/stable/user_guide/indexing.html#returning-a-view-versus-a-copy\n",
            "  df['bodyType'] = df.apply(lambda row: x if pd.notnull(row['bodyType']) and row['bodyType'].lower() == y else row['bodyType'], axis=1)\n",
            "<ipython-input-15-0f6c81b0d6d1>:4: SettingWithCopyWarning: \n",
            "A value is trying to be set on a copy of a slice from a DataFrame.\n",
            "Try using .loc[row_indexer,col_indexer] = value instead\n",
            "\n",
            "See the caveats in the documentation: https://pandas.pydata.org/pandas-docs/stable/user_guide/indexing.html#returning-a-view-versus-a-copy\n",
            "  df['bodyType'] = df.apply(lambda row: x if pd.notnull(row['bodyType']) and row['bodyType'].lower() == y else row['bodyType'], axis=1)\n",
            "<ipython-input-15-0f6c81b0d6d1>:4: SettingWithCopyWarning: \n",
            "A value is trying to be set on a copy of a slice from a DataFrame.\n",
            "Try using .loc[row_indexer,col_indexer] = value instead\n",
            "\n",
            "See the caveats in the documentation: https://pandas.pydata.org/pandas-docs/stable/user_guide/indexing.html#returning-a-view-versus-a-copy\n",
            "  df['bodyType'] = df.apply(lambda row: x if pd.notnull(row['bodyType']) and row['bodyType'].lower() == y else row['bodyType'], axis=1)\n",
            "<ipython-input-15-0f6c81b0d6d1>:4: SettingWithCopyWarning: \n",
            "A value is trying to be set on a copy of a slice from a DataFrame.\n",
            "Try using .loc[row_indexer,col_indexer] = value instead\n",
            "\n",
            "See the caveats in the documentation: https://pandas.pydata.org/pandas-docs/stable/user_guide/indexing.html#returning-a-view-versus-a-copy\n",
            "  df['bodyType'] = df.apply(lambda row: x if pd.notnull(row['bodyType']) and row['bodyType'].lower() == y else row['bodyType'], axis=1)\n",
            "<ipython-input-15-0f6c81b0d6d1>:4: SettingWithCopyWarning: \n",
            "A value is trying to be set on a copy of a slice from a DataFrame.\n",
            "Try using .loc[row_indexer,col_indexer] = value instead\n",
            "\n",
            "See the caveats in the documentation: https://pandas.pydata.org/pandas-docs/stable/user_guide/indexing.html#returning-a-view-versus-a-copy\n",
            "  df['bodyType'] = df.apply(lambda row: x if pd.notnull(row['bodyType']) and row['bodyType'].lower() == y else row['bodyType'], axis=1)\n"
          ]
        }
      ]
    },
    {
      "cell_type": "code",
      "source": [
        "for x, y in zip(posibles_bodyType, posibles_body_types):\n",
        "  df['bodyType'] = df.apply(lambda row: x if pd.notnull(row['bodyType']) and row['bodyType'].lower() == y else row['bodyType'], axis=1)"
      ],
      "metadata": {
        "id": "KEUv__0EOGxb",
        "colab": {
          "base_uri": "https://localhost:8080/"
        },
        "outputId": "aae40801-107f-41fd-c5aa-f7cfe8ed84d5"
      },
      "execution_count": 16,
      "outputs": [
        {
          "output_type": "stream",
          "name": "stderr",
          "text": [
            "<ipython-input-16-14874f05b12a>:2: SettingWithCopyWarning: \n",
            "A value is trying to be set on a copy of a slice from a DataFrame.\n",
            "Try using .loc[row_indexer,col_indexer] = value instead\n",
            "\n",
            "See the caveats in the documentation: https://pandas.pydata.org/pandas-docs/stable/user_guide/indexing.html#returning-a-view-versus-a-copy\n",
            "  df['bodyType'] = df.apply(lambda row: x if pd.notnull(row['bodyType']) and row['bodyType'].lower() == y else row['bodyType'], axis=1)\n",
            "<ipython-input-16-14874f05b12a>:2: SettingWithCopyWarning: \n",
            "A value is trying to be set on a copy of a slice from a DataFrame.\n",
            "Try using .loc[row_indexer,col_indexer] = value instead\n",
            "\n",
            "See the caveats in the documentation: https://pandas.pydata.org/pandas-docs/stable/user_guide/indexing.html#returning-a-view-versus-a-copy\n",
            "  df['bodyType'] = df.apply(lambda row: x if pd.notnull(row['bodyType']) and row['bodyType'].lower() == y else row['bodyType'], axis=1)\n",
            "<ipython-input-16-14874f05b12a>:2: SettingWithCopyWarning: \n",
            "A value is trying to be set on a copy of a slice from a DataFrame.\n",
            "Try using .loc[row_indexer,col_indexer] = value instead\n",
            "\n",
            "See the caveats in the documentation: https://pandas.pydata.org/pandas-docs/stable/user_guide/indexing.html#returning-a-view-versus-a-copy\n",
            "  df['bodyType'] = df.apply(lambda row: x if pd.notnull(row['bodyType']) and row['bodyType'].lower() == y else row['bodyType'], axis=1)\n",
            "<ipython-input-16-14874f05b12a>:2: SettingWithCopyWarning: \n",
            "A value is trying to be set on a copy of a slice from a DataFrame.\n",
            "Try using .loc[row_indexer,col_indexer] = value instead\n",
            "\n",
            "See the caveats in the documentation: https://pandas.pydata.org/pandas-docs/stable/user_guide/indexing.html#returning-a-view-versus-a-copy\n",
            "  df['bodyType'] = df.apply(lambda row: x if pd.notnull(row['bodyType']) and row['bodyType'].lower() == y else row['bodyType'], axis=1)\n",
            "<ipython-input-16-14874f05b12a>:2: SettingWithCopyWarning: \n",
            "A value is trying to be set on a copy of a slice from a DataFrame.\n",
            "Try using .loc[row_indexer,col_indexer] = value instead\n",
            "\n",
            "See the caveats in the documentation: https://pandas.pydata.org/pandas-docs/stable/user_guide/indexing.html#returning-a-view-versus-a-copy\n",
            "  df['bodyType'] = df.apply(lambda row: x if pd.notnull(row['bodyType']) and row['bodyType'].lower() == y else row['bodyType'], axis=1)\n",
            "<ipython-input-16-14874f05b12a>:2: SettingWithCopyWarning: \n",
            "A value is trying to be set on a copy of a slice from a DataFrame.\n",
            "Try using .loc[row_indexer,col_indexer] = value instead\n",
            "\n",
            "See the caveats in the documentation: https://pandas.pydata.org/pandas-docs/stable/user_guide/indexing.html#returning-a-view-versus-a-copy\n",
            "  df['bodyType'] = df.apply(lambda row: x if pd.notnull(row['bodyType']) and row['bodyType'].lower() == y else row['bodyType'], axis=1)\n",
            "<ipython-input-16-14874f05b12a>:2: SettingWithCopyWarning: \n",
            "A value is trying to be set on a copy of a slice from a DataFrame.\n",
            "Try using .loc[row_indexer,col_indexer] = value instead\n",
            "\n",
            "See the caveats in the documentation: https://pandas.pydata.org/pandas-docs/stable/user_guide/indexing.html#returning-a-view-versus-a-copy\n",
            "  df['bodyType'] = df.apply(lambda row: x if pd.notnull(row['bodyType']) and row['bodyType'].lower() == y else row['bodyType'], axis=1)\n",
            "<ipython-input-16-14874f05b12a>:2: SettingWithCopyWarning: \n",
            "A value is trying to be set on a copy of a slice from a DataFrame.\n",
            "Try using .loc[row_indexer,col_indexer] = value instead\n",
            "\n",
            "See the caveats in the documentation: https://pandas.pydata.org/pandas-docs/stable/user_guide/indexing.html#returning-a-view-versus-a-copy\n",
            "  df['bodyType'] = df.apply(lambda row: x if pd.notnull(row['bodyType']) and row['bodyType'].lower() == y else row['bodyType'], axis=1)\n"
          ]
        }
      ]
    },
    {
      "cell_type": "code",
      "source": [
        "df['color'] = df['color'].apply(lambda x: str(x).split('.')[-1] if 'COMMON' in str(x) \n",
        "                                else f'COLOR_{x}' if not pd.isna(x) \n",
        "                                else x)"
      ],
      "metadata": {
        "id": "CgYA79WK26GM",
        "colab": {
          "base_uri": "https://localhost:8080/"
        },
        "outputId": "3b951659-4205-49e9-fd11-43057aa5a925"
      },
      "execution_count": 17,
      "outputs": [
        {
          "output_type": "stream",
          "name": "stderr",
          "text": [
            "<ipython-input-17-458298c35486>:1: SettingWithCopyWarning: \n",
            "A value is trying to be set on a copy of a slice from a DataFrame.\n",
            "Try using .loc[row_indexer,col_indexer] = value instead\n",
            "\n",
            "See the caveats in the documentation: https://pandas.pydata.org/pandas-docs/stable/user_guide/indexing.html#returning-a-view-versus-a-copy\n",
            "  df['color'] = df['color'].apply(lambda x: str(x).split('.')[-1] if 'COMMON' in str(x)\n"
          ]
        }
      ]
    },
    {
      "cell_type": "code",
      "source": [
        "df['transmissionType'] = df['transmissionType'].apply(lambda x: 'TRANSMISSION_AUTOMATIC' if 'AUTOMATIC' in str(x) else 'TRANSMISSION_MANUAL' if not pd.isna(x) else x )"
      ],
      "metadata": {
        "id": "ive_gI9SQ85g",
        "colab": {
          "base_uri": "https://localhost:8080/"
        },
        "outputId": "d0d02de7-17a7-4aa1-a89e-1a042c20d448"
      },
      "execution_count": 18,
      "outputs": [
        {
          "output_type": "stream",
          "name": "stderr",
          "text": [
            "<ipython-input-18-2f866030aa60>:1: SettingWithCopyWarning: \n",
            "A value is trying to be set on a copy of a slice from a DataFrame.\n",
            "Try using .loc[row_indexer,col_indexer] = value instead\n",
            "\n",
            "See the caveats in the documentation: https://pandas.pydata.org/pandas-docs/stable/user_guide/indexing.html#returning-a-view-versus-a-copy\n",
            "  df['transmissionType'] = df['transmissionType'].apply(lambda x: 'TRANSMISSION_AUTOMATIC' if 'AUTOMATIC' in str(x) else 'TRANSMISSION_MANUAL' if not pd.isna(x) else x )\n"
          ]
        }
      ]
    },
    {
      "cell_type": "code",
      "source": [
        "df = df.drop(['url', 'modelId', 'datetime', 'date', 'fecha', 'Unnamed: 0', 'seller_type_id', 'id', 'publicationDate', 'fuel_types', 'model_id', 'brand', 'brand_id', 'body_types_id', 'title', 'body_types', 'transmissionTypeId', 'fuelTypeId', 'makeId', 'provinceId', ], axis=1)"
      ],
      "metadata": {
        "id": "dUE3xzSWuFn_"
      },
      "execution_count": 19,
      "outputs": []
    },
    {
      "cell_type": "code",
      "source": [
        "df = df.dropna(how='all')"
      ],
      "metadata": {
        "id": "gklUN-3fJmyI"
      },
      "execution_count": 20,
      "outputs": []
    },
    {
      "cell_type": "code",
      "source": [
        "pd.isnull(df).any()"
      ],
      "metadata": {
        "id": "5vJ7AK5JdEVy",
        "colab": {
          "base_uri": "https://localhost:8080/"
        },
        "outputId": "ba7c47bd-907c-4ddb-eb08-5155c2ae108d"
      },
      "execution_count": 21,
      "outputs": [
        {
          "output_type": "execute_result",
          "data": {
            "text/plain": [
              "fuelType            False\n",
              "color                True\n",
              "km                  False\n",
              "make                False\n",
              "model               False\n",
              "province            False\n",
              "price               False\n",
              "transmissionType     True\n",
              "year                False\n",
              "seller_type         False\n",
              "cubicCapacity        True\n",
              "doors                True\n",
              "hp                   True\n",
              "bodyType             True\n",
              "dtype: bool"
            ]
          },
          "metadata": {},
          "execution_count": 21
        }
      ]
    },
    {
      "cell_type": "code",
      "source": [
        "columns_without_values(df)"
      ],
      "metadata": {
        "id": "J8lo7MGSdG99",
        "colab": {
          "base_uri": "https://localhost:8080/"
        },
        "outputId": "c7c2fbf0-5efb-4a49-cf60-f9307b8d5c1c"
      },
      "execution_count": 22,
      "outputs": [
        {
          "output_type": "stream",
          "name": "stdout",
          "text": [
            "color                  2\n",
            "transmissionType       3\n",
            "cubicCapacity        467\n",
            "doors                 11\n",
            "hp                   239\n",
            "bodyType            2198\n",
            "dtype: int64\n"
          ]
        }
      ]
    },
    {
      "cell_type": "code",
      "source": [
        "df.fillna(df.mode().iloc[0], inplace=True)"
      ],
      "metadata": {
        "id": "sSpBBKbNd3_P",
        "colab": {
          "base_uri": "https://localhost:8080/"
        },
        "outputId": "8738fd83-3a0a-4376-fe7b-e6e3ea2034a9"
      },
      "execution_count": 23,
      "outputs": [
        {
          "output_type": "stream",
          "name": "stderr",
          "text": [
            "<ipython-input-23-d1fbed903f79>:1: SettingWithCopyWarning: \n",
            "A value is trying to be set on a copy of a slice from a DataFrame.\n",
            "Try using .loc[row_indexer,col_indexer] = value instead\n",
            "\n",
            "See the caveats in the documentation: https://pandas.pydata.org/pandas-docs/stable/user_guide/indexing.html#returning-a-view-versus-a-copy\n",
            "  df.fillna(df.mode().iloc[0], inplace=True)\n"
          ]
        }
      ]
    },
    {
      "cell_type": "code",
      "source": [
        "pd.isnull(df).any()"
      ],
      "metadata": {
        "id": "3BHlHe3Sd8Q-",
        "colab": {
          "base_uri": "https://localhost:8080/"
        },
        "outputId": "0aac517f-054a-4411-c122-658692bd3991"
      },
      "execution_count": 24,
      "outputs": [
        {
          "output_type": "execute_result",
          "data": {
            "text/plain": [
              "fuelType            False\n",
              "color               False\n",
              "km                  False\n",
              "make                False\n",
              "model               False\n",
              "province            False\n",
              "price               False\n",
              "transmissionType    False\n",
              "year                False\n",
              "seller_type         False\n",
              "cubicCapacity       False\n",
              "doors               False\n",
              "hp                  False\n",
              "bodyType            False\n",
              "dtype: bool"
            ]
          },
          "metadata": {},
          "execution_count": 24
        }
      ]
    },
    {
      "cell_type": "code",
      "source": [
        "df.reset_index(drop=True, inplace=True)"
      ],
      "metadata": {
        "id": "YoHhMI8xeLqB"
      },
      "execution_count": 25,
      "outputs": []
    },
    {
      "cell_type": "markdown",
      "source": [
        "# 4. Nomalización de los datos."
      ],
      "metadata": {
        "id": "p2p0Tmxje6ZH"
      }
    },
    {
      "cell_type": "code",
      "source": [
        "campos_numericos = []\n",
        "\n",
        "campos_categoricos = []\n",
        "for columna in df.columns:\n",
        "    if df[columna].dtype == 'int64' or df[columna].dtype == 'float64':\n",
        "        campos_numericos.append(columna)\n",
        "    else:\n",
        "        campos_categoricos.append(columna)\n",
        "\n",
        "campos_numericos.remove('price')\n",
        "print('campos_numericos',campos_numericos)\n",
        "\n",
        "print('campos_categoricos', campos_categoricos)\n",
        "\n",
        "all_feature_names = campos_numericos + campos_categoricos\n",
        "print('all_features_name', all_feature_names)\n",
        "\n",
        "target = 'price'"
      ],
      "metadata": {
        "id": "OPgyPSMAe_2w",
        "colab": {
          "base_uri": "https://localhost:8080/"
        },
        "outputId": "592d7a84-3c23-4e18-9030-2228ba157157"
      },
      "execution_count": 26,
      "outputs": [
        {
          "output_type": "stream",
          "name": "stdout",
          "text": [
            "campos_numericos ['km', 'year', 'cubicCapacity', 'doors', 'hp']\n",
            "campos_categoricos ['fuelType', 'color', 'make', 'model', 'province', 'transmissionType', 'seller_type', 'bodyType']\n",
            "all_features_name ['km', 'year', 'cubicCapacity', 'doors', 'hp', 'fuelType', 'color', 'make', 'model', 'province', 'transmissionType', 'seller_type', 'bodyType']\n"
          ]
        }
      ]
    },
    {
      "cell_type": "code",
      "source": [
        "df[df.columns.tolist()].hist(ax = plt.figure(figsize = (15, 15)).gca())"
      ],
      "metadata": {
        "id": "aotohupLfsUM",
        "colab": {
          "base_uri": "https://localhost:8080/",
          "height": 961
        },
        "outputId": "3606c69a-4973-4870-c56f-86a73f82b08f"
      },
      "execution_count": 27,
      "outputs": [
        {
          "output_type": "stream",
          "name": "stderr",
          "text": [
            "<ipython-input-27-41f6ce8af5f0>:1: UserWarning: To output multiple subplots, the figure containing the passed axes is being cleared.\n",
            "  df[df.columns.tolist()].hist(ax = plt.figure(figsize = (15, 15)).gca())\n"
          ]
        },
        {
          "output_type": "execute_result",
          "data": {
            "text/plain": [
              "array([[<Axes: title={'center': 'km'}>,\n",
              "        <Axes: title={'center': 'price'}>],\n",
              "       [<Axes: title={'center': 'year'}>,\n",
              "        <Axes: title={'center': 'cubicCapacity'}>],\n",
              "       [<Axes: title={'center': 'doors'}>,\n",
              "        <Axes: title={'center': 'hp'}>]], dtype=object)"
            ]
          },
          "metadata": {},
          "execution_count": 27
        },
        {
          "output_type": "display_data",
          "data": {
            "text/plain": [
              "<Figure size 1500x1500 with 6 Axes>"
            ],
            "image/png": "[encoded data removed]"
          },
          "metadata": {}
        }
      ]
    },
    {
      "cell_type": "code",
      "source": [
        "sns.boxplot(df)\n",
        "sns.stripplot(df, color = '#474646')\n",
        "plt.title('Diagrama de cajas')\n",
        "plt.show()"
      ],
      "metadata": {
        "id": "zIKf5Vn5fyEe",
        "colab": {
          "base_uri": "https://localhost:8080/",
          "height": 507
        },
        "outputId": "53327757-ab79-4e84-e1e1-0c2bd2f1427e"
      },
      "execution_count": 28,
      "outputs": [
        {
          "output_type": "stream",
          "name": "stderr",
          "text": [
            "/usr/local/lib/python3.10/dist-packages/seaborn/categorical.py:166: FutureWarning: Setting a gradient palette using color= is deprecated and will be removed in version 0.13. Set `palette='dark:#474646'` for same effect.\n",
            "  warnings.warn(msg, FutureWarning)\n"
          ]
        },
        {
          "output_type": "display_data",
          "data": {
            "text/plain": [
              "<Figure size 640x480 with 1 Axes>"
            ],
            "image/png": "[encoded data removed]"
          },
          "metadata": {}
        }
      ]
    },
    {
      "cell_type": "markdown",
      "source": [
        "# 5. Generar fichero json con df."
      ],
      "metadata": {
        "id": "d4f-jjdRk_fX"
      }
    },
    {
      "cell_type": "code",
      "source": [
        "df.to_json('data.json', orient='table', index=True, indent=4)"
      ],
      "metadata": {
        "id": "fwNsGsFnlQCH"
      },
      "execution_count": 29,
      "outputs": []
    }
  ]
}