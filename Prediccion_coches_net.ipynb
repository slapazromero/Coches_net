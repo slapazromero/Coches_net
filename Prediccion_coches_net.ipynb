{
  "nbformat": 4,
  "nbformat_minor": 0,
  "metadata": {
    "colab": {
      "provenance": [],
      "authorship_tag": "ABX9TyPLcs3ORNXpAO08mUDlbfxU",
      "include_colab_link": true
    },
    "kernelspec": {
      "name": "python3",
      "display_name": "Python 3"
    },
    "language_info": {
      "name": "python"
    }
  },
  "cells": [
    {
      "cell_type": "markdown",
      "metadata": {
        "id": "view-in-github",
        "colab_type": "text"
      },
      "source": [
        "<a href=\"https://colab.research.google.com/github/slapazromero/Coches_net/blob/main/Prediccion_coches_net.ipynb\" target=\"_parent\"><img src=\"https://colab.research.google.com/assets/colab-badge.svg\" alt=\"Open In Colab\"/></a>"
      ]
    },
    {
      "cell_type": "markdown",
      "source": [
        "# 1. Importación de librerias."
      ],
      "metadata": {
        "id": "jTzOShiyAbFg"
      }
    },
    {
      "cell_type": "code",
      "execution_count": 22,
      "metadata": {
        "id": "WTpi5bGzPhMi"
      },
      "outputs": [],
      "source": [
        "import pandas as pd\n",
        "import numpy as np\n",
        "\n",
        "from google.colab import files\n",
        "import zipfile\n",
        "import io\n",
        "import math\n",
        "\n",
        "import os\n",
        "import csv\n",
        "import json\n",
        "import pickle\n",
        "\n",
        "import matplotlib.pyplot as plt\n",
        "import seaborn as sns\n",
        "\n",
        "from keras.callbacks import EarlyStopping\n",
        "from keras.callbacks import ReduceLROnPlateau\n",
        "from sklearn.model_selection import train_test_split\n",
        "from tensorflow.keras.models import Sequential\n",
        "from tensorflow.keras.layers import Dense\n",
        "from keras.optimizers import Adam\n",
        "import tensorflow as tf\n",
        "\n",
        "import matplotlib.pyplot as plt"
      ]
    },
    {
      "cell_type": "markdown",
      "source": [
        "# 2. Importación de dataframe."
      ],
      "metadata": {
        "id": "xthvicAyAgJe"
      }
    },
    {
      "cell_type": "code",
      "source": [
        "df = pd.read_json('data.json', orient='table')"
      ],
      "metadata": {
        "id": "yFthPyCNB8-X"
      },
      "execution_count": 5,
      "outputs": []
    },
    {
      "cell_type": "code",
      "source": [
        "df"
      ],
      "metadata": {
        "colab": {
          "base_uri": "https://localhost:8080/",
          "height": 424
        },
        "id": "j8Z2TRHqCJ9-",
        "outputId": "ad75525a-e4b4-4e42-fbbb-016665afdf45"
      },
      "execution_count": 6,
      "outputs": [
        {
          "output_type": "execute_result",
          "data": {
            "text/plain": [
              "        fuelType         color        km   make                model  \\\n",
              "0         Diésel   COLOR_BLACK  170000.0    BMW                   X3   \n",
              "1         Diésel   COLOR_WHITE   88000.0    BMW              Serie 5   \n",
              "2         Diésel   COLOR_BLACK   74500.0    BMW                   X5   \n",
              "3       Gasolina    COLOR_BLUE   39956.0    BMW              Serie 1   \n",
              "4         Diésel   COLOR_BLACK   96267.0    BMW  Serie 2 Gran Tourer   \n",
              "...          ...           ...       ...    ...                  ...   \n",
              "13818  Eléctrico   COLOR_BLACK  129000.0  TESLA              Model S   \n",
              "13819  Eléctrico   COLOR_WHITE  175000.0  TESLA              Model X   \n",
              "13820  Eléctrico   COLOR_WHITE   77000.0  TESLA              Model 3   \n",
              "13821  Eléctrico   COLOR_WHITE   33000.0  TESLA              Model 3   \n",
              "13822  Eléctrico  COLOR_GARNET   29899.0  TESLA              Model 3   \n",
              "\n",
              "        province    price        transmissionType    year  seller_type  \\\n",
              "0         Madrid  17490.0     TRANSMISSION_MANUAL  2015.0  profesional   \n",
              "1         Murcia  30500.0  TRANSMISSION_AUTOMATIC  2018.0   particular   \n",
              "2       Alicante  74999.0  TRANSMISSION_AUTOMATIC  2020.0  profesional   \n",
              "3         Madrid  32000.0  TRANSMISSION_AUTOMATIC  2021.0   particular   \n",
              "4         Madrid  17950.0     TRANSMISSION_MANUAL  2016.0  profesional   \n",
              "...          ...      ...                     ...     ...          ...   \n",
              "13818     Madrid  37900.0  TRANSMISSION_AUTOMATIC  2017.0  profesional   \n",
              "13819     Madrid  59900.0  TRANSMISSION_AUTOMATIC  2016.0  profesional   \n",
              "13820  Barcelona  46900.0  TRANSMISSION_AUTOMATIC  2020.0  profesional   \n",
              "13821  Barcelona  44900.0  TRANSMISSION_AUTOMATIC  2020.0  profesional   \n",
              "13822     Málaga  40990.0  TRANSMISSION_AUTOMATIC  2021.0  profesional   \n",
              "\n",
              "       cubicCapacity  doors     hp         bodyType  \n",
              "0             1995.0    5.0  150.0  BODY_TYPE_SEDAN  \n",
              "1             1995.0    5.0  190.0  BODY_TYPE_SEDAN  \n",
              "2             2993.0    5.0  265.0  BODY_TYPE_SEDAN  \n",
              "3             1499.0    5.0  136.0  BODY_TYPE_SEDAN  \n",
              "4             1995.0    5.0  150.0  BODY_TYPE_SEDAN  \n",
              "...              ...    ...    ...              ...  \n",
              "13818         1499.0    5.0  525.0  BODY_TYPE_SEDAN  \n",
              "13819         1499.0    5.0  525.0    BODY_TYPE_4X4  \n",
              "13820         1499.0    4.0  490.0  BODY_TYPE_SEDAN  \n",
              "13821         1499.0    4.0  476.0  BODY_TYPE_SEDAN  \n",
              "13822         1499.0    4.0  306.0  BODY_TYPE_SEDAN  \n",
              "\n",
              "[13823 rows x 14 columns]"
            ],
            "text/html": [
              "\n",
              "  <div id=\"df-ee0e8404-d490-411a-be2c-1409e740ff46\">\n",
              "    <div class=\"colab-df-container\">\n",
              "      <div>\n",
              "<style scoped>\n",
              "    .dataframe tbody tr th:only-of-type {\n",
              "        vertical-align: middle;\n",
              "    }\n",
              "\n",
              "    .dataframe tbody tr th {\n",
              "        vertical-align: top;\n",
              "    }\n",
              "\n",
              "    .dataframe thead th {\n",
              "        text-align: right;\n",
              "    }\n",
              "</style>\n",
              "<table border=\"1\" class=\"dataframe\">\n",
              "  <thead>\n",
              "    <tr style=\"text-align: right;\">\n",
              "      <th></th>\n",
              "      <th>fuelType</th>\n",
              "      <th>color</th>\n",
              "      <th>km</th>\n",
              "      <th>make</th>\n",
              "      <th>model</th>\n",
              "      <th>province</th>\n",
              "      <th>price</th>\n",
              "      <th>transmissionType</th>\n",
              "      <th>year</th>\n",
              "      <th>seller_type</th>\n",
              "      <th>cubicCapacity</th>\n",
              "      <th>doors</th>\n",
              "      <th>hp</th>\n",
              "      <th>bodyType</th>\n",
              "    </tr>\n",
              "  </thead>\n",
              "  <tbody>\n",
              "    <tr>\n",
              "      <th>0</th>\n",
              "      <td>Diésel</td>\n",
              "      <td>COLOR_BLACK</td>\n",
              "      <td>170000.0</td>\n",
              "      <td>BMW</td>\n",
              "      <td>X3</td>\n",
              "      <td>Madrid</td>\n",
              "      <td>17490.0</td>\n",
              "      <td>TRANSMISSION_MANUAL</td>\n",
              "      <td>2015.0</td>\n",
              "      <td>profesional</td>\n",
              "      <td>1995.0</td>\n",
              "      <td>5.0</td>\n",
              "      <td>150.0</td>\n",
              "      <td>BODY_TYPE_SEDAN</td>\n",
              "    </tr>\n",
              "    <tr>\n",
              "      <th>1</th>\n",
              "      <td>Diésel</td>\n",
              "      <td>COLOR_WHITE</td>\n",
              "      <td>88000.0</td>\n",
              "      <td>BMW</td>\n",
              "      <td>Serie 5</td>\n",
              "      <td>Murcia</td>\n",
              "      <td>30500.0</td>\n",
              "      <td>TRANSMISSION_AUTOMATIC</td>\n",
              "      <td>2018.0</td>\n",
              "      <td>particular</td>\n",
              "      <td>1995.0</td>\n",
              "      <td>5.0</td>\n",
              "      <td>190.0</td>\n",
              "      <td>BODY_TYPE_SEDAN</td>\n",
              "    </tr>\n",
              "    <tr>\n",
              "      <th>2</th>\n",
              "      <td>Diésel</td>\n",
              "      <td>COLOR_BLACK</td>\n",
              "      <td>74500.0</td>\n",
              "      <td>BMW</td>\n",
              "      <td>X5</td>\n",
              "      <td>Alicante</td>\n",
              "      <td>74999.0</td>\n",
              "      <td>TRANSMISSION_AUTOMATIC</td>\n",
              "      <td>2020.0</td>\n",
              "      <td>profesional</td>\n",
              "      <td>2993.0</td>\n",
              "      <td>5.0</td>\n",
              "      <td>265.0</td>\n",
              "      <td>BODY_TYPE_SEDAN</td>\n",
              "    </tr>\n",
              "    <tr>\n",
              "      <th>3</th>\n",
              "      <td>Gasolina</td>\n",
              "      <td>COLOR_BLUE</td>\n",
              "      <td>39956.0</td>\n",
              "      <td>BMW</td>\n",
              "      <td>Serie 1</td>\n",
              "      <td>Madrid</td>\n",
              "      <td>32000.0</td>\n",
              "      <td>TRANSMISSION_AUTOMATIC</td>\n",
              "      <td>2021.0</td>\n",
              "      <td>particular</td>\n",
              "      <td>1499.0</td>\n",
              "      <td>5.0</td>\n",
              "      <td>136.0</td>\n",
              "      <td>BODY_TYPE_SEDAN</td>\n",
              "    </tr>\n",
              "    <tr>\n",
              "      <th>4</th>\n",
              "      <td>Diésel</td>\n",
              "      <td>COLOR_BLACK</td>\n",
              "      <td>96267.0</td>\n",
              "      <td>BMW</td>\n",
              "      <td>Serie 2 Gran Tourer</td>\n",
              "      <td>Madrid</td>\n",
              "      <td>17950.0</td>\n",
              "      <td>TRANSMISSION_MANUAL</td>\n",
              "      <td>2016.0</td>\n",
              "      <td>profesional</td>\n",
              "      <td>1995.0</td>\n",
              "      <td>5.0</td>\n",
              "      <td>150.0</td>\n",
              "      <td>BODY_TYPE_SEDAN</td>\n",
              "    </tr>\n",
              "    <tr>\n",
              "      <th>...</th>\n",
              "      <td>...</td>\n",
              "      <td>...</td>\n",
              "      <td>...</td>\n",
              "      <td>...</td>\n",
              "      <td>...</td>\n",
              "      <td>...</td>\n",
              "      <td>...</td>\n",
              "      <td>...</td>\n",
              "      <td>...</td>\n",
              "      <td>...</td>\n",
              "      <td>...</td>\n",
              "      <td>...</td>\n",
              "      <td>...</td>\n",
              "      <td>...</td>\n",
              "    </tr>\n",
              "    <tr>\n",
              "      <th>13818</th>\n",
              "      <td>Eléctrico</td>\n",
              "      <td>COLOR_BLACK</td>\n",
              "      <td>129000.0</td>\n",
              "      <td>TESLA</td>\n",
              "      <td>Model S</td>\n",
              "      <td>Madrid</td>\n",
              "      <td>37900.0</td>\n",
              "      <td>TRANSMISSION_AUTOMATIC</td>\n",
              "      <td>2017.0</td>\n",
              "      <td>profesional</td>\n",
              "      <td>1499.0</td>\n",
              "      <td>5.0</td>\n",
              "      <td>525.0</td>\n",
              "      <td>BODY_TYPE_SEDAN</td>\n",
              "    </tr>\n",
              "    <tr>\n",
              "      <th>13819</th>\n",
              "      <td>Eléctrico</td>\n",
              "      <td>COLOR_WHITE</td>\n",
              "      <td>175000.0</td>\n",
              "      <td>TESLA</td>\n",
              "      <td>Model X</td>\n",
              "      <td>Madrid</td>\n",
              "      <td>59900.0</td>\n",
              "      <td>TRANSMISSION_AUTOMATIC</td>\n",
              "      <td>2016.0</td>\n",
              "      <td>profesional</td>\n",
              "      <td>1499.0</td>\n",
              "      <td>5.0</td>\n",
              "      <td>525.0</td>\n",
              "      <td>BODY_TYPE_4X4</td>\n",
              "    </tr>\n",
              "    <tr>\n",
              "      <th>13820</th>\n",
              "      <td>Eléctrico</td>\n",
              "      <td>COLOR_WHITE</td>\n",
              "      <td>77000.0</td>\n",
              "      <td>TESLA</td>\n",
              "      <td>Model 3</td>\n",
              "      <td>Barcelona</td>\n",
              "      <td>46900.0</td>\n",
              "      <td>TRANSMISSION_AUTOMATIC</td>\n",
              "      <td>2020.0</td>\n",
              "      <td>profesional</td>\n",
              "      <td>1499.0</td>\n",
              "      <td>4.0</td>\n",
              "      <td>490.0</td>\n",
              "      <td>BODY_TYPE_SEDAN</td>\n",
              "    </tr>\n",
              "    <tr>\n",
              "      <th>13821</th>\n",
              "      <td>Eléctrico</td>\n",
              "      <td>COLOR_WHITE</td>\n",
              "      <td>33000.0</td>\n",
              "      <td>TESLA</td>\n",
              "      <td>Model 3</td>\n",
              "      <td>Barcelona</td>\n",
              "      <td>44900.0</td>\n",
              "      <td>TRANSMISSION_AUTOMATIC</td>\n",
              "      <td>2020.0</td>\n",
              "      <td>profesional</td>\n",
              "      <td>1499.0</td>\n",
              "      <td>4.0</td>\n",
              "      <td>476.0</td>\n",
              "      <td>BODY_TYPE_SEDAN</td>\n",
              "    </tr>\n",
              "    <tr>\n",
              "      <th>13822</th>\n",
              "      <td>Eléctrico</td>\n",
              "      <td>COLOR_GARNET</td>\n",
              "      <td>29899.0</td>\n",
              "      <td>TESLA</td>\n",
              "      <td>Model 3</td>\n",
              "      <td>Málaga</td>\n",
              "      <td>40990.0</td>\n",
              "      <td>TRANSMISSION_AUTOMATIC</td>\n",
              "      <td>2021.0</td>\n",
              "      <td>profesional</td>\n",
              "      <td>1499.0</td>\n",
              "      <td>4.0</td>\n",
              "      <td>306.0</td>\n",
              "      <td>BODY_TYPE_SEDAN</td>\n",
              "    </tr>\n",
              "  </tbody>\n",
              "</table>\n",
              "<p>13823 rows × 14 columns</p>\n",
              "</div>\n",
              "      <button class=\"colab-df-convert\" onclick=\"convertToInteractive('df-ee0e8404-d490-411a-be2c-1409e740ff46')\"\n",
              "              title=\"Convert this dataframe to an interactive table.\"\n",
              "              style=\"display:none;\">\n",
              "        \n",
              "  <svg xmlns=\"http://www.w3.org/2000/svg\" height=\"24px\"viewBox=\"0 0 24 24\"\n",
              "       width=\"24px\">\n",
              "    <path d=\"M0 0h24v24H0V0z\" fill=\"none\"/>\n",
              "    <path d=\"M18.56 5.44l.94 2.06.94-2.06 2.06-.94-2.06-.94-.94-2.06-.94 2.06-2.06.94zm-11 1L8.5 8.5l.94-2.06 2.06-.94-2.06-.94L8.5 2.5l-.94 2.06-2.06.94zm10 10l.94 2.06.94-2.06 2.06-.94-2.06-.94-.94-2.06-.94 2.06-2.06.94z\"/><path d=\"M17.41 7.96l-1.37-1.37c-.4-.4-.92-.59-1.43-.59-.52 0-1.04.2-1.43.59L10.3 9.45l-7.72 7.72c-.78.78-.78 2.05 0 2.83L4 21.41c.39.39.9.59 1.41.59.51 0 1.02-.2 1.41-.59l7.78-7.78 2.81-2.81c.8-.78.8-2.07 0-2.86zM5.41 20L4 18.59l7.72-7.72 1.47 1.35L5.41 20z\"/>\n",
              "  </svg>\n",
              "      </button>\n",
              "      \n",
              "  <style>\n",
              "    .colab-df-container {\n",
              "      display:flex;\n",
              "      flex-wrap:wrap;\n",
              "      gap: 12px;\n",
              "    }\n",
              "\n",
              "    .colab-df-convert {\n",
              "      background-color: #E8F0FE;\n",
              "      border: none;\n",
              "      border-radius: 50%;\n",
              "      cursor: pointer;\n",
              "      display: none;\n",
              "      fill: #1967D2;\n",
              "      height: 32px;\n",
              "      padding: 0 0 0 0;\n",
              "      width: 32px;\n",
              "    }\n",
              "\n",
              "    .colab-df-convert:hover {\n",
              "      background-color: #E2EBFA;\n",
              "      box-shadow: 0px 1px 2px rgba(60, 64, 67, 0.3), 0px 1px 3px 1px rgba(60, 64, 67, 0.15);\n",
              "      fill: #174EA6;\n",
              "    }\n",
              "\n",
              "    [theme=dark] .colab-df-convert {\n",
              "      background-color: #3B4455;\n",
              "      fill: #D2E3FC;\n",
              "    }\n",
              "\n",
              "    [theme=dark] .colab-df-convert:hover {\n",
              "      background-color: #434B5C;\n",
              "      box-shadow: 0px 1px 3px 1px rgba(0, 0, 0, 0.15);\n",
              "      filter: drop-shadow(0px 1px 2px rgba(0, 0, 0, 0.3));\n",
              "      fill: #FFFFFF;\n",
              "    }\n",
              "  </style>\n",
              "\n",
              "      <script>\n",
              "        const buttonEl =\n",
              "          document.querySelector('#df-ee0e8404-d490-411a-be2c-1409e740ff46 button.colab-df-convert');\n",
              "        buttonEl.style.display =\n",
              "          google.colab.kernel.accessAllowed ? 'block' : 'none';\n",
              "\n",
              "        async function convertToInteractive(key) {\n",
              "          const element = document.querySelector('#df-ee0e8404-d490-411a-be2c-1409e740ff46');\n",
              "          const dataTable =\n",
              "            await google.colab.kernel.invokeFunction('convertToInteractive',\n",
              "                                                     [key], {});\n",
              "          if (!dataTable) return;\n",
              "\n",
              "          const docLinkHtml = 'Like what you see? Visit the ' +\n",
              "            '<a target=\"_blank\" href=https://colab.research.google.com/notebooks/data_table.ipynb>data table notebook</a>'\n",
              "            + ' to learn more about interactive tables.';\n",
              "          element.innerHTML = '';\n",
              "          dataTable['output_type'] = 'display_data';\n",
              "          await google.colab.output.renderOutput(dataTable, element);\n",
              "          const docLink = document.createElement('div');\n",
              "          docLink.innerHTML = docLinkHtml;\n",
              "          element.appendChild(docLink);\n",
              "        }\n",
              "      </script>\n",
              "    </div>\n",
              "  </div>\n",
              "  "
            ]
          },
          "metadata": {},
          "execution_count": 6
        }
      ]
    },
    {
      "cell_type": "code",
      "source": [
        "plt.figure(figsize=(15,10))\n",
        "sns.heatmap(df.corr(), cmap='BrBG', annot=True)"
      ],
      "metadata": {
        "id": "5dInPI_0o4DJ",
        "colab": {
          "base_uri": "https://localhost:8080/",
          "height": 908
        },
        "outputId": "c2a340d5-6a2d-4c12-ac0f-eddfaaa3065b"
      },
      "execution_count": 9,
      "outputs": [
        {
          "output_type": "stream",
          "name": "stderr",
          "text": [
            "<ipython-input-9-5879926ea6b1>:2: FutureWarning: The default value of numeric_only in DataFrame.corr is deprecated. In a future version, it will default to False. Select only valid columns or specify the value of numeric_only to silence this warning.\n",
            "  sns.heatmap(df.corr(), cmap='BrBG', annot=True)\n"
          ]
        },
        {
          "output_type": "execute_result",
          "data": {
            "text/plain": [
              "<Axes: >"
            ]
          },
          "metadata": {},
          "execution_count": 9
        },
        {
          "output_type": "display_data",
          "data": {
            "text/plain": [
              "<Figure size 1500x1000 with 2 Axes>"
            ],
            "image/png": "[encoded data removed]"
          },
          "metadata": {}
        }
      ]
    },
    {
      "cell_type": "code",
      "source": [
        "caracteristicas = ['color', 'fuelType', 'make', 'model', 'province', 'transmissionType', 'year', 'seller_type', 'cubicCapacity', 'doors', 'hp', 'bodyType']\n",
        "\n",
        "resultado = ['price']"
      ],
      "metadata": {
        "id": "J2d638Ldo0N4"
      },
      "execution_count": 10,
      "outputs": []
    },
    {
      "cell_type": "code",
      "source": [
        "x_df = df[caracteristicas]\n",
        "\n",
        "y_df = df[resultado]"
      ],
      "metadata": {
        "id": "YwLjHqyzo1Kb"
      },
      "execution_count": 11,
      "outputs": []
    },
    {
      "cell_type": "code",
      "source": [
        "x_train,x_test,y_train, y_test = train_test_split(x_df, y_df,random_state=1,train_size=0.75)"
      ],
      "metadata": {
        "id": "d4B4nq-bo2QX"
      },
      "execution_count": 14,
      "outputs": []
    },
    {
      "cell_type": "markdown",
      "metadata": {
        "id": "dt86e1pZaoZj"
      },
      "source": [
        "# 3. Ingeniería de propiedades categóricas"
      ]
    },
    {
      "cell_type": "markdown",
      "metadata": {
        "id": "kVjBtewjbDGV"
      },
      "source": [
        "Todas las propiedades categóricas se han de convertir a forma numérica de tal forma que puedan ser utilizadas por el algoritmo de aprendizaje.\n",
        "\n",
        "https://datascience.stackexchange.com/questions/9443/when-to-use-one-hot-encoding-vs-labelencoder-vs-dictvectorizor"
      ]
    },
    {
      "cell_type": "code",
      "execution_count": 15,
      "metadata": {
        "id": "6FgXDCeDbD_f"
      },
      "outputs": [],
      "source": [
        "#las filas se convierten a formato de diccionario\n",
        "train_dict = x_train[caracteristicas].to_dict(orient='records')\n",
        "test_dict = x_test[caracteristicas].to_dict(orient='records')"
      ]
    },
    {
      "cell_type": "code",
      "source": [
        "test_dict[:1]"
      ],
      "metadata": {
        "colab": {
          "base_uri": "https://localhost:8080/"
        },
        "id": "Fj54pMpceKo7",
        "outputId": "da6f4f9a-9dbd-49a5-ed9d-071361c503d4"
      },
      "execution_count": 16,
      "outputs": [
        {
          "output_type": "execute_result",
          "data": {
            "text/plain": [
              "[{'color': 'COLOR_WHITE',\n",
              "  'fuelType': 'Gasolina',\n",
              "  'make': 'RENAULT',\n",
              "  'model': 'Megane',\n",
              "  'province': 'Madrid',\n",
              "  'transmissionType': 'TRANSMISSION_MANUAL',\n",
              "  'year': 2015.0,\n",
              "  'seller_type': 'profesional',\n",
              "  'cubicCapacity': 1198.0,\n",
              "  'doors': 5.0,\n",
              "  'hp': 115.0,\n",
              "  'bodyType': 'BODY_TYPE_SEDAN'}]"
            ]
          },
          "metadata": {},
          "execution_count": 16
        }
      ]
    },
    {
      "cell_type": "markdown",
      "metadata": {
        "id": "awykqV-cgmtK"
      },
      "source": [
        "Las propiedades categóricas se transforman."
      ]
    },
    {
      "cell_type": "code",
      "execution_count": 17,
      "metadata": {
        "colab": {
          "base_uri": "https://localhost:8080/"
        },
        "id": "7x-BbeUHfqoP",
        "outputId": "c94825ef-e16d-4e63-8ea4-a0ebb745a5ca"
      },
      "outputs": [
        {
          "output_type": "execute_result",
          "data": {
            "text/plain": [
              "array([0.000e+00, 0.000e+00, 0.000e+00, 0.000e+00, 0.000e+00, 0.000e+00,\n",
              "       0.000e+00, 1.000e+00, 0.000e+00, 0.000e+00, 0.000e+00, 0.000e+00,\n",
              "       0.000e+00, 0.000e+00, 0.000e+00, 0.000e+00, 0.000e+00, 0.000e+00,\n",
              "       0.000e+00, 1.000e+00, 0.000e+00, 1.332e+03, 5.000e+00, 0.000e+00,\n",
              "       0.000e+00, 0.000e+00, 0.000e+00, 0.000e+00, 0.000e+00, 1.000e+00,\n",
              "       2.180e+02, 0.000e+00, 0.000e+00, 0.000e+00, 0.000e+00, 0.000e+00,\n",
              "       0.000e+00, 0.000e+00, 0.000e+00, 0.000e+00, 0.000e+00, 0.000e+00,\n",
              "       0.000e+00, 0.000e+00, 0.000e+00, 0.000e+00, 0.000e+00, 0.000e+00,\n",
              "       0.000e+00, 0.000e+00, 0.000e+00, 0.000e+00, 1.000e+00, 0.000e+00,\n",
              "       0.000e+00, 0.000e+00, 0.000e+00, 0.000e+00, 0.000e+00, 0.000e+00,\n",
              "       0.000e+00, 0.000e+00, 0.000e+00, 0.000e+00, 0.000e+00, 0.000e+00,\n",
              "       0.000e+00, 0.000e+00, 0.000e+00, 0.000e+00, 0.000e+00, 0.000e+00,\n",
              "       0.000e+00, 0.000e+00, 0.000e+00, 0.000e+00, 0.000e+00, 0.000e+00,\n",
              "       0.000e+00, 0.000e+00, 0.000e+00, 0.000e+00, 0.000e+00, 0.000e+00,\n",
              "       0.000e+00, 0.000e+00, 0.000e+00, 0.000e+00, 0.000e+00, 0.000e+00,\n",
              "       0.000e+00, 0.000e+00, 0.000e+00, 0.000e+00, 0.000e+00, 0.000e+00,\n",
              "       0.000e+00, 0.000e+00, 0.000e+00, 0.000e+00, 0.000e+00, 0.000e+00,\n",
              "       0.000e+00, 0.000e+00, 0.000e+00, 0.000e+00, 0.000e+00, 0.000e+00,\n",
              "       0.000e+00, 0.000e+00, 0.000e+00, 0.000e+00, 0.000e+00, 0.000e+00,\n",
              "       0.000e+00, 0.000e+00, 0.000e+00, 0.000e+00, 0.000e+00, 0.000e+00,\n",
              "       0.000e+00, 0.000e+00, 0.000e+00, 0.000e+00, 0.000e+00, 0.000e+00,\n",
              "       0.000e+00, 0.000e+00, 0.000e+00, 0.000e+00, 0.000e+00, 0.000e+00,\n",
              "       0.000e+00, 0.000e+00, 0.000e+00, 0.000e+00, 0.000e+00, 0.000e+00,\n",
              "       0.000e+00, 0.000e+00, 0.000e+00, 0.000e+00, 0.000e+00, 0.000e+00,\n",
              "       0.000e+00, 0.000e+00, 0.000e+00, 0.000e+00, 0.000e+00, 0.000e+00,\n",
              "       0.000e+00, 0.000e+00, 0.000e+00, 0.000e+00, 0.000e+00, 0.000e+00,\n",
              "       0.000e+00, 0.000e+00, 0.000e+00, 0.000e+00, 0.000e+00, 0.000e+00,\n",
              "       0.000e+00, 0.000e+00, 0.000e+00, 0.000e+00, 0.000e+00, 0.000e+00,\n",
              "       0.000e+00, 0.000e+00, 1.000e+00, 0.000e+00, 0.000e+00, 0.000e+00,\n",
              "       0.000e+00, 0.000e+00, 0.000e+00, 0.000e+00, 0.000e+00, 0.000e+00,\n",
              "       0.000e+00, 0.000e+00, 0.000e+00, 0.000e+00, 0.000e+00, 0.000e+00,\n",
              "       0.000e+00, 0.000e+00, 0.000e+00, 0.000e+00, 0.000e+00, 0.000e+00,\n",
              "       0.000e+00, 0.000e+00, 0.000e+00, 0.000e+00, 0.000e+00, 0.000e+00,\n",
              "       0.000e+00, 0.000e+00, 0.000e+00, 0.000e+00, 0.000e+00, 0.000e+00,\n",
              "       0.000e+00, 0.000e+00, 0.000e+00, 0.000e+00, 0.000e+00, 0.000e+00,\n",
              "       0.000e+00, 0.000e+00, 0.000e+00, 0.000e+00, 0.000e+00, 0.000e+00,\n",
              "       0.000e+00, 0.000e+00, 0.000e+00, 0.000e+00, 0.000e+00, 0.000e+00,\n",
              "       0.000e+00, 0.000e+00, 0.000e+00, 0.000e+00, 0.000e+00, 0.000e+00,\n",
              "       0.000e+00, 0.000e+00, 0.000e+00, 0.000e+00, 0.000e+00, 0.000e+00,\n",
              "       0.000e+00, 0.000e+00, 0.000e+00, 0.000e+00, 0.000e+00, 0.000e+00,\n",
              "       0.000e+00, 0.000e+00, 0.000e+00, 0.000e+00, 0.000e+00, 0.000e+00,\n",
              "       0.000e+00, 0.000e+00, 0.000e+00, 0.000e+00, 0.000e+00, 0.000e+00,\n",
              "       0.000e+00, 0.000e+00, 0.000e+00, 0.000e+00, 0.000e+00, 0.000e+00,\n",
              "       0.000e+00, 0.000e+00, 0.000e+00, 0.000e+00, 0.000e+00, 0.000e+00,\n",
              "       0.000e+00, 0.000e+00, 0.000e+00, 0.000e+00, 0.000e+00, 0.000e+00,\n",
              "       0.000e+00, 0.000e+00, 0.000e+00, 0.000e+00, 0.000e+00, 0.000e+00,\n",
              "       0.000e+00, 0.000e+00, 0.000e+00, 0.000e+00, 0.000e+00, 0.000e+00,\n",
              "       0.000e+00, 0.000e+00, 0.000e+00, 0.000e+00, 0.000e+00, 0.000e+00,\n",
              "       0.000e+00, 0.000e+00, 0.000e+00, 0.000e+00, 0.000e+00, 0.000e+00,\n",
              "       0.000e+00, 0.000e+00, 0.000e+00, 0.000e+00, 0.000e+00, 0.000e+00,\n",
              "       0.000e+00, 0.000e+00, 0.000e+00, 0.000e+00, 0.000e+00, 0.000e+00,\n",
              "       0.000e+00, 0.000e+00, 0.000e+00, 0.000e+00, 0.000e+00, 0.000e+00,\n",
              "       0.000e+00, 0.000e+00, 0.000e+00, 0.000e+00, 0.000e+00, 0.000e+00,\n",
              "       0.000e+00, 0.000e+00, 0.000e+00, 0.000e+00, 0.000e+00, 0.000e+00,\n",
              "       0.000e+00, 0.000e+00, 0.000e+00, 0.000e+00, 0.000e+00, 0.000e+00,\n",
              "       0.000e+00, 0.000e+00, 0.000e+00, 0.000e+00, 0.000e+00, 0.000e+00,\n",
              "       0.000e+00, 0.000e+00, 0.000e+00, 0.000e+00, 0.000e+00, 0.000e+00,\n",
              "       0.000e+00, 0.000e+00, 0.000e+00, 0.000e+00, 0.000e+00, 0.000e+00,\n",
              "       0.000e+00, 0.000e+00, 0.000e+00, 0.000e+00, 0.000e+00, 0.000e+00,\n",
              "       0.000e+00, 0.000e+00, 0.000e+00, 0.000e+00, 0.000e+00, 0.000e+00,\n",
              "       0.000e+00, 0.000e+00, 0.000e+00, 0.000e+00, 0.000e+00, 0.000e+00,\n",
              "       0.000e+00, 0.000e+00, 0.000e+00, 0.000e+00, 0.000e+00, 0.000e+00,\n",
              "       0.000e+00, 0.000e+00, 0.000e+00, 0.000e+00, 0.000e+00, 0.000e+00,\n",
              "       0.000e+00, 0.000e+00, 0.000e+00, 0.000e+00, 0.000e+00, 0.000e+00,\n",
              "       0.000e+00, 0.000e+00, 0.000e+00, 0.000e+00, 0.000e+00, 0.000e+00,\n",
              "       0.000e+00, 0.000e+00, 0.000e+00, 0.000e+00, 0.000e+00, 0.000e+00,\n",
              "       0.000e+00, 0.000e+00, 0.000e+00, 0.000e+00, 0.000e+00, 0.000e+00,\n",
              "       0.000e+00, 0.000e+00, 0.000e+00, 0.000e+00, 0.000e+00, 0.000e+00,\n",
              "       0.000e+00, 0.000e+00, 0.000e+00, 0.000e+00, 0.000e+00, 0.000e+00,\n",
              "       0.000e+00, 0.000e+00, 0.000e+00, 0.000e+00, 0.000e+00, 0.000e+00,\n",
              "       0.000e+00, 0.000e+00, 0.000e+00, 0.000e+00, 0.000e+00, 0.000e+00,\n",
              "       0.000e+00, 0.000e+00, 0.000e+00, 0.000e+00, 0.000e+00, 0.000e+00,\n",
              "       0.000e+00, 0.000e+00, 0.000e+00, 0.000e+00, 0.000e+00, 0.000e+00,\n",
              "       0.000e+00, 0.000e+00, 0.000e+00, 0.000e+00, 0.000e+00, 0.000e+00,\n",
              "       0.000e+00, 0.000e+00, 0.000e+00, 0.000e+00, 0.000e+00, 0.000e+00,\n",
              "       0.000e+00, 0.000e+00, 0.000e+00, 0.000e+00, 0.000e+00, 0.000e+00,\n",
              "       0.000e+00, 0.000e+00, 0.000e+00, 0.000e+00, 0.000e+00, 0.000e+00,\n",
              "       0.000e+00, 0.000e+00, 0.000e+00, 0.000e+00, 0.000e+00, 0.000e+00,\n",
              "       0.000e+00, 0.000e+00, 0.000e+00, 0.000e+00, 0.000e+00, 0.000e+00,\n",
              "       0.000e+00, 0.000e+00, 0.000e+00, 0.000e+00, 0.000e+00, 0.000e+00,\n",
              "       0.000e+00, 0.000e+00, 0.000e+00, 0.000e+00, 0.000e+00, 0.000e+00,\n",
              "       0.000e+00, 0.000e+00, 0.000e+00, 0.000e+00, 0.000e+00, 0.000e+00,\n",
              "       0.000e+00, 0.000e+00, 0.000e+00, 0.000e+00, 0.000e+00, 0.000e+00,\n",
              "       0.000e+00, 0.000e+00, 0.000e+00, 0.000e+00, 0.000e+00, 0.000e+00,\n",
              "       0.000e+00, 0.000e+00, 0.000e+00, 0.000e+00, 0.000e+00, 0.000e+00,\n",
              "       0.000e+00, 0.000e+00, 0.000e+00, 0.000e+00, 0.000e+00, 0.000e+00,\n",
              "       0.000e+00, 0.000e+00, 0.000e+00, 0.000e+00, 0.000e+00, 0.000e+00,\n",
              "       0.000e+00, 0.000e+00, 0.000e+00, 0.000e+00, 0.000e+00, 0.000e+00,\n",
              "       0.000e+00, 0.000e+00, 0.000e+00, 0.000e+00, 0.000e+00, 0.000e+00,\n",
              "       0.000e+00, 0.000e+00, 0.000e+00, 0.000e+00, 0.000e+00, 0.000e+00,\n",
              "       0.000e+00, 0.000e+00, 0.000e+00, 0.000e+00, 0.000e+00, 0.000e+00,\n",
              "       0.000e+00, 0.000e+00, 0.000e+00, 0.000e+00, 0.000e+00, 0.000e+00,\n",
              "       0.000e+00, 0.000e+00, 0.000e+00, 0.000e+00, 0.000e+00, 0.000e+00,\n",
              "       0.000e+00, 0.000e+00, 0.000e+00, 1.000e+00, 0.000e+00, 0.000e+00,\n",
              "       0.000e+00, 0.000e+00, 0.000e+00, 0.000e+00, 0.000e+00, 0.000e+00,\n",
              "       0.000e+00, 0.000e+00, 0.000e+00, 0.000e+00, 0.000e+00, 0.000e+00,\n",
              "       0.000e+00, 0.000e+00, 0.000e+00, 0.000e+00, 0.000e+00, 0.000e+00,\n",
              "       0.000e+00, 0.000e+00, 0.000e+00, 1.000e+00, 1.000e+00, 0.000e+00,\n",
              "       2.020e+03])"
            ]
          },
          "metadata": {},
          "execution_count": 17
        }
      ],
      "source": [
        "from sklearn.feature_extraction import DictVectorizer\n",
        "\n",
        "dv = DictVectorizer(sparse = False)\n",
        "dv.fit(df.to_dict(orient='records'))\n",
        "X_train = dv.transform(train_dict)\n",
        "X_train[0]"
      ]
    },
    {
      "cell_type": "code",
      "source": [
        "X_train.shape[1]"
      ],
      "metadata": {
        "colab": {
          "base_uri": "https://localhost:8080/"
        },
        "id": "M6D9HjpJ4oKh",
        "outputId": "5f8647ac-67b8-473b-a05a-9da25639f081"
      },
      "execution_count": 18,
      "outputs": [
        {
          "output_type": "execute_result",
          "data": {
            "text/plain": [
              "589"
            ]
          },
          "metadata": {},
          "execution_count": 18
        }
      ]
    },
    {
      "cell_type": "code",
      "source": [
        "X_test = dv.transform(test_dict)\n",
        "X_test[0]"
      ],
      "metadata": {
        "colab": {
          "base_uri": "https://localhost:8080/"
        },
        "id": "3PolPNoUvqQB",
        "outputId": "e570145b-1fcd-473b-ff69-26f25cf7ca9b"
      },
      "execution_count": 19,
      "outputs": [
        {
          "output_type": "execute_result",
          "data": {
            "text/plain": [
              "array([0.000e+00, 0.000e+00, 0.000e+00, 0.000e+00, 0.000e+00, 0.000e+00,\n",
              "       0.000e+00, 1.000e+00, 0.000e+00, 0.000e+00, 0.000e+00, 0.000e+00,\n",
              "       0.000e+00, 0.000e+00, 0.000e+00, 0.000e+00, 0.000e+00, 0.000e+00,\n",
              "       0.000e+00, 1.000e+00, 0.000e+00, 1.198e+03, 5.000e+00, 0.000e+00,\n",
              "       0.000e+00, 0.000e+00, 0.000e+00, 1.000e+00, 0.000e+00, 0.000e+00,\n",
              "       1.150e+02, 0.000e+00, 0.000e+00, 0.000e+00, 0.000e+00, 0.000e+00,\n",
              "       0.000e+00, 0.000e+00, 0.000e+00, 0.000e+00, 0.000e+00, 0.000e+00,\n",
              "       0.000e+00, 0.000e+00, 0.000e+00, 0.000e+00, 0.000e+00, 0.000e+00,\n",
              "       0.000e+00, 0.000e+00, 0.000e+00, 0.000e+00, 0.000e+00, 0.000e+00,\n",
              "       0.000e+00, 0.000e+00, 0.000e+00, 0.000e+00, 0.000e+00, 1.000e+00,\n",
              "       0.000e+00, 0.000e+00, 0.000e+00, 0.000e+00, 0.000e+00, 0.000e+00,\n",
              "       0.000e+00, 0.000e+00, 0.000e+00, 0.000e+00, 0.000e+00, 0.000e+00,\n",
              "       0.000e+00, 0.000e+00, 0.000e+00, 0.000e+00, 0.000e+00, 0.000e+00,\n",
              "       0.000e+00, 0.000e+00, 0.000e+00, 0.000e+00, 0.000e+00, 0.000e+00,\n",
              "       0.000e+00, 0.000e+00, 0.000e+00, 0.000e+00, 0.000e+00, 0.000e+00,\n",
              "       0.000e+00, 0.000e+00, 0.000e+00, 0.000e+00, 0.000e+00, 0.000e+00,\n",
              "       0.000e+00, 0.000e+00, 0.000e+00, 0.000e+00, 0.000e+00, 0.000e+00,\n",
              "       0.000e+00, 0.000e+00, 0.000e+00, 0.000e+00, 0.000e+00, 0.000e+00,\n",
              "       0.000e+00, 0.000e+00, 0.000e+00, 0.000e+00, 0.000e+00, 0.000e+00,\n",
              "       0.000e+00, 0.000e+00, 0.000e+00, 0.000e+00, 0.000e+00, 0.000e+00,\n",
              "       0.000e+00, 0.000e+00, 0.000e+00, 0.000e+00, 0.000e+00, 0.000e+00,\n",
              "       0.000e+00, 0.000e+00, 0.000e+00, 0.000e+00, 0.000e+00, 0.000e+00,\n",
              "       0.000e+00, 0.000e+00, 0.000e+00, 0.000e+00, 0.000e+00, 0.000e+00,\n",
              "       0.000e+00, 0.000e+00, 0.000e+00, 0.000e+00, 0.000e+00, 0.000e+00,\n",
              "       0.000e+00, 0.000e+00, 0.000e+00, 0.000e+00, 0.000e+00, 0.000e+00,\n",
              "       0.000e+00, 0.000e+00, 0.000e+00, 0.000e+00, 0.000e+00, 0.000e+00,\n",
              "       0.000e+00, 0.000e+00, 0.000e+00, 0.000e+00, 0.000e+00, 0.000e+00,\n",
              "       0.000e+00, 0.000e+00, 0.000e+00, 0.000e+00, 0.000e+00, 0.000e+00,\n",
              "       0.000e+00, 0.000e+00, 0.000e+00, 0.000e+00, 0.000e+00, 0.000e+00,\n",
              "       0.000e+00, 0.000e+00, 0.000e+00, 0.000e+00, 0.000e+00, 0.000e+00,\n",
              "       0.000e+00, 0.000e+00, 0.000e+00, 0.000e+00, 0.000e+00, 0.000e+00,\n",
              "       0.000e+00, 0.000e+00, 0.000e+00, 0.000e+00, 0.000e+00, 0.000e+00,\n",
              "       0.000e+00, 0.000e+00, 0.000e+00, 0.000e+00, 0.000e+00, 0.000e+00,\n",
              "       0.000e+00, 0.000e+00, 0.000e+00, 0.000e+00, 0.000e+00, 0.000e+00,\n",
              "       0.000e+00, 0.000e+00, 0.000e+00, 0.000e+00, 0.000e+00, 0.000e+00,\n",
              "       0.000e+00, 0.000e+00, 0.000e+00, 0.000e+00, 0.000e+00, 0.000e+00,\n",
              "       0.000e+00, 0.000e+00, 0.000e+00, 0.000e+00, 0.000e+00, 0.000e+00,\n",
              "       0.000e+00, 0.000e+00, 0.000e+00, 0.000e+00, 0.000e+00, 0.000e+00,\n",
              "       0.000e+00, 0.000e+00, 0.000e+00, 0.000e+00, 0.000e+00, 0.000e+00,\n",
              "       0.000e+00, 0.000e+00, 0.000e+00, 0.000e+00, 0.000e+00, 0.000e+00,\n",
              "       0.000e+00, 0.000e+00, 0.000e+00, 0.000e+00, 0.000e+00, 0.000e+00,\n",
              "       0.000e+00, 0.000e+00, 0.000e+00, 0.000e+00, 0.000e+00, 0.000e+00,\n",
              "       0.000e+00, 0.000e+00, 0.000e+00, 0.000e+00, 0.000e+00, 0.000e+00,\n",
              "       0.000e+00, 0.000e+00, 0.000e+00, 0.000e+00, 0.000e+00, 0.000e+00,\n",
              "       0.000e+00, 0.000e+00, 0.000e+00, 0.000e+00, 0.000e+00, 0.000e+00,\n",
              "       0.000e+00, 0.000e+00, 0.000e+00, 0.000e+00, 0.000e+00, 0.000e+00,\n",
              "       0.000e+00, 0.000e+00, 0.000e+00, 0.000e+00, 0.000e+00, 0.000e+00,\n",
              "       0.000e+00, 0.000e+00, 0.000e+00, 0.000e+00, 0.000e+00, 0.000e+00,\n",
              "       0.000e+00, 0.000e+00, 0.000e+00, 0.000e+00, 0.000e+00, 0.000e+00,\n",
              "       0.000e+00, 0.000e+00, 0.000e+00, 0.000e+00, 0.000e+00, 0.000e+00,\n",
              "       0.000e+00, 0.000e+00, 0.000e+00, 0.000e+00, 0.000e+00, 0.000e+00,\n",
              "       0.000e+00, 0.000e+00, 0.000e+00, 0.000e+00, 0.000e+00, 0.000e+00,\n",
              "       0.000e+00, 0.000e+00, 0.000e+00, 0.000e+00, 0.000e+00, 0.000e+00,\n",
              "       0.000e+00, 0.000e+00, 0.000e+00, 0.000e+00, 0.000e+00, 0.000e+00,\n",
              "       0.000e+00, 0.000e+00, 0.000e+00, 0.000e+00, 0.000e+00, 0.000e+00,\n",
              "       0.000e+00, 1.000e+00, 0.000e+00, 0.000e+00, 0.000e+00, 0.000e+00,\n",
              "       0.000e+00, 0.000e+00, 0.000e+00, 0.000e+00, 0.000e+00, 0.000e+00,\n",
              "       0.000e+00, 0.000e+00, 0.000e+00, 0.000e+00, 0.000e+00, 0.000e+00,\n",
              "       0.000e+00, 0.000e+00, 0.000e+00, 0.000e+00, 0.000e+00, 0.000e+00,\n",
              "       0.000e+00, 0.000e+00, 0.000e+00, 0.000e+00, 0.000e+00, 0.000e+00,\n",
              "       0.000e+00, 0.000e+00, 0.000e+00, 0.000e+00, 0.000e+00, 0.000e+00,\n",
              "       0.000e+00, 0.000e+00, 0.000e+00, 0.000e+00, 0.000e+00, 0.000e+00,\n",
              "       0.000e+00, 0.000e+00, 0.000e+00, 0.000e+00, 0.000e+00, 0.000e+00,\n",
              "       0.000e+00, 0.000e+00, 0.000e+00, 0.000e+00, 0.000e+00, 0.000e+00,\n",
              "       0.000e+00, 0.000e+00, 0.000e+00, 0.000e+00, 0.000e+00, 0.000e+00,\n",
              "       0.000e+00, 0.000e+00, 0.000e+00, 0.000e+00, 0.000e+00, 0.000e+00,\n",
              "       0.000e+00, 0.000e+00, 0.000e+00, 0.000e+00, 0.000e+00, 0.000e+00,\n",
              "       0.000e+00, 0.000e+00, 0.000e+00, 0.000e+00, 0.000e+00, 0.000e+00,\n",
              "       0.000e+00, 0.000e+00, 0.000e+00, 0.000e+00, 0.000e+00, 0.000e+00,\n",
              "       0.000e+00, 0.000e+00, 0.000e+00, 0.000e+00, 0.000e+00, 0.000e+00,\n",
              "       0.000e+00, 0.000e+00, 0.000e+00, 0.000e+00, 0.000e+00, 0.000e+00,\n",
              "       0.000e+00, 0.000e+00, 0.000e+00, 0.000e+00, 0.000e+00, 0.000e+00,\n",
              "       0.000e+00, 0.000e+00, 0.000e+00, 0.000e+00, 0.000e+00, 0.000e+00,\n",
              "       0.000e+00, 0.000e+00, 0.000e+00, 0.000e+00, 0.000e+00, 0.000e+00,\n",
              "       0.000e+00, 0.000e+00, 0.000e+00, 0.000e+00, 0.000e+00, 0.000e+00,\n",
              "       0.000e+00, 0.000e+00, 0.000e+00, 0.000e+00, 0.000e+00, 0.000e+00,\n",
              "       0.000e+00, 0.000e+00, 0.000e+00, 0.000e+00, 0.000e+00, 0.000e+00,\n",
              "       0.000e+00, 0.000e+00, 0.000e+00, 0.000e+00, 0.000e+00, 0.000e+00,\n",
              "       0.000e+00, 0.000e+00, 0.000e+00, 0.000e+00, 0.000e+00, 0.000e+00,\n",
              "       0.000e+00, 0.000e+00, 0.000e+00, 0.000e+00, 0.000e+00, 0.000e+00,\n",
              "       0.000e+00, 0.000e+00, 0.000e+00, 0.000e+00, 0.000e+00, 0.000e+00,\n",
              "       0.000e+00, 0.000e+00, 0.000e+00, 0.000e+00, 0.000e+00, 0.000e+00,\n",
              "       0.000e+00, 0.000e+00, 0.000e+00, 0.000e+00, 0.000e+00, 0.000e+00,\n",
              "       0.000e+00, 0.000e+00, 0.000e+00, 0.000e+00, 0.000e+00, 0.000e+00,\n",
              "       0.000e+00, 0.000e+00, 0.000e+00, 0.000e+00, 0.000e+00, 0.000e+00,\n",
              "       0.000e+00, 0.000e+00, 0.000e+00, 0.000e+00, 0.000e+00, 0.000e+00,\n",
              "       0.000e+00, 0.000e+00, 0.000e+00, 0.000e+00, 0.000e+00, 0.000e+00,\n",
              "       0.000e+00, 0.000e+00, 0.000e+00, 0.000e+00, 0.000e+00, 0.000e+00,\n",
              "       0.000e+00, 0.000e+00, 0.000e+00, 0.000e+00, 0.000e+00, 0.000e+00,\n",
              "       0.000e+00, 0.000e+00, 0.000e+00, 0.000e+00, 0.000e+00, 0.000e+00,\n",
              "       0.000e+00, 0.000e+00, 0.000e+00, 0.000e+00, 0.000e+00, 0.000e+00,\n",
              "       0.000e+00, 0.000e+00, 0.000e+00, 0.000e+00, 0.000e+00, 0.000e+00,\n",
              "       0.000e+00, 0.000e+00, 0.000e+00, 0.000e+00, 0.000e+00, 0.000e+00,\n",
              "       0.000e+00, 0.000e+00, 0.000e+00, 1.000e+00, 0.000e+00, 0.000e+00,\n",
              "       0.000e+00, 0.000e+00, 0.000e+00, 0.000e+00, 0.000e+00, 0.000e+00,\n",
              "       0.000e+00, 0.000e+00, 0.000e+00, 0.000e+00, 0.000e+00, 0.000e+00,\n",
              "       0.000e+00, 0.000e+00, 0.000e+00, 0.000e+00, 0.000e+00, 0.000e+00,\n",
              "       0.000e+00, 0.000e+00, 0.000e+00, 1.000e+00, 0.000e+00, 1.000e+00,\n",
              "       2.015e+03])"
            ]
          },
          "metadata": {},
          "execution_count": 19
        }
      ]
    },
    {
      "cell_type": "markdown",
      "metadata": {
        "id": "t0HZezM5ryQY"
      },
      "source": [
        "Para visualizar los valores de las propiedades categóricas."
      ]
    },
    {
      "cell_type": "markdown",
      "metadata": {
        "id": "8gaU5udYgbEi"
      },
      "source": [
        "Para visualizar la transformación de las propiedades categóricas."
      ]
    },
    {
      "cell_type": "code",
      "execution_count": 20,
      "metadata": {
        "colab": {
          "base_uri": "https://localhost:8080/"
        },
        "id": "81U1AnSxgNxx",
        "outputId": "ac96a365-c437-4aab-c4c6-0b1a59924964"
      },
      "outputs": [
        {
          "output_type": "execute_result",
          "data": {
            "text/plain": [
              "array(['bodyType=BODY_TYPE_4X4', 'bodyType=BODY_TYPE_BERLINA',\n",
              "       'bodyType=BODY_TYPE_CABRIO', 'bodyType=BODY_TYPE_COUPE',\n",
              "       'bodyType=BODY_TYPE_FAMILIAR', 'bodyType=BODY_TYPE_MINIVAN',\n",
              "       'bodyType=BODY_TYPE_PICK_UP', 'bodyType=BODY_TYPE_SEDAN',\n",
              "       'color=COLOR_BEIGE', 'color=COLOR_BLACK', 'color=COLOR_BLUE',\n",
              "       'color=COLOR_BROWN', 'color=COLOR_GARNET', 'color=COLOR_GRAY',\n",
              "       'color=COLOR_GREEN', 'color=COLOR_ORANGE', 'color=COLOR_PINK',\n",
              "       'color=COLOR_PURPLE', 'color=COLOR_RED', 'color=COLOR_WHITE',\n",
              "       'color=COLOR_YELLOW', 'cubicCapacity', 'doors', 'fuelType=Diésel',\n",
              "       'fuelType=Eléctrico', 'fuelType=Gas licuado (GLP)',\n",
              "       'fuelType=Gas natural (CNG)', 'fuelType=Gasolina',\n",
              "       'fuelType=Híbrido', 'fuelType=Híbrido enchufable', 'hp', 'km',\n",
              "       'make=ABARTH', 'make=ALFA ROMEO', 'make=AUDI', 'make=BMW',\n",
              "       'make=CHEVROLET', 'make=CITROEN', 'make=CUPRA', 'make=DACIA',\n",
              "       'make=DS', 'make=FERRARI', 'make=FIAT', 'make=FORD', 'make=HONDA',\n",
              "       'make=HYUNDAI', 'make=JAGUAR', 'make=JEEP', 'make=KIA',\n",
              "       'make=LAND-ROVER', 'make=LEXUS', 'make=MAZDA',\n",
              "       'make=MERCEDES-BENZ', 'make=MINI', 'make=MITSUBISHI',\n",
              "       'make=NISSAN', 'make=OPEL', 'make=PEUGEOT', 'make=PORSCHE',\n",
              "       'make=RENAULT', 'make=SEAT', 'make=SKODA', 'make=SMART',\n",
              "       'make=SSANGYONG', 'make=SUBARU', 'make=SUZUKI', 'make=TESLA',\n",
              "       'make=VOLKSWAGEN', 'make=VOLVO', 'model=108', 'model=124 Spider',\n",
              "       'model=2008', 'model=207', 'model=208', 'model=3008',\n",
              "       'model=3008 Hybrid', 'model=308', 'model=370Z', 'model=458',\n",
              "       'model=488', 'model=500', 'model=5008', 'model=500C', 'model=500L',\n",
              "       'model=500X', 'model=508', 'model=508 Hybrid', 'model=695',\n",
              "       'model=718', 'model=807', 'model=812', 'model=911', 'model=A1',\n",
              "       'model=A3', 'model=A4', 'model=A4 Allroad Quattro', 'model=A5',\n",
              "       'model=A6', 'model=A6 allroad quattro', 'model=A7', 'model=A8',\n",
              "       'model=ALTEA', 'model=AMG GT', 'model=ASX', 'model=Adam',\n",
              "       'model=Alhambra', 'model=Antara', 'model=Arkana', 'model=Arona',\n",
              "       'model=Arteon', 'model=Astra', 'model=Ateca', 'model=Austral',\n",
              "       'model=Aveo', 'model=BMAX', 'model=BRZ', 'model=Baleno',\n",
              "       'model=Bayon', 'model=Beetle', 'model=Berlingo', 'model=Born',\n",
              "       'model=Boxster', 'model=C1', 'model=C3', 'model=C3 Aircross',\n",
              "       'model=C3 Picasso', 'model=C4', 'model=C4 Aircross',\n",
              "       'model=C4 Cactus', 'model=C4 Picasso', 'model=C4 Spacetourer',\n",
              "       'model=C5', 'model=C5 Aircross', 'model=C5 Aircross Hybrid',\n",
              "       'model=C5 X', 'model=CAMARO 2 SS CABRIO V8 6.2i 2019 453CV',\n",
              "       'model=CC', 'model=CElysee', 'model=CLA', 'model=CLS',\n",
              "       'model=CLUBMAN', 'model=CMax', 'model=CR-V', 'model=CRV',\n",
              "       'model=CT', 'model=CX-3', 'model=CX-30', 'model=CX-5', 'model=CX3',\n",
              "       'model=CX30', 'model=CX5', 'model=CX7', 'model=CX9',\n",
              "       'model=Cabrio', 'model=Caddy', 'model=California', 'model=Camaro',\n",
              "       'model=Captiva', 'model=Captur', 'model=Caravelle', 'model=Carens',\n",
              "       'model=Cayenne', 'model=Cayenne Coupe', 'model=Cayman',\n",
              "       'model=Ceed Tourer', 'model=Celerio', 'model=Cherokee',\n",
              "       'model=Citan', 'model=Citigo', 'model=Civic', 'model=Clase A',\n",
              "       'model=Clase B', 'model=Clase C', 'model=Clase CLA',\n",
              "       'model=Clase CLS', 'model=Clase E',\n",
              "       'model=Clase E 200 4MATIC AllTerrain Estate', 'model=Clase G',\n",
              "       'model=Clase GLA', 'model=Clase GLC', 'model=Clase GLE',\n",
              "       'model=Clase GLE Coupe', 'model=Clase GLK', 'model=Clase GLS',\n",
              "       'model=Clase M', 'model=Clase S', 'model=Clase SLC',\n",
              "       'model=Clase SLK', 'model=Clase T', 'model=Clase V',\n",
              "       'model=Clase X', 'model=Clio', 'model=Combo', 'model=Combo Life',\n",
              "       'model=Compass', 'model=Corsa', 'model=Corsae',\n",
              "       'model=Corvette Stingray', 'model=Countryman', 'model=Crossland',\n",
              "       'model=Crossland X', 'model=Cruze', 'model=DS 3',\n",
              "       'model=DS 3 Crossback', 'model=DS 4', 'model=DS 4 Crossback',\n",
              "       'model=DS 5', 'model=DS 7 Crossback',\n",
              "       'model=DS 7 Crossback ETense', 'model=DS3', 'model=DS4',\n",
              "       'model=Defender', 'model=Discovery', 'model=Discovery 4',\n",
              "       'model=Discovery Sport', 'model=Doblo', 'model=Doblo Cargo',\n",
              "       'model=Doblo Panorama', 'model=Dokker', 'model=Ducato',\n",
              "       'model=Duster', 'model=EPace', 'model=EQA', 'model=EQC',\n",
              "       'model=EQE', 'model=ES', 'model=EV6', 'model=EVALIA',\n",
              "       'model=Eclipse Cross', 'model=EcoSport', 'model=Edge',\n",
              "       'model=Elantra', 'model=Enyaq', 'model=Espace', 'model=Exeo',\n",
              "       'model=Explorer', 'model=F-Pace', 'model=F150 RAPTOR SVT 411cv',\n",
              "       'model=F8 TRIBUTO', 'model=FF', 'model=FF 3 p.', 'model=FType',\n",
              "       'model=Fabia', 'model=Fiesta', 'model=Focus', 'model=Forester',\n",
              "       'model=Formentor', 'model=Fpace', 'model=Freelander',\n",
              "       'model=Freemont', 'model=Fullback', 'model=Fusion', 'model=GLA',\n",
              "       'model=GLA 180 CDI STYLE 110cv', 'model=GLB', 'model=GLC',\n",
              "       'model=GLC Coupe', 'model=GLC Coupé', 'model=GLE',\n",
              "       'model=GLE Coupe', 'model=GS', 'model=GTC', 'model=GTC4',\n",
              "       'model=GTR', 'model=Galaxy', 'model=Giulia', 'model=Giulietta',\n",
              "       'model=Gladiator', 'model=Golf', 'model=Golf Plus',\n",
              "       'model=Golf Sportsvan', 'model=Grand C-Max',\n",
              "       'model=Grand C4 Picasso', 'model=Grand C4 Spacetourer',\n",
              "       'model=Grand CMax', 'model=Grand Cherokee', 'model=Grand Espace',\n",
              "       'model=Grand Santa Fe', 'model=Grand Scenic',\n",
              "       'model=Grand Tourneo Connect', 'model=Grand Vitara',\n",
              "       'model=Grandland', 'model=Grandland PHEV', 'model=Grandland X',\n",
              "       'model=Grandland X PHEV', 'model=H1 Travel', 'model=HRV',\n",
              "       'model=ID.3', 'model=ID3', 'model=ID4', 'model=IONIQ', 'model=IS',\n",
              "       'model=Ibiza', 'model=Ignis', 'model=Impreza', 'model=Insignia',\n",
              "       'model=JUKE', 'model=Jazz', 'model=Jetta', 'model=Jimny',\n",
              "       'model=Jumper', 'model=KA', 'model=Kadjar', 'model=Kamiq',\n",
              "       'model=Kangoo', 'model=Kangoo Combi', 'model=Kaplus',\n",
              "       'model=Karoq', 'model=Kodiaq', 'model=Koleos', 'model=Kona',\n",
              "       'model=Korando', 'model=Kuga', 'model=L200', 'model=LEAF',\n",
              "       'model=LEVORG', 'model=Legacy', 'model=Leon', 'model=Lodgy',\n",
              "       'model=Logan', 'model=M4 COMPETITION CABRIO 450CV',\n",
              "       'model=M6 COMPETITION', 'model=MINI', 'model=MX-5', 'model=MX30',\n",
              "       'model=MX5', 'model=Macan', 'model=Mazda2', 'model=Mazda3',\n",
              "       'model=Mazda5', 'model=Mazda6', 'model=Megane',\n",
              "       'model=Megane ETech', 'model=MercedesAMG GT', 'model=Meriva',\n",
              "       'model=MiTo', 'model=Micra', 'model=Mii', 'model=Model 3',\n",
              "       'model=Model S', 'model=Model X', 'model=Model Y', 'model=Mokka',\n",
              "       'model=Mokka X', 'model=Mokkae', 'model=Mondeo', 'model=Montero',\n",
              "       'model=Multivan', 'model=Mustang', 'model=Mustang MachE',\n",
              "       'model=Mégane', 'model=NOTE', 'model=NV200 EVALIA', 'model=NV300',\n",
              "       'model=NX', 'model=Navara', 'model=Niro', 'model=Octavia',\n",
              "       'model=Optima', 'model=Orlando', 'model=Outback',\n",
              "       'model=Outlander', 'model=PULSAR', 'model=Paceman',\n",
              "       'model=Panamera', 'model=Panda', 'model=Partner', 'model=Passat',\n",
              "       'model=Passat CC', 'model=Picanto', 'model=Polo',\n",
              "       'model=Portofino', 'model=Pro Ceed', 'model=ProCeed', 'model=Puma',\n",
              "       'model=Punto', 'model=Q2', 'model=Q3', 'model=Q3 Sportback',\n",
              "       'model=Q5', 'model=Q5 SPORTBACK', 'model=Q7', 'model=Q8',\n",
              "       'model=QASHQAI', 'model=Qubo', 'model=R8', 'model=RC', 'model=RCZ',\n",
              "       'model=ROMA', 'model=RS4', 'model=RS6', 'model=RS7', 'model=RX',\n",
              "       'model=Range Rover', 'model=Range Rover Evoque',\n",
              "       'model=Range Rover Sport', 'model=Range Rover Velar',\n",
              "       'model=Ranger', 'model=Rapid', 'model=Renegade', 'model=Rexton',\n",
              "       'model=Rifter', 'model=Rio', 'model=Rodius', 'model=Roma',\n",
              "       'model=S1', 'model=S5', 'model=S60', 'model=S90', 'model=SCross',\n",
              "       'model=SMAX', 'model=SQ5', 'model=SQ7', 'model=SX4 SCross',\n",
              "       'model=Sandero', 'model=Santa Fe', 'model=Scala', 'model=Scenic',\n",
              "       'model=Scirocco', 'model=Scout', 'model=Serie 1', 'model=Serie 2',\n",
              "       'model=Serie 2 Active Tourer', 'model=Serie 2 Gran Tourer',\n",
              "       'model=Serie 3', 'model=Serie 4', 'model=Serie 5', 'model=Serie 6',\n",
              "       'model=Serie 7', 'model=Serie 8', 'model=Sharan', 'model=Sorento',\n",
              "       'model=Soul', 'model=Soul EV', 'model=Space Star',\n",
              "       'model=Spaceback', 'model=Spacetourer', 'model=Spark',\n",
              "       'model=Sportage', 'model=Stelvio', 'model=Stonic', 'model=Superb',\n",
              "       'model=Swift', 'model=TCross', 'model=TRoc', 'model=TT',\n",
              "       'model=TUCSON', 'model=Taigo', 'model=Talisman', 'model=Tarraco',\n",
              "       'model=Taycan', 'model=Tiguan', 'model=Tiguan Allspace',\n",
              "       'model=Tipo', 'model=Tivoli', 'model=Toledo', 'model=Tonale',\n",
              "       'model=Touareg', 'model=Touran', 'model=Tourneo Connect',\n",
              "       'model=Tourneo Courier', 'model=Tourneo Custom', 'model=Townstar',\n",
              "       'model=Trafic', 'model=Transit Connect', 'model=Transporter',\n",
              "       'model=Traveller', 'model=Trax', 'model=Twingo', 'model=UX',\n",
              "       'model=V40', 'model=V40 Cross Country', 'model=V60',\n",
              "       'model=V60 Cross Country', 'model=V90', 'model=V90 Cross Country',\n",
              "       'model=Venga', 'model=Viano', 'model=Vitara', 'model=Vito',\n",
              "       'model=Vivaro', 'model=WRX STI', 'model=Wrangler',\n",
              "       'model=Wrangler Unlimited', 'model=X1', 'model=X2', 'model=X3',\n",
              "       'model=X4', 'model=X5', 'model=X6', 'model=X7', 'model=XC40',\n",
              "       'model=XC60', 'model=XC70', 'model=XC90', 'model=XCeed',\n",
              "       'model=XE', 'model=XF', 'model=XLV', 'model=XTRAIL', 'model=XV',\n",
              "       'model=Yeti', 'model=Z4', 'model=Zafira', 'model=Zafira Life',\n",
              "       'model=Zafira Tourer', 'model=Zoe', \"model=cee'd\", 'model=ceed',\n",
              "       'model=ceed Sportswagon', 'model=e2008', 'model=e208', 'model=eC4',\n",
              "       'model=eNiro', 'model=eSoul', 'model=eup', 'model=forfour',\n",
              "       'model=fortwo', 'model=i10', 'model=i20', 'model=i20 Active',\n",
              "       'model=i3', 'model=i30', 'model=i4', 'model=i40', 'model=i8',\n",
              "       'model=iPace', 'model=iX', 'model=iX3', 'model=ix20', 'model=ix35',\n",
              "       'model=up', 'price', 'province=A Coruña', 'province=Albacete',\n",
              "       'province=Alicante', 'province=Almería', 'province=Asturias',\n",
              "       'province=Badajoz', 'province=Baleares', 'province=Barcelona',\n",
              "       'province=Burgos', 'province=Cantabria', 'province=Castellón',\n",
              "       'province=Ciudad Real', 'province=Cuenca', 'province=Cáceres',\n",
              "       'province=Cádiz', 'province=Córdoba', 'province=Girona',\n",
              "       'province=Granada', 'province=Guadalajara', 'province=Guipúzcoa',\n",
              "       'province=Huelva', 'province=Huesca', 'province=Jaén',\n",
              "       'province=La Rioja', 'province=Las Palmas', 'province=León',\n",
              "       'province=Lleida', 'province=Lugo', 'province=Madrid',\n",
              "       'province=Melilla', 'province=Murcia', 'province=Málaga',\n",
              "       'province=Navarra', 'province=Ourense', 'province=Palencia',\n",
              "       'province=Pontevedra', 'province=Salamanca', 'province=Segovia',\n",
              "       'province=Sevilla', 'province=Soria', 'province=Sta. C. Tenerife',\n",
              "       'province=Tarragona', 'province=Teruel', 'province=Toledo',\n",
              "       'province=Valencia', 'province=Valladolid', 'province=Vizcaya',\n",
              "       'province=Zamora', 'province=Zaragoza', 'province=Álava',\n",
              "       'province=Ávila', 'seller_type=particular',\n",
              "       'seller_type=profesional',\n",
              "       'transmissionType=TRANSMISSION_AUTOMATIC',\n",
              "       'transmissionType=TRANSMISSION_MANUAL', 'year'], dtype=object)"
            ]
          },
          "metadata": {},
          "execution_count": 20
        }
      ],
      "source": [
        "dv.get_feature_names_out()"
      ]
    },
    {
      "cell_type": "markdown",
      "metadata": {
        "id": "gUwSHbfzQ_qi"
      },
      "source": [
        "# 4. Red neuronal"
      ]
    },
    {
      "cell_type": "code",
      "execution_count": 21,
      "metadata": {
        "colab": {
          "base_uri": "https://localhost:8080/"
        },
        "id": "VmAFFVLdRFkI",
        "outputId": "1e24d803-505e-47f9-ed01-a3a735162f92"
      },
      "outputs": [
        {
          "output_type": "stream",
          "name": "stdout",
          "text": [
            "Numero de entradas: 589\n",
            "Model: \"sequential\"\n",
            "_________________________________________________________________\n",
            " Layer (type)                Output Shape              Param #   \n",
            "=================================================================\n",
            " dense (Dense)               (None, 589)               347510    \n",
            "                                                                 \n",
            " dense_1 (Dense)             (None, 1178)              695020    \n",
            "                                                                 \n",
            " dense_2 (Dense)             (None, 1)                 1179      \n",
            "                                                                 \n",
            "=================================================================\n",
            "Total params: 1,043,709\n",
            "Trainable params: 1,043,709\n",
            "Non-trainable params: 0\n",
            "_________________________________________________________________\n"
          ]
        }
      ],
      "source": [
        "model = Sequential()\n",
        "input_shape = len(X_train[0])\n",
        "print('Numero de entradas:',input_shape)\n",
        "\n",
        "model.add(Dense(X_train.shape[1], input_shape=(input_shape,), activation='relu', kernel_initializer='he_uniform'))\n",
        "model.add(Dense(X_train.shape[1]*2, activation='relu', kernel_initializer='he_uniform'))\n",
        "model.add(Dense(1, activation='linear', kernel_initializer='glorot_uniform'))\n",
        "\n",
        "model.summary()"
      ]
    },
    {
      "cell_type": "code",
      "source": [
        "# Definir el optimizador\n",
        "optimizer = Adam(learning_rate=0.01)\n",
        "\n",
        "# Compilar el modelo\n",
        "model.compile(loss='mean_squared_error', optimizer=optimizer)\n",
        "\n",
        "# Definir early stopping\n",
        "early_stop = EarlyStopping(monitor='val_loss', patience=10, mode='min', verbose=0)\n",
        "\n",
        "# Definir reducción del learning rate\n",
        "reduce_lr = ReduceLROnPlateau(monitor='val_loss', factor=0.01, patience=5, min_lr=0.001, mode='min', verbose=0)\n",
        "\n",
        "batch_size=int(math.sqrt(len(X_train)))\n",
        "print(\"batch_size:\",batch_size)\n",
        "\n",
        "# Entrenar el modelo con reducción del learning rate\n",
        "history = model.fit(X_train, y_train, validation_data=(X_test, y_test), epochs=5000, batch_size=batch_size, callbacks=[early_stop,reduce_lr], use_multiprocessing=True)"
      ],
      "metadata": {
        "colab": {
          "base_uri": "https://localhost:8080/"
        },
        "id": "-zgX5U6uiQ5I",
        "outputId": "5c54351f-9246-4790-e921-41b0015ac099"
      },
      "execution_count": 23,
      "outputs": [
        {
          "output_type": "stream",
          "name": "stdout",
          "text": [
            "batch_size: 101\n",
            "Epoch 1/5000\n",
            "103/103 [==============================] - 3s 25ms/step - loss: 221127648.0000 - val_loss: 105489400.0000 - lr: 0.0100\n",
            "Epoch 2/5000\n",
            "103/103 [==============================] - 2s 24ms/step - loss: 157240624.0000 - val_loss: 104496368.0000 - lr: 0.0100\n",
            "Epoch 3/5000\n",
            "103/103 [==============================] - 2s 23ms/step - loss: 155781408.0000 - val_loss: 101302920.0000 - lr: 0.0100\n",
            "Epoch 4/5000\n",
            "103/103 [==============================] - 3s 29ms/step - loss: 151069936.0000 - val_loss: 91810264.0000 - lr: 0.0100\n",
            "Epoch 5/5000\n",
            "103/103 [==============================] - 4s 36ms/step - loss: 146098832.0000 - val_loss: 92811944.0000 - lr: 0.0100\n",
            "Epoch 6/5000\n",
            "103/103 [==============================] - 2s 23ms/step - loss: 137388768.0000 - val_loss: 92919280.0000 - lr: 0.0100\n",
            "Epoch 7/5000\n",
            "103/103 [==============================] - 2s 23ms/step - loss: 133430120.0000 - val_loss: 92093072.0000 - lr: 0.0100\n",
            "Epoch 8/5000\n",
            "103/103 [==============================] - 2s 23ms/step - loss: 132074352.0000 - val_loss: 84801496.0000 - lr: 0.0100\n",
            "Epoch 9/5000\n",
            "103/103 [==============================] - 2s 23ms/step - loss: 139898032.0000 - val_loss: 107467040.0000 - lr: 0.0100\n",
            "Epoch 10/5000\n",
            "103/103 [==============================] - 4s 39ms/step - loss: 134596800.0000 - val_loss: 80204280.0000 - lr: 0.0100\n",
            "Epoch 11/5000\n",
            "103/103 [==============================] - 3s 25ms/step - loss: 151637504.0000 - val_loss: 81581704.0000 - lr: 0.0100\n",
            "Epoch 12/5000\n",
            "103/103 [==============================] - 2s 24ms/step - loss: 137780400.0000 - val_loss: 82670816.0000 - lr: 0.0100\n",
            "Epoch 13/5000\n",
            "103/103 [==============================] - 2s 24ms/step - loss: 128760392.0000 - val_loss: 78636672.0000 - lr: 0.0100\n",
            "Epoch 14/5000\n",
            "103/103 [==============================] - 2s 23ms/step - loss: 139635696.0000 - val_loss: 107402360.0000 - lr: 0.0100\n",
            "Epoch 15/5000\n",
            "103/103 [==============================] - 3s 34ms/step - loss: 134123224.0000 - val_loss: 81570728.0000 - lr: 0.0100\n",
            "Epoch 16/5000\n",
            "103/103 [==============================] - 3s 30ms/step - loss: 122156344.0000 - val_loss: 78799760.0000 - lr: 0.0100\n",
            "Epoch 17/5000\n",
            "103/103 [==============================] - 2s 23ms/step - loss: 121960280.0000 - val_loss: 76397448.0000 - lr: 0.0100\n",
            "Epoch 18/5000\n",
            "103/103 [==============================] - 2s 24ms/step - loss: 126666920.0000 - val_loss: 75719464.0000 - lr: 0.0100\n",
            "Epoch 19/5000\n",
            "103/103 [==============================] - 2s 23ms/step - loss: 122684352.0000 - val_loss: 76144392.0000 - lr: 0.0100\n",
            "Epoch 20/5000\n",
            "103/103 [==============================] - 3s 32ms/step - loss: 109374216.0000 - val_loss: 75677256.0000 - lr: 0.0100\n",
            "Epoch 21/5000\n",
            "103/103 [==============================] - 3s 32ms/step - loss: 109710984.0000 - val_loss: 84832104.0000 - lr: 0.0100\n",
            "Epoch 22/5000\n",
            "103/103 [==============================] - 2s 23ms/step - loss: 119050776.0000 - val_loss: 75491600.0000 - lr: 0.0100\n",
            "Epoch 23/5000\n",
            "103/103 [==============================] - 2s 23ms/step - loss: 113302256.0000 - val_loss: 71418912.0000 - lr: 0.0100\n",
            "Epoch 24/5000\n",
            "103/103 [==============================] - 2s 22ms/step - loss: 113763064.0000 - val_loss: 81224584.0000 - lr: 0.0100\n",
            "Epoch 25/5000\n",
            "103/103 [==============================] - 2s 24ms/step - loss: 104926696.0000 - val_loss: 74885736.0000 - lr: 0.0100\n",
            "Epoch 26/5000\n",
            "103/103 [==============================] - 4s 39ms/step - loss: 101201144.0000 - val_loss: 71463400.0000 - lr: 0.0100\n",
            "Epoch 27/5000\n",
            "103/103 [==============================] - 2s 22ms/step - loss: 110691248.0000 - val_loss: 81413688.0000 - lr: 0.0100\n",
            "Epoch 28/5000\n",
            "103/103 [==============================] - 2s 24ms/step - loss: 103352512.0000 - val_loss: 83825224.0000 - lr: 0.0100\n",
            "Epoch 29/5000\n",
            "103/103 [==============================] - 2s 23ms/step - loss: 105645672.0000 - val_loss: 65151768.0000 - lr: 0.0010\n",
            "Epoch 30/5000\n",
            "103/103 [==============================] - 2s 23ms/step - loss: 92366896.0000 - val_loss: 62830668.0000 - lr: 0.0010\n",
            "Epoch 31/5000\n",
            "103/103 [==============================] - 3s 33ms/step - loss: 89366400.0000 - val_loss: 63534184.0000 - lr: 0.0010\n",
            "Epoch 32/5000\n",
            "103/103 [==============================] - 3s 29ms/step - loss: 89464728.0000 - val_loss: 62524876.0000 - lr: 0.0010\n",
            "Epoch 33/5000\n",
            "103/103 [==============================] - 2s 23ms/step - loss: 88968016.0000 - val_loss: 61885108.0000 - lr: 0.0010\n",
            "Epoch 34/5000\n",
            "103/103 [==============================] - 2s 23ms/step - loss: 88527520.0000 - val_loss: 62535420.0000 - lr: 0.0010\n",
            "Epoch 35/5000\n",
            "103/103 [==============================] - 2s 23ms/step - loss: 87418112.0000 - val_loss: 61505688.0000 - lr: 0.0010\n",
            "Epoch 36/5000\n",
            "103/103 [==============================] - 3s 27ms/step - loss: 87925904.0000 - val_loss: 61623440.0000 - lr: 0.0010\n",
            "Epoch 37/5000\n",
            "103/103 [==============================] - 4s 35ms/step - loss: 87526136.0000 - val_loss: 61311324.0000 - lr: 0.0010\n",
            "Epoch 38/5000\n",
            "103/103 [==============================] - 2s 23ms/step - loss: 87494152.0000 - val_loss: 61199828.0000 - lr: 0.0010\n",
            "Epoch 39/5000\n",
            "103/103 [==============================] - 2s 23ms/step - loss: 86622696.0000 - val_loss: 60788048.0000 - lr: 0.0010\n",
            "Epoch 40/5000\n",
            "103/103 [==============================] - 2s 24ms/step - loss: 86146696.0000 - val_loss: 60413292.0000 - lr: 0.0010\n",
            "Epoch 41/5000\n",
            "103/103 [==============================] - 2s 23ms/step - loss: 85486200.0000 - val_loss: 61427372.0000 - lr: 0.0010\n",
            "Epoch 42/5000\n",
            "103/103 [==============================] - 4s 38ms/step - loss: 86636680.0000 - val_loss: 60340764.0000 - lr: 0.0010\n",
            "Epoch 43/5000\n",
            "103/103 [==============================] - 3s 25ms/step - loss: 86172928.0000 - val_loss: 59943440.0000 - lr: 0.0010\n",
            "Epoch 44/5000\n",
            "103/103 [==============================] - 2s 24ms/step - loss: 85271904.0000 - val_loss: 60036652.0000 - lr: 0.0010\n",
            "Epoch 45/5000\n",
            "103/103 [==============================] - 2s 23ms/step - loss: 85590024.0000 - val_loss: 59815364.0000 - lr: 0.0010\n",
            "Epoch 46/5000\n",
            "103/103 [==============================] - 2s 23ms/step - loss: 85152760.0000 - val_loss: 59546316.0000 - lr: 0.0010\n",
            "Epoch 47/5000\n",
            "103/103 [==============================] - 3s 34ms/step - loss: 84701512.0000 - val_loss: 59838612.0000 - lr: 0.0010\n",
            "Epoch 48/5000\n",
            "103/103 [==============================] - 3s 29ms/step - loss: 84563936.0000 - val_loss: 59014804.0000 - lr: 0.0010\n",
            "Epoch 49/5000\n",
            "103/103 [==============================] - 2s 22ms/step - loss: 83511176.0000 - val_loss: 59169432.0000 - lr: 0.0010\n",
            "Epoch 50/5000\n",
            "103/103 [==============================] - 2s 22ms/step - loss: 83107224.0000 - val_loss: 59393844.0000 - lr: 0.0010\n",
            "Epoch 51/5000\n",
            "103/103 [==============================] - 2s 22ms/step - loss: 83563504.0000 - val_loss: 58411524.0000 - lr: 0.0010\n",
            "Epoch 52/5000\n",
            "103/103 [==============================] - 3s 25ms/step - loss: 82747248.0000 - val_loss: 58646768.0000 - lr: 0.0010\n",
            "Epoch 53/5000\n",
            "103/103 [==============================] - 4s 36ms/step - loss: 82354984.0000 - val_loss: 58541164.0000 - lr: 0.0010\n",
            "Epoch 54/5000\n",
            "103/103 [==============================] - 2s 23ms/step - loss: 82518504.0000 - val_loss: 58918716.0000 - lr: 0.0010\n",
            "Epoch 55/5000\n",
            "103/103 [==============================] - 2s 22ms/step - loss: 82980128.0000 - val_loss: 58191132.0000 - lr: 0.0010\n",
            "Epoch 56/5000\n",
            "103/103 [==============================] - 2s 22ms/step - loss: 81721152.0000 - val_loss: 57978036.0000 - lr: 0.0010\n",
            "Epoch 57/5000\n",
            "103/103 [==============================] - 2s 22ms/step - loss: 82125328.0000 - val_loss: 57648624.0000 - lr: 0.0010\n",
            "Epoch 58/5000\n",
            "103/103 [==============================] - 3s 31ms/step - loss: 82374272.0000 - val_loss: 60586284.0000 - lr: 0.0010\n",
            "Epoch 59/5000\n",
            "103/103 [==============================] - 3s 31ms/step - loss: 80994856.0000 - val_loss: 58518752.0000 - lr: 0.0010\n",
            "Epoch 60/5000\n",
            "103/103 [==============================] - 2s 23ms/step - loss: 81952608.0000 - val_loss: 57475292.0000 - lr: 0.0010\n",
            "Epoch 61/5000\n",
            "103/103 [==============================] - 2s 23ms/step - loss: 81379536.0000 - val_loss: 59350680.0000 - lr: 0.0010\n",
            "Epoch 62/5000\n",
            "103/103 [==============================] - 2s 23ms/step - loss: 80836440.0000 - val_loss: 58806816.0000 - lr: 0.0010\n",
            "Epoch 63/5000\n",
            "103/103 [==============================] - 3s 27ms/step - loss: 81772704.0000 - val_loss: 57338676.0000 - lr: 0.0010\n",
            "Epoch 64/5000\n",
            "103/103 [==============================] - 4s 36ms/step - loss: 82532784.0000 - val_loss: 57730016.0000 - lr: 0.0010\n",
            "Epoch 65/5000\n",
            "103/103 [==============================] - 2s 23ms/step - loss: 80263720.0000 - val_loss: 58424648.0000 - lr: 0.0010\n",
            "Epoch 66/5000\n",
            "103/103 [==============================] - 2s 22ms/step - loss: 79832056.0000 - val_loss: 57997568.0000 - lr: 0.0010\n",
            "Epoch 67/5000\n",
            "103/103 [==============================] - 2s 23ms/step - loss: 79939352.0000 - val_loss: 57343728.0000 - lr: 0.0010\n",
            "Epoch 68/5000\n",
            "103/103 [==============================] - 2s 22ms/step - loss: 79570984.0000 - val_loss: 58460320.0000 - lr: 0.0010\n",
            "Epoch 69/5000\n",
            "103/103 [==============================] - 4s 36ms/step - loss: 79406224.0000 - val_loss: 57438700.0000 - lr: 0.0010\n",
            "Epoch 70/5000\n",
            "103/103 [==============================] - 3s 27ms/step - loss: 79377368.0000 - val_loss: 56746016.0000 - lr: 0.0010\n",
            "Epoch 71/5000\n",
            "103/103 [==============================] - 2s 23ms/step - loss: 79575048.0000 - val_loss: 57232128.0000 - lr: 0.0010\n",
            "Epoch 72/5000\n",
            "103/103 [==============================] - 2s 22ms/step - loss: 79397376.0000 - val_loss: 56518300.0000 - lr: 0.0010\n",
            "Epoch 73/5000\n",
            "103/103 [==============================] - 2s 23ms/step - loss: 79118856.0000 - val_loss: 56246212.0000 - lr: 0.0010\n",
            "Epoch 74/5000\n",
            "103/103 [==============================] - 3s 29ms/step - loss: 78985960.0000 - val_loss: 56320800.0000 - lr: 0.0010\n",
            "Epoch 75/5000\n",
            "103/103 [==============================] - 4s 34ms/step - loss: 78428048.0000 - val_loss: 56863100.0000 - lr: 0.0010\n",
            "Epoch 76/5000\n",
            "103/103 [==============================] - 2s 23ms/step - loss: 79143856.0000 - val_loss: 57820384.0000 - lr: 0.0010\n",
            "Epoch 77/5000\n",
            "103/103 [==============================] - 2s 23ms/step - loss: 77989112.0000 - val_loss: 56883248.0000 - lr: 0.0010\n",
            "Epoch 78/5000\n",
            "103/103 [==============================] - 2s 22ms/step - loss: 78394520.0000 - val_loss: 55812556.0000 - lr: 0.0010\n",
            "Epoch 79/5000\n",
            "103/103 [==============================] - 2s 23ms/step - loss: 78383360.0000 - val_loss: 55882900.0000 - lr: 0.0010\n",
            "Epoch 80/5000\n",
            "103/103 [==============================] - 4s 35ms/step - loss: 78924256.0000 - val_loss: 56455404.0000 - lr: 0.0010\n",
            "Epoch 81/5000\n",
            "103/103 [==============================] - 3s 27ms/step - loss: 77759576.0000 - val_loss: 55832260.0000 - lr: 0.0010\n",
            "Epoch 82/5000\n",
            "103/103 [==============================] - 2s 23ms/step - loss: 78179696.0000 - val_loss: 57105296.0000 - lr: 0.0010\n",
            "Epoch 83/5000\n",
            "103/103 [==============================] - 2s 23ms/step - loss: 78118368.0000 - val_loss: 55983644.0000 - lr: 0.0010\n",
            "Epoch 84/5000\n",
            "103/103 [==============================] - 2s 23ms/step - loss: 77534048.0000 - val_loss: 57477664.0000 - lr: 0.0010\n",
            "Epoch 85/5000\n",
            "103/103 [==============================] - 3s 30ms/step - loss: 77638352.0000 - val_loss: 55524856.0000 - lr: 0.0010\n",
            "Epoch 86/5000\n",
            "103/103 [==============================] - 3s 33ms/step - loss: 78264144.0000 - val_loss: 56488868.0000 - lr: 0.0010\n",
            "Epoch 87/5000\n",
            "103/103 [==============================] - 2s 23ms/step - loss: 77458896.0000 - val_loss: 55664820.0000 - lr: 0.0010\n",
            "Epoch 88/5000\n",
            "103/103 [==============================] - 2s 23ms/step - loss: 77654448.0000 - val_loss: 55783804.0000 - lr: 0.0010\n",
            "Epoch 89/5000\n",
            "103/103 [==============================] - 2s 22ms/step - loss: 77331712.0000 - val_loss: 57180260.0000 - lr: 0.0010\n",
            "Epoch 90/5000\n",
            "103/103 [==============================] - 2s 23ms/step - loss: 77378624.0000 - val_loss: 57273616.0000 - lr: 0.0010\n",
            "Epoch 91/5000\n",
            "103/103 [==============================] - 4s 36ms/step - loss: 77426624.0000 - val_loss: 55104572.0000 - lr: 0.0010\n",
            "Epoch 92/5000\n",
            "103/103 [==============================] - 3s 26ms/step - loss: 76728240.0000 - val_loss: 54842312.0000 - lr: 0.0010\n",
            "Epoch 93/5000\n",
            "103/103 [==============================] - 2s 22ms/step - loss: 76296328.0000 - val_loss: 55610532.0000 - lr: 0.0010\n",
            "Epoch 94/5000\n",
            "103/103 [==============================] - 2s 23ms/step - loss: 77112544.0000 - val_loss: 54963988.0000 - lr: 0.0010\n",
            "Epoch 95/5000\n",
            "103/103 [==============================] - 2s 23ms/step - loss: 76059824.0000 - val_loss: 55333780.0000 - lr: 0.0010\n",
            "Epoch 96/5000\n",
            "103/103 [==============================] - 3s 30ms/step - loss: 76038048.0000 - val_loss: 54417768.0000 - lr: 0.0010\n",
            "Epoch 97/5000\n",
            "103/103 [==============================] - 3s 33ms/step - loss: 77799880.0000 - val_loss: 55141940.0000 - lr: 0.0010\n",
            "Epoch 98/5000\n",
            "103/103 [==============================] - 2s 23ms/step - loss: 75255680.0000 - val_loss: 54825864.0000 - lr: 0.0010\n",
            "Epoch 99/5000\n",
            "103/103 [==============================] - 2s 23ms/step - loss: 74650888.0000 - val_loss: 55187960.0000 - lr: 0.0010\n",
            "Epoch 100/5000\n",
            "103/103 [==============================] - 2s 22ms/step - loss: 76004792.0000 - val_loss: 55098504.0000 - lr: 0.0010\n",
            "Epoch 101/5000\n",
            "103/103 [==============================] - 2s 22ms/step - loss: 75066776.0000 - val_loss: 55575544.0000 - lr: 0.0010\n",
            "Epoch 102/5000\n",
            "103/103 [==============================] - 4s 36ms/step - loss: 74581760.0000 - val_loss: 55105468.0000 - lr: 0.0010\n",
            "Epoch 103/5000\n",
            "103/103 [==============================] - 3s 25ms/step - loss: 74414336.0000 - val_loss: 57102852.0000 - lr: 0.0010\n",
            "Epoch 104/5000\n",
            "103/103 [==============================] - 2s 22ms/step - loss: 75272312.0000 - val_loss: 55616180.0000 - lr: 0.0010\n",
            "Epoch 105/5000\n",
            "103/103 [==============================] - 2s 22ms/step - loss: 75241192.0000 - val_loss: 54123208.0000 - lr: 0.0010\n",
            "Epoch 106/5000\n",
            "103/103 [==============================] - 2s 23ms/step - loss: 74760848.0000 - val_loss: 55016172.0000 - lr: 0.0010\n",
            "Epoch 107/5000\n",
            "103/103 [==============================] - 3s 30ms/step - loss: 74507512.0000 - val_loss: 54411228.0000 - lr: 0.0010\n",
            "Epoch 108/5000\n",
            "103/103 [==============================] - 3s 32ms/step - loss: 73819376.0000 - val_loss: 54487268.0000 - lr: 0.0010\n",
            "Epoch 109/5000\n",
            "103/103 [==============================] - 2s 23ms/step - loss: 73761736.0000 - val_loss: 54312796.0000 - lr: 0.0010\n",
            "Epoch 110/5000\n",
            "103/103 [==============================] - 2s 23ms/step - loss: 73745736.0000 - val_loss: 57130864.0000 - lr: 0.0010\n",
            "Epoch 111/5000\n",
            "103/103 [==============================] - 2s 23ms/step - loss: 74233104.0000 - val_loss: 54731896.0000 - lr: 0.0010\n",
            "Epoch 112/5000\n",
            "103/103 [==============================] - 2s 23ms/step - loss: 74038032.0000 - val_loss: 58182180.0000 - lr: 0.0010\n",
            "Epoch 113/5000\n",
            "103/103 [==============================] - 4s 36ms/step - loss: 74633592.0000 - val_loss: 55062968.0000 - lr: 0.0010\n",
            "Epoch 114/5000\n",
            "103/103 [==============================] - 3s 26ms/step - loss: 73832368.0000 - val_loss: 54813792.0000 - lr: 0.0010\n",
            "Epoch 115/5000\n",
            "103/103 [==============================] - 2s 23ms/step - loss: 72940200.0000 - val_loss: 57668360.0000 - lr: 0.0010\n"
          ]
        }
      ]
    },
    {
      "cell_type": "code",
      "source": [
        "# Evaluamos el modelo en los datos de entrenamiento\n",
        "mse = model.evaluate(X_test, y_test)\n",
        "print('Error cuadrático medio (MSE): %.2f' % (mse))"
      ],
      "metadata": {
        "colab": {
          "base_uri": "https://localhost:8080/"
        },
        "id": "nRaupp3siTY7",
        "outputId": "2e8e2943-8fde-456f-b8b0-5d37fb4bda0f"
      },
      "execution_count": 24,
      "outputs": [
        {
          "output_type": "stream",
          "name": "stdout",
          "text": [
            "108/108 [==============================] - 1s 5ms/step - loss: 57668352.0000\n",
            "Error cuadrático medio (MSE): 57668352.00\n"
          ]
        }
      ]
    },
    {
      "cell_type": "code",
      "source": [
        "# Graficar la evolución de la función de pérdida\n",
        "plt.plot(history.history['loss'])\n",
        "plt.title('Función de Pérdida')\n",
        "plt.xlabel('Época')\n",
        "plt.ylabel('Pérdida')\n",
        "plt.show()"
      ],
      "metadata": {
        "colab": {
          "base_uri": "https://localhost:8080/",
          "height": 474
        },
        "id": "QR3R9diOiU-w",
        "outputId": "9090426a-2715-4ecc-bcc0-b0df662e842b"
      },
      "execution_count": 25,
      "outputs": [
        {
          "output_type": "display_data",
          "data": {
            "text/plain": [
              "<Figure size 640x480 with 1 Axes>"
            ],
            "image/png": "[encoded data removed]"
          },
          "metadata": {}
        }
      ]
    },
    {
      "cell_type": "code",
      "source": [
        "test_data = {'color': 'COLOR_BLUE', 'fueltype': 'Diésel', 'km': '34798', 'make': 'AUDI', 'model': 'A3', 'province': 'Almería', 'transmissiontype': 'TRANSMISSION_AUTOMATIC', 'year': '2017', 'seller_type': 'profesional', 'bodytype': 'BODY_TYPE_BERLINA', 'cubiccapacity': '1598', 'doors': '5', 'hp': '116'}\n",
        "test_data = dv.transform([dict(test_data)])\n",
        "model.predict(test_data)"
      ],
      "metadata": {
        "colab": {
          "base_uri": "https://localhost:8080/"
        },
        "id": "7gEyqCHHcX_D",
        "outputId": "e43cf98b-9d75-48da-f52d-e4957b376705"
      },
      "execution_count": 28,
      "outputs": [
        {
          "output_type": "stream",
          "name": "stdout",
          "text": [
            "1/1 [==============================] - 0s 21ms/step\n"
          ]
        },
        {
          "output_type": "execute_result",
          "data": {
            "text/plain": [
              "array([[2756.1704]], dtype=float32)"
            ]
          },
          "metadata": {},
          "execution_count": 28
        }
      ]
    },
    {
      "cell_type": "code",
      "source": [
        "y_pred = model.predict(X_test)\n",
        "import numpy as np\n",
        "\n",
        "# Crear un array de índices para los datos de prueba\n",
        "indices = np.arange(15)\n",
        "\n",
        "# Crear un gráfico de barras comparando los valores reales con las predicciones\n",
        "plt.bar(indices, y_test.values.flatten()[:15], color='b', alpha=0.5, label='Real')\n",
        "plt.bar(indices, y_pred.flatten()[:15], color='r', alpha=0.5, label='Predicción')\n",
        "plt.title('Comparación de valores reales y predicciones')\n",
        "plt.xlabel('Índice de muestra')\n",
        "plt.ylabel('Valor')\n",
        "plt.legend()\n",
        "plt.show()\n"
      ],
      "metadata": {
        "colab": {
          "base_uri": "https://localhost:8080/",
          "height": 489
        },
        "id": "fGxuFgFSi3ja",
        "outputId": "09dc3d73-2da2-403f-a032-d16ddcdbc6be"
      },
      "execution_count": 51,
      "outputs": [
        {
          "output_type": "stream",
          "name": "stdout",
          "text": [
            "108/108 [==============================] - 1s 9ms/step\n"
          ]
        },
        {
          "output_type": "display_data",
          "data": {
            "text/plain": [
              "<Figure size 640x480 with 1 Axes>"
            ],
            "image/png": "[encoded data removed]"
          },
          "metadata": {}
        }
      ]
    },
    {
      "cell_type": "code",
      "source": [
        "X_test[:1]"
      ],
      "metadata": {
        "colab": {
          "base_uri": "https://localhost:8080/"
        },
        "id": "qnTcQeaAdfoG",
        "outputId": "17ce6a26-3711-4d93-b0b0-bbaa38abd5b9"
      },
      "execution_count": 30,
      "outputs": [
        {
          "output_type": "execute_result",
          "data": {
            "text/plain": [
              "array([[0.000e+00, 0.000e+00, 0.000e+00, 0.000e+00, 0.000e+00, 0.000e+00,\n",
              "        0.000e+00, 1.000e+00, 0.000e+00, 0.000e+00, 0.000e+00, 0.000e+00,\n",
              "        0.000e+00, 0.000e+00, 0.000e+00, 0.000e+00, 0.000e+00, 0.000e+00,\n",
              "        0.000e+00, 1.000e+00, 0.000e+00, 1.198e+03, 5.000e+00, 0.000e+00,\n",
              "        0.000e+00, 0.000e+00, 0.000e+00, 1.000e+00, 0.000e+00, 0.000e+00,\n",
              "        1.150e+02, 0.000e+00, 0.000e+00, 0.000e+00, 0.000e+00, 0.000e+00,\n",
              "        0.000e+00, 0.000e+00, 0.000e+00, 0.000e+00, 0.000e+00, 0.000e+00,\n",
              "        0.000e+00, 0.000e+00, 0.000e+00, 0.000e+00, 0.000e+00, 0.000e+00,\n",
              "        0.000e+00, 0.000e+00, 0.000e+00, 0.000e+00, 0.000e+00, 0.000e+00,\n",
              "        0.000e+00, 0.000e+00, 0.000e+00, 0.000e+00, 0.000e+00, 1.000e+00,\n",
              "        0.000e+00, 0.000e+00, 0.000e+00, 0.000e+00, 0.000e+00, 0.000e+00,\n",
              "        0.000e+00, 0.000e+00, 0.000e+00, 0.000e+00, 0.000e+00, 0.000e+00,\n",
              "        0.000e+00, 0.000e+00, 0.000e+00, 0.000e+00, 0.000e+00, 0.000e+00,\n",
              "        0.000e+00, 0.000e+00, 0.000e+00, 0.000e+00, 0.000e+00, 0.000e+00,\n",
              "        0.000e+00, 0.000e+00, 0.000e+00, 0.000e+00, 0.000e+00, 0.000e+00,\n",
              "        0.000e+00, 0.000e+00, 0.000e+00, 0.000e+00, 0.000e+00, 0.000e+00,\n",
              "        0.000e+00, 0.000e+00, 0.000e+00, 0.000e+00, 0.000e+00, 0.000e+00,\n",
              "        0.000e+00, 0.000e+00, 0.000e+00, 0.000e+00, 0.000e+00, 0.000e+00,\n",
              "        0.000e+00, 0.000e+00, 0.000e+00, 0.000e+00, 0.000e+00, 0.000e+00,\n",
              "        0.000e+00, 0.000e+00, 0.000e+00, 0.000e+00, 0.000e+00, 0.000e+00,\n",
              "        0.000e+00, 0.000e+00, 0.000e+00, 0.000e+00, 0.000e+00, 0.000e+00,\n",
              "        0.000e+00, 0.000e+00, 0.000e+00, 0.000e+00, 0.000e+00, 0.000e+00,\n",
              "        0.000e+00, 0.000e+00, 0.000e+00, 0.000e+00, 0.000e+00, 0.000e+00,\n",
              "        0.000e+00, 0.000e+00, 0.000e+00, 0.000e+00, 0.000e+00, 0.000e+00,\n",
              "        0.000e+00, 0.000e+00, 0.000e+00, 0.000e+00, 0.000e+00, 0.000e+00,\n",
              "        0.000e+00, 0.000e+00, 0.000e+00, 0.000e+00, 0.000e+00, 0.000e+00,\n",
              "        0.000e+00, 0.000e+00, 0.000e+00, 0.000e+00, 0.000e+00, 0.000e+00,\n",
              "        0.000e+00, 0.000e+00, 0.000e+00, 0.000e+00, 0.000e+00, 0.000e+00,\n",
              "        0.000e+00, 0.000e+00, 0.000e+00, 0.000e+00, 0.000e+00, 0.000e+00,\n",
              "        0.000e+00, 0.000e+00, 0.000e+00, 0.000e+00, 0.000e+00, 0.000e+00,\n",
              "        0.000e+00, 0.000e+00, 0.000e+00, 0.000e+00, 0.000e+00, 0.000e+00,\n",
              "        0.000e+00, 0.000e+00, 0.000e+00, 0.000e+00, 0.000e+00, 0.000e+00,\n",
              "        0.000e+00, 0.000e+00, 0.000e+00, 0.000e+00, 0.000e+00, 0.000e+00,\n",
              "        0.000e+00, 0.000e+00, 0.000e+00, 0.000e+00, 0.000e+00, 0.000e+00,\n",
              "        0.000e+00, 0.000e+00, 0.000e+00, 0.000e+00, 0.000e+00, 0.000e+00,\n",
              "        0.000e+00, 0.000e+00, 0.000e+00, 0.000e+00, 0.000e+00, 0.000e+00,\n",
              "        0.000e+00, 0.000e+00, 0.000e+00, 0.000e+00, 0.000e+00, 0.000e+00,\n",
              "        0.000e+00, 0.000e+00, 0.000e+00, 0.000e+00, 0.000e+00, 0.000e+00,\n",
              "        0.000e+00, 0.000e+00, 0.000e+00, 0.000e+00, 0.000e+00, 0.000e+00,\n",
              "        0.000e+00, 0.000e+00, 0.000e+00, 0.000e+00, 0.000e+00, 0.000e+00,\n",
              "        0.000e+00, 0.000e+00, 0.000e+00, 0.000e+00, 0.000e+00, 0.000e+00,\n",
              "        0.000e+00, 0.000e+00, 0.000e+00, 0.000e+00, 0.000e+00, 0.000e+00,\n",
              "        0.000e+00, 0.000e+00, 0.000e+00, 0.000e+00, 0.000e+00, 0.000e+00,\n",
              "        0.000e+00, 0.000e+00, 0.000e+00, 0.000e+00, 0.000e+00, 0.000e+00,\n",
              "        0.000e+00, 0.000e+00, 0.000e+00, 0.000e+00, 0.000e+00, 0.000e+00,\n",
              "        0.000e+00, 0.000e+00, 0.000e+00, 0.000e+00, 0.000e+00, 0.000e+00,\n",
              "        0.000e+00, 0.000e+00, 0.000e+00, 0.000e+00, 0.000e+00, 0.000e+00,\n",
              "        0.000e+00, 0.000e+00, 0.000e+00, 0.000e+00, 0.000e+00, 0.000e+00,\n",
              "        0.000e+00, 0.000e+00, 0.000e+00, 0.000e+00, 0.000e+00, 0.000e+00,\n",
              "        0.000e+00, 0.000e+00, 0.000e+00, 0.000e+00, 0.000e+00, 0.000e+00,\n",
              "        0.000e+00, 0.000e+00, 0.000e+00, 0.000e+00, 0.000e+00, 0.000e+00,\n",
              "        0.000e+00, 0.000e+00, 0.000e+00, 0.000e+00, 0.000e+00, 0.000e+00,\n",
              "        0.000e+00, 0.000e+00, 0.000e+00, 0.000e+00, 0.000e+00, 0.000e+00,\n",
              "        0.000e+00, 0.000e+00, 0.000e+00, 0.000e+00, 0.000e+00, 0.000e+00,\n",
              "        0.000e+00, 0.000e+00, 0.000e+00, 0.000e+00, 0.000e+00, 0.000e+00,\n",
              "        0.000e+00, 1.000e+00, 0.000e+00, 0.000e+00, 0.000e+00, 0.000e+00,\n",
              "        0.000e+00, 0.000e+00, 0.000e+00, 0.000e+00, 0.000e+00, 0.000e+00,\n",
              "        0.000e+00, 0.000e+00, 0.000e+00, 0.000e+00, 0.000e+00, 0.000e+00,\n",
              "        0.000e+00, 0.000e+00, 0.000e+00, 0.000e+00, 0.000e+00, 0.000e+00,\n",
              "        0.000e+00, 0.000e+00, 0.000e+00, 0.000e+00, 0.000e+00, 0.000e+00,\n",
              "        0.000e+00, 0.000e+00, 0.000e+00, 0.000e+00, 0.000e+00, 0.000e+00,\n",
              "        0.000e+00, 0.000e+00, 0.000e+00, 0.000e+00, 0.000e+00, 0.000e+00,\n",
              "        0.000e+00, 0.000e+00, 0.000e+00, 0.000e+00, 0.000e+00, 0.000e+00,\n",
              "        0.000e+00, 0.000e+00, 0.000e+00, 0.000e+00, 0.000e+00, 0.000e+00,\n",
              "        0.000e+00, 0.000e+00, 0.000e+00, 0.000e+00, 0.000e+00, 0.000e+00,\n",
              "        0.000e+00, 0.000e+00, 0.000e+00, 0.000e+00, 0.000e+00, 0.000e+00,\n",
              "        0.000e+00, 0.000e+00, 0.000e+00, 0.000e+00, 0.000e+00, 0.000e+00,\n",
              "        0.000e+00, 0.000e+00, 0.000e+00, 0.000e+00, 0.000e+00, 0.000e+00,\n",
              "        0.000e+00, 0.000e+00, 0.000e+00, 0.000e+00, 0.000e+00, 0.000e+00,\n",
              "        0.000e+00, 0.000e+00, 0.000e+00, 0.000e+00, 0.000e+00, 0.000e+00,\n",
              "        0.000e+00, 0.000e+00, 0.000e+00, 0.000e+00, 0.000e+00, 0.000e+00,\n",
              "        0.000e+00, 0.000e+00, 0.000e+00, 0.000e+00, 0.000e+00, 0.000e+00,\n",
              "        0.000e+00, 0.000e+00, 0.000e+00, 0.000e+00, 0.000e+00, 0.000e+00,\n",
              "        0.000e+00, 0.000e+00, 0.000e+00, 0.000e+00, 0.000e+00, 0.000e+00,\n",
              "        0.000e+00, 0.000e+00, 0.000e+00, 0.000e+00, 0.000e+00, 0.000e+00,\n",
              "        0.000e+00, 0.000e+00, 0.000e+00, 0.000e+00, 0.000e+00, 0.000e+00,\n",
              "        0.000e+00, 0.000e+00, 0.000e+00, 0.000e+00, 0.000e+00, 0.000e+00,\n",
              "        0.000e+00, 0.000e+00, 0.000e+00, 0.000e+00, 0.000e+00, 0.000e+00,\n",
              "        0.000e+00, 0.000e+00, 0.000e+00, 0.000e+00, 0.000e+00, 0.000e+00,\n",
              "        0.000e+00, 0.000e+00, 0.000e+00, 0.000e+00, 0.000e+00, 0.000e+00,\n",
              "        0.000e+00, 0.000e+00, 0.000e+00, 0.000e+00, 0.000e+00, 0.000e+00,\n",
              "        0.000e+00, 0.000e+00, 0.000e+00, 0.000e+00, 0.000e+00, 0.000e+00,\n",
              "        0.000e+00, 0.000e+00, 0.000e+00, 0.000e+00, 0.000e+00, 0.000e+00,\n",
              "        0.000e+00, 0.000e+00, 0.000e+00, 0.000e+00, 0.000e+00, 0.000e+00,\n",
              "        0.000e+00, 0.000e+00, 0.000e+00, 0.000e+00, 0.000e+00, 0.000e+00,\n",
              "        0.000e+00, 0.000e+00, 0.000e+00, 0.000e+00, 0.000e+00, 0.000e+00,\n",
              "        0.000e+00, 0.000e+00, 0.000e+00, 0.000e+00, 0.000e+00, 0.000e+00,\n",
              "        0.000e+00, 0.000e+00, 0.000e+00, 0.000e+00, 0.000e+00, 0.000e+00,\n",
              "        0.000e+00, 0.000e+00, 0.000e+00, 0.000e+00, 0.000e+00, 0.000e+00,\n",
              "        0.000e+00, 0.000e+00, 0.000e+00, 0.000e+00, 0.000e+00, 0.000e+00,\n",
              "        0.000e+00, 0.000e+00, 0.000e+00, 0.000e+00, 0.000e+00, 0.000e+00,\n",
              "        0.000e+00, 0.000e+00, 0.000e+00, 0.000e+00, 0.000e+00, 0.000e+00,\n",
              "        0.000e+00, 0.000e+00, 0.000e+00, 0.000e+00, 0.000e+00, 0.000e+00,\n",
              "        0.000e+00, 0.000e+00, 0.000e+00, 1.000e+00, 0.000e+00, 0.000e+00,\n",
              "        0.000e+00, 0.000e+00, 0.000e+00, 0.000e+00, 0.000e+00, 0.000e+00,\n",
              "        0.000e+00, 0.000e+00, 0.000e+00, 0.000e+00, 0.000e+00, 0.000e+00,\n",
              "        0.000e+00, 0.000e+00, 0.000e+00, 0.000e+00, 0.000e+00, 0.000e+00,\n",
              "        0.000e+00, 0.000e+00, 0.000e+00, 1.000e+00, 0.000e+00, 1.000e+00,\n",
              "        2.015e+03]])"
            ]
          },
          "metadata": {},
          "execution_count": 30
        }
      ]
    },
    {
      "cell_type": "code",
      "source": [
        "ind = np.arange(15)\n",
        "width = 0.35\n",
        "\n",
        "plt.figure(figsize=(9,4))\n",
        "plt.bar(ind, y_test.values.flatten()[:15], width, label='Precio de venta real')\n",
        "plt.bar(ind+width, y_pred.flatten()[:15], width, label='Precio de venta modelo')\n",
        "\n",
        "plt.xticks(ind+width/2, np.arange(1, 16))\n",
        "plt.legend(loc='best')\n",
        "\n",
        "plt.xlabel('Coches')\n",
        "plt.ylabel('Precio de venta')\n",
        "plt.title('Precio de venta - Real vs. Modelo')\n",
        "\n",
        "plt.show()\n",
        "     "
      ],
      "metadata": {
        "colab": {
          "base_uri": "https://localhost:8080/",
          "height": 410
        },
        "id": "yihWInYfNWsu",
        "outputId": "bcd739f5-bba9-4983-8724-7fe831781513"
      },
      "execution_count": 52,
      "outputs": [
        {
          "output_type": "display_data",
          "data": {
            "text/plain": [
              "<Figure size 900x400 with 1 Axes>"
            ],
            "image/png": "[encoded data removed]"
          },
          "metadata": {}
        }
      ]
    },
    {
      "cell_type": "markdown",
      "source": [
        "# 5. Exportación de modelo."
      ],
      "metadata": {
        "id": "FgiflfxTgRY-"
      }
    },
    {
      "cell_type": "code",
      "source": [
        "with open('dict_vectorizer_coches_net.pck', 'wb') as f:\n",
        "  pickle.dump((dv), f)\n",
        "model.save('modelo_keras_coches_net.hdf5')"
      ],
      "metadata": {
        "id": "CmjbUfhmhHY7"
      },
      "execution_count": 53,
      "outputs": []
    },
    {
      "cell_type": "code",
      "source": [
        "with open('dict_vectorizer_coches_net.pck', 'rb') as f:\n",
        "  dv_read = pickle.load(f)\n",
        "model_read = tf.keras.models.load_model('modelo_keras_coches_net.hdf5')"
      ],
      "metadata": {
        "id": "eNN0zYmvhKa-"
      },
      "execution_count": 54,
      "outputs": []
    },
    {
      "cell_type": "code",
      "source": [
        "dv_read"
      ],
      "metadata": {
        "colab": {
          "base_uri": "https://localhost:8080/",
          "height": 75
        },
        "id": "2bT__d5bhhrr",
        "outputId": "f481852b-01a4-40bf-9014-53b363be384a"
      },
      "execution_count": 55,
      "outputs": [
        {
          "output_type": "execute_result",
          "data": {
            "text/plain": [
              "DictVectorizer(sparse=False)"
            ],
            "text/html": [
              "<style>#sk-container-id-1 {color: black;background-color: white;}#sk-container-id-1 pre{padding: 0;}#sk-container-id-1 div.sk-toggleable {background-color: white;}#sk-container-id-1 label.sk-toggleable__label {cursor: pointer;display: block;width: 100%;margin-bottom: 0;padding: 0.3em;box-sizing: border-box;text-align: center;}#sk-container-id-1 label.sk-toggleable__label-arrow:before {content: \"▸\";float: left;margin-right: 0.25em;color: #696969;}#sk-container-id-1 label.sk-toggleable__label-arrow:hover:before {color: black;}#sk-container-id-1 div.sk-estimator:hover label.sk-toggleable__label-arrow:before {color: black;}#sk-container-id-1 div.sk-toggleable__content {max-height: 0;max-width: 0;overflow: hidden;text-align: left;background-color: #f0f8ff;}#sk-container-id-1 div.sk-toggleable__content pre {margin: 0.2em;color: black;border-radius: 0.25em;background-color: #f0f8ff;}#sk-container-id-1 input.sk-toggleable__control:checked~div.sk-toggleable__content {max-height: 200px;max-width: 100%;overflow: auto;}#sk-container-id-1 input.sk-toggleable__control:checked~label.sk-toggleable__label-arrow:before {content: \"▾\";}#sk-container-id-1 div.sk-estimator input.sk-toggleable__control:checked~label.sk-toggleable__label {background-color: #d4ebff;}#sk-container-id-1 div.sk-label input.sk-toggleable__control:checked~label.sk-toggleable__label {background-color: #d4ebff;}#sk-container-id-1 input.sk-hidden--visually {border: 0;clip: rect(1px 1px 1px 1px);clip: rect(1px, 1px, 1px, 1px);height: 1px;margin: -1px;overflow: hidden;padding: 0;position: absolute;width: 1px;}#sk-container-id-1 div.sk-estimator {font-family: monospace;background-color: #f0f8ff;border: 1px dotted black;border-radius: 0.25em;box-sizing: border-box;margin-bottom: 0.5em;}#sk-container-id-1 div.sk-estimator:hover {background-color: #d4ebff;}#sk-container-id-1 div.sk-parallel-item::after {content: \"\";width: 100%;border-bottom: 1px solid gray;flex-grow: 1;}#sk-container-id-1 div.sk-label:hover label.sk-toggleable__label {background-color: #d4ebff;}#sk-container-id-1 div.sk-serial::before {content: \"\";position: absolute;border-left: 1px solid gray;box-sizing: border-box;top: 0;bottom: 0;left: 50%;z-index: 0;}#sk-container-id-1 div.sk-serial {display: flex;flex-direction: column;align-items: center;background-color: white;padding-right: 0.2em;padding-left: 0.2em;position: relative;}#sk-container-id-1 div.sk-item {position: relative;z-index: 1;}#sk-container-id-1 div.sk-parallel {display: flex;align-items: stretch;justify-content: center;background-color: white;position: relative;}#sk-container-id-1 div.sk-item::before, #sk-container-id-1 div.sk-parallel-item::before {content: \"\";position: absolute;border-left: 1px solid gray;box-sizing: border-box;top: 0;bottom: 0;left: 50%;z-index: -1;}#sk-container-id-1 div.sk-parallel-item {display: flex;flex-direction: column;z-index: 1;position: relative;background-color: white;}#sk-container-id-1 div.sk-parallel-item:first-child::after {align-self: flex-end;width: 50%;}#sk-container-id-1 div.sk-parallel-item:last-child::after {align-self: flex-start;width: 50%;}#sk-container-id-1 div.sk-parallel-item:only-child::after {width: 0;}#sk-container-id-1 div.sk-dashed-wrapped {border: 1px dashed gray;margin: 0 0.4em 0.5em 0.4em;box-sizing: border-box;padding-bottom: 0.4em;background-color: white;}#sk-container-id-1 div.sk-label label {font-family: monospace;font-weight: bold;display: inline-block;line-height: 1.2em;}#sk-container-id-1 div.sk-label-container {text-align: center;}#sk-container-id-1 div.sk-container {/* jupyter's `normalize.less` sets `[hidden] { display: none; }` but bootstrap.min.css set `[hidden] { display: none !important; }` so we also need the `!important` here to be able to override the default hidden behavior on the sphinx rendered scikit-learn.org. See: https://github.com/scikit-learn/scikit-learn/issues/21755 */display: inline-block !important;position: relative;}#sk-container-id-1 div.sk-text-repr-fallback {display: none;}</style><div id=\"sk-container-id-1\" class=\"sk-top-container\"><div class=\"sk-text-repr-fallback\"><pre>DictVectorizer(sparse=False)</pre><b>In a Jupyter environment, please rerun this cell to show the HTML representation or trust the notebook. <br />On GitHub, the HTML representation is unable to render, please try loading this page with nbviewer.org.</b></div><div class=\"sk-container\" hidden><div class=\"sk-item\"><div class=\"sk-estimator sk-toggleable\"><input class=\"sk-toggleable__control sk-hidden--visually\" id=\"sk-estimator-id-1\" type=\"checkbox\" checked><label for=\"sk-estimator-id-1\" class=\"sk-toggleable__label sk-toggleable__label-arrow\">DictVectorizer</label><div class=\"sk-toggleable__content\"><pre>DictVectorizer(sparse=False)</pre></div></div></div></div></div>"
            ]
          },
          "metadata": {},
          "execution_count": 55
        }
      ]
    },
    {
      "cell_type": "code",
      "source": [
        "model_read"
      ],
      "metadata": {
        "colab": {
          "base_uri": "https://localhost:8080/"
        },
        "id": "eAn_QAXxhkUY",
        "outputId": "e5e6e174-8e39-49c5-c1d6-1beedacb11df"
      },
      "execution_count": 56,
      "outputs": [
        {
          "output_type": "execute_result",
          "data": {
            "text/plain": [
              "<keras.engine.sequential.Sequential at 0x7fda141ad480>"
            ]
          },
          "metadata": {},
          "execution_count": 56
        }
      ]
    },
    {
      "cell_type": "code",
      "source": [
        "files_to_compress = ['dict_vectorizer_coches_net.pck','modelo_keras_coches_net.hdf5']\n",
        "with zipfile.ZipFile('model_with_dict_vectorizer_coches_net.zip', 'w') as zip:\n",
        "  for file in files_to_compress:\n",
        "    zip.write(file)\n",
        "\n",
        "files.download('model_with_dict_vectorizer_coches_net.zip')"
      ],
      "metadata": {
        "colab": {
          "base_uri": "https://localhost:8080/",
          "height": 17
        },
        "id": "jKj1r-9oj2VG",
        "outputId": "05738bd5-97a9-4663-aa3c-19077e193283"
      },
      "execution_count": 57,
      "outputs": [
        {
          "output_type": "display_data",
          "data": {
            "text/plain": [
              "<IPython.core.display.Javascript object>"
            ],
            "application/javascript": [
              "\n",
              "    async function download(id, filename, size) {\n",
              "      if (!google.colab.kernel.accessAllowed) {\n",
              "        return;\n",
              "      }\n",
              "      const div = document.createElement('div');\n",
              "      const label = document.createElement('label');\n",
              "      label.textContent = `Downloading \"${filename}\": `;\n",
              "      div.appendChild(label);\n",
              "      const progress = document.createElement('progress');\n",
              "      progress.max = size;\n",
              "      div.appendChild(progress);\n",
              "      document.body.appendChild(div);\n",
              "\n",
              "      const buffers = [];\n",
              "      let downloaded = 0;\n",
              "\n",
              "      const channel = await google.colab.kernel.comms.open(id);\n",
              "      // Send a message to notify the kernel that we're ready.\n",
              "      channel.send({})\n",
              "\n",
              "      for await (const message of channel.messages) {\n",
              "        // Send a message to notify the kernel that we're ready.\n",
              "        channel.send({})\n",
              "        if (message.buffers) {\n",
              "          for (const buffer of message.buffers) {\n",
              "            buffers.push(buffer);\n",
              "            downloaded += buffer.byteLength;\n",
              "            progress.value = downloaded;\n",
              "          }\n",
              "        }\n",
              "      }\n",
              "      const blob = new Blob(buffers, {type: 'application/binary'});\n",
              "      const a = document.createElement('a');\n",
              "      a.href = window.URL.createObjectURL(blob);\n",
              "      a.download = filename;\n",
              "      div.appendChild(a);\n",
              "      a.click();\n",
              "      div.remove();\n",
              "    }\n",
              "  "
            ]
          },
          "metadata": {}
        },
        {
          "output_type": "display_data",
          "data": {
            "text/plain": [
              "<IPython.core.display.Javascript object>"
            ],
            "application/javascript": [
              "download(\"download_ee627a25-07c3-4263-a1a1-dccf8d4c7652\", \"model_with_dict_vectorizer_coches_net.zip\", 12571922)"
            ]
          },
          "metadata": {}
        }
      ]
    }
  ]
}