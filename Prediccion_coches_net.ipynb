{
  "nbformat": 4,
  "nbformat_minor": 0,
  "metadata": {
    "colab": {
      "provenance": [],
      "authorship_tag": "ABX9TyNQ2/HVPT4HXautj7gxxjrZ",
      "include_colab_link": true
    },
    "kernelspec": {
      "name": "python3",
      "display_name": "Python 3"
    },
    "language_info": {
      "name": "python"
    }
  },
  "cells": [
    {
      "cell_type": "markdown",
      "metadata": {
        "id": "view-in-github",
        "colab_type": "text"
      },
      "source": [
        "<a href=\"https://colab.research.google.com/github/slapazromero/Coches_net/blob/main/Prediccion_coches_net.ipynb\" target=\"_parent\"><img src=\"https://colab.research.google.com/assets/colab-badge.svg\" alt=\"Open In Colab\"/></a>"
      ]
    },
    {
      "cell_type": "markdown",
      "source": [
        "# 1. Importación de librerias."
      ],
      "metadata": {
        "id": "jTzOShiyAbFg"
      }
    },
    {
      "cell_type": "code",
      "execution_count": null,
      "metadata": {
        "id": "WTpi5bGzPhMi"
      },
      "outputs": [],
      "source": [
        "import pandas as pd\n",
        "import numpy as np\n",
        "\n",
        "from google.colab import files\n",
        "import zipfile\n",
        "import io\n",
        "import math\n",
        "\n",
        "import os\n",
        "import csv\n",
        "import json\n",
        "import pickle\n",
        "\n",
        "import matplotlib.pyplot as plt\n",
        "import seaborn as sns\n",
        "\n",
        "from keras.callbacks import EarlyStopping\n",
        "from keras.callbacks import ReduceLROnPlateau\n",
        "from sklearn.model_selection import train_test_split\n",
        "from tensorflow.keras.models import Sequential\n",
        "from tensorflow.keras.layers import Dense\n",
        "from keras.optimizers import Adam\n",
        "import tensorflow as tf\n",
        "from sklearn.feature_extraction import DictVectorizer\n",
        "\n",
        "import matplotlib.pyplot as plt"
      ]
    },
    {
      "cell_type": "markdown",
      "source": [
        "# 2. Importación de dataframe."
      ],
      "metadata": {
        "id": "xthvicAyAgJe"
      }
    },
    {
      "cell_type": "code",
      "source": [
        "df = pd.read_json('data.json', orient='table')"
      ],
      "metadata": {
        "id": "yFthPyCNB8-X"
      },
      "execution_count": null,
      "outputs": []
    },
    {
      "cell_type": "code",
      "source": [
        "df"
      ],
      "metadata": {
        "colab": {
          "base_uri": "https://localhost:8080/",
          "height": 424
        },
        "id": "j8Z2TRHqCJ9-",
        "outputId": "93b5c758-9045-40f5-8081-02860e7f5bf7"
      },
      "execution_count": null,
      "outputs": [
        {
          "output_type": "execute_result",
          "data": {
            "text/plain": [
              "             color           fuelType        km   make        model    price  \\\n",
              "0      COLOR_WHITE           Gasolina   78175.0   OPEL        Corsa  12990.0   \n",
              "1       COLOR_BLUE             Diésel   77115.0   OPEL  Grandland X  19950.0   \n",
              "2      COLOR_WHITE  Gas licuado (GLP)   48100.0   OPEL        Corsa  15500.0   \n",
              "3       COLOR_BLUE           Gasolina   43990.0   OPEL        Corsa  16600.0   \n",
              "4      COLOR_BEIGE             Diésel   31000.0   OPEL   Combo Life  23500.0   \n",
              "...            ...                ...       ...    ...          ...      ...   \n",
              "14264  COLOR_WHITE             Diésel   92000.0  SKODA        Rapid   9950.0   \n",
              "14265  COLOR_WHITE           Gasolina   56000.0  SKODA        Fabia   7499.0   \n",
              "14266    COLOR_RED             Diésel   28500.0  SKODA        Karoq  28900.0   \n",
              "14267   COLOR_GRAY             Diésel  111000.0  SKODA      Octavia  14450.0   \n",
              "14268   COLOR_GRAY           Gasolina   48807.0  SKODA        Fabia  14300.0   \n",
              "\n",
              "         province     transmissionType    year  seller_type  \\\n",
              "0       Barcelona  TRANSMISSION_MANUAL  2019.0  profesional   \n",
              "1          Lleida  TRANSMISSION_MANUAL  2018.0  profesional   \n",
              "2       Barcelona  TRANSMISSION_MANUAL  2018.0   particular   \n",
              "3       Barcelona  TRANSMISSION_MANUAL  2021.0  profesional   \n",
              "4      Las Palmas  TRANSMISSION_MANUAL  2021.0   particular   \n",
              "...           ...                  ...     ...          ...   \n",
              "14264  Las Palmas  TRANSMISSION_MANUAL  2013.0  profesional   \n",
              "14265      Madrid  TRANSMISSION_MANUAL  2013.0  profesional   \n",
              "14266     Córdoba  TRANSMISSION_MANUAL  2022.0  profesional   \n",
              "14267      Madrid  TRANSMISSION_MANUAL  2019.0  profesional   \n",
              "14268    Valencia  TRANSMISSION_MANUAL  2021.0  profesional   \n",
              "\n",
              "                 bodyType  cubicCapacity  doors     hp  \n",
              "0         BODY_TYPE_SEDAN         1398.0    5.0   90.0  \n",
              "1           BODY_TYPE_4X4         1560.0    5.0  120.0  \n",
              "2         BODY_TYPE_SEDAN         1398.0    5.0   90.0  \n",
              "3         BODY_TYPE_SEDAN         1199.0    5.0  100.0  \n",
              "4       BODY_TYPE_MINIVAN         1499.0    5.0  102.0  \n",
              "...                   ...            ...    ...    ...  \n",
              "14264     BODY_TYPE_SEDAN         1598.0    5.0  105.0  \n",
              "14265     BODY_TYPE_SEDAN         1198.0    5.0   60.0  \n",
              "14266       BODY_TYPE_4X4         1968.0    5.0  150.0  \n",
              "14267  BODY_TYPE_FAMILIAR         1598.0    5.0  115.0  \n",
              "14268     BODY_TYPE_SEDAN          999.0    5.0   95.0  \n",
              "\n",
              "[14269 rows x 14 columns]"
            ],
            "text/html": [
              "\n",
              "  <div id=\"df-9e9a5f72-e021-43d4-800a-91bd9d8f6bf5\">\n",
              "    <div class=\"colab-df-container\">\n",
              "      <div>\n",
              "<style scoped>\n",
              "    .dataframe tbody tr th:only-of-type {\n",
              "        vertical-align: middle;\n",
              "    }\n",
              "\n",
              "    .dataframe tbody tr th {\n",
              "        vertical-align: top;\n",
              "    }\n",
              "\n",
              "    .dataframe thead th {\n",
              "        text-align: right;\n",
              "    }\n",
              "</style>\n",
              "<table border=\"1\" class=\"dataframe\">\n",
              "  <thead>\n",
              "    <tr style=\"text-align: right;\">\n",
              "      <th></th>\n",
              "      <th>color</th>\n",
              "      <th>fuelType</th>\n",
              "      <th>km</th>\n",
              "      <th>make</th>\n",
              "      <th>model</th>\n",
              "      <th>price</th>\n",
              "      <th>province</th>\n",
              "      <th>transmissionType</th>\n",
              "      <th>year</th>\n",
              "      <th>seller_type</th>\n",
              "      <th>bodyType</th>\n",
              "      <th>cubicCapacity</th>\n",
              "      <th>doors</th>\n",
              "      <th>hp</th>\n",
              "    </tr>\n",
              "  </thead>\n",
              "  <tbody>\n",
              "    <tr>\n",
              "      <th>0</th>\n",
              "      <td>COLOR_WHITE</td>\n",
              "      <td>Gasolina</td>\n",
              "      <td>78175.0</td>\n",
              "      <td>OPEL</td>\n",
              "      <td>Corsa</td>\n",
              "      <td>12990.0</td>\n",
              "      <td>Barcelona</td>\n",
              "      <td>TRANSMISSION_MANUAL</td>\n",
              "      <td>2019.0</td>\n",
              "      <td>profesional</td>\n",
              "      <td>BODY_TYPE_SEDAN</td>\n",
              "      <td>1398.0</td>\n",
              "      <td>5.0</td>\n",
              "      <td>90.0</td>\n",
              "    </tr>\n",
              "    <tr>\n",
              "      <th>1</th>\n",
              "      <td>COLOR_BLUE</td>\n",
              "      <td>Diésel</td>\n",
              "      <td>77115.0</td>\n",
              "      <td>OPEL</td>\n",
              "      <td>Grandland X</td>\n",
              "      <td>19950.0</td>\n",
              "      <td>Lleida</td>\n",
              "      <td>TRANSMISSION_MANUAL</td>\n",
              "      <td>2018.0</td>\n",
              "      <td>profesional</td>\n",
              "      <td>BODY_TYPE_4X4</td>\n",
              "      <td>1560.0</td>\n",
              "      <td>5.0</td>\n",
              "      <td>120.0</td>\n",
              "    </tr>\n",
              "    <tr>\n",
              "      <th>2</th>\n",
              "      <td>COLOR_WHITE</td>\n",
              "      <td>Gas licuado (GLP)</td>\n",
              "      <td>48100.0</td>\n",
              "      <td>OPEL</td>\n",
              "      <td>Corsa</td>\n",
              "      <td>15500.0</td>\n",
              "      <td>Barcelona</td>\n",
              "      <td>TRANSMISSION_MANUAL</td>\n",
              "      <td>2018.0</td>\n",
              "      <td>particular</td>\n",
              "      <td>BODY_TYPE_SEDAN</td>\n",
              "      <td>1398.0</td>\n",
              "      <td>5.0</td>\n",
              "      <td>90.0</td>\n",
              "    </tr>\n",
              "    <tr>\n",
              "      <th>3</th>\n",
              "      <td>COLOR_BLUE</td>\n",
              "      <td>Gasolina</td>\n",
              "      <td>43990.0</td>\n",
              "      <td>OPEL</td>\n",
              "      <td>Corsa</td>\n",
              "      <td>16600.0</td>\n",
              "      <td>Barcelona</td>\n",
              "      <td>TRANSMISSION_MANUAL</td>\n",
              "      <td>2021.0</td>\n",
              "      <td>profesional</td>\n",
              "      <td>BODY_TYPE_SEDAN</td>\n",
              "      <td>1199.0</td>\n",
              "      <td>5.0</td>\n",
              "      <td>100.0</td>\n",
              "    </tr>\n",
              "    <tr>\n",
              "      <th>4</th>\n",
              "      <td>COLOR_BEIGE</td>\n",
              "      <td>Diésel</td>\n",
              "      <td>31000.0</td>\n",
              "      <td>OPEL</td>\n",
              "      <td>Combo Life</td>\n",
              "      <td>23500.0</td>\n",
              "      <td>Las Palmas</td>\n",
              "      <td>TRANSMISSION_MANUAL</td>\n",
              "      <td>2021.0</td>\n",
              "      <td>particular</td>\n",
              "      <td>BODY_TYPE_MINIVAN</td>\n",
              "      <td>1499.0</td>\n",
              "      <td>5.0</td>\n",
              "      <td>102.0</td>\n",
              "    </tr>\n",
              "    <tr>\n",
              "      <th>...</th>\n",
              "      <td>...</td>\n",
              "      <td>...</td>\n",
              "      <td>...</td>\n",
              "      <td>...</td>\n",
              "      <td>...</td>\n",
              "      <td>...</td>\n",
              "      <td>...</td>\n",
              "      <td>...</td>\n",
              "      <td>...</td>\n",
              "      <td>...</td>\n",
              "      <td>...</td>\n",
              "      <td>...</td>\n",
              "      <td>...</td>\n",
              "      <td>...</td>\n",
              "    </tr>\n",
              "    <tr>\n",
              "      <th>14264</th>\n",
              "      <td>COLOR_WHITE</td>\n",
              "      <td>Diésel</td>\n",
              "      <td>92000.0</td>\n",
              "      <td>SKODA</td>\n",
              "      <td>Rapid</td>\n",
              "      <td>9950.0</td>\n",
              "      <td>Las Palmas</td>\n",
              "      <td>TRANSMISSION_MANUAL</td>\n",
              "      <td>2013.0</td>\n",
              "      <td>profesional</td>\n",
              "      <td>BODY_TYPE_SEDAN</td>\n",
              "      <td>1598.0</td>\n",
              "      <td>5.0</td>\n",
              "      <td>105.0</td>\n",
              "    </tr>\n",
              "    <tr>\n",
              "      <th>14265</th>\n",
              "      <td>COLOR_WHITE</td>\n",
              "      <td>Gasolina</td>\n",
              "      <td>56000.0</td>\n",
              "      <td>SKODA</td>\n",
              "      <td>Fabia</td>\n",
              "      <td>7499.0</td>\n",
              "      <td>Madrid</td>\n",
              "      <td>TRANSMISSION_MANUAL</td>\n",
              "      <td>2013.0</td>\n",
              "      <td>profesional</td>\n",
              "      <td>BODY_TYPE_SEDAN</td>\n",
              "      <td>1198.0</td>\n",
              "      <td>5.0</td>\n",
              "      <td>60.0</td>\n",
              "    </tr>\n",
              "    <tr>\n",
              "      <th>14266</th>\n",
              "      <td>COLOR_RED</td>\n",
              "      <td>Diésel</td>\n",
              "      <td>28500.0</td>\n",
              "      <td>SKODA</td>\n",
              "      <td>Karoq</td>\n",
              "      <td>28900.0</td>\n",
              "      <td>Córdoba</td>\n",
              "      <td>TRANSMISSION_MANUAL</td>\n",
              "      <td>2022.0</td>\n",
              "      <td>profesional</td>\n",
              "      <td>BODY_TYPE_4X4</td>\n",
              "      <td>1968.0</td>\n",
              "      <td>5.0</td>\n",
              "      <td>150.0</td>\n",
              "    </tr>\n",
              "    <tr>\n",
              "      <th>14267</th>\n",
              "      <td>COLOR_GRAY</td>\n",
              "      <td>Diésel</td>\n",
              "      <td>111000.0</td>\n",
              "      <td>SKODA</td>\n",
              "      <td>Octavia</td>\n",
              "      <td>14450.0</td>\n",
              "      <td>Madrid</td>\n",
              "      <td>TRANSMISSION_MANUAL</td>\n",
              "      <td>2019.0</td>\n",
              "      <td>profesional</td>\n",
              "      <td>BODY_TYPE_FAMILIAR</td>\n",
              "      <td>1598.0</td>\n",
              "      <td>5.0</td>\n",
              "      <td>115.0</td>\n",
              "    </tr>\n",
              "    <tr>\n",
              "      <th>14268</th>\n",
              "      <td>COLOR_GRAY</td>\n",
              "      <td>Gasolina</td>\n",
              "      <td>48807.0</td>\n",
              "      <td>SKODA</td>\n",
              "      <td>Fabia</td>\n",
              "      <td>14300.0</td>\n",
              "      <td>Valencia</td>\n",
              "      <td>TRANSMISSION_MANUAL</td>\n",
              "      <td>2021.0</td>\n",
              "      <td>profesional</td>\n",
              "      <td>BODY_TYPE_SEDAN</td>\n",
              "      <td>999.0</td>\n",
              "      <td>5.0</td>\n",
              "      <td>95.0</td>\n",
              "    </tr>\n",
              "  </tbody>\n",
              "</table>\n",
              "<p>14269 rows × 14 columns</p>\n",
              "</div>\n",
              "      <button class=\"colab-df-convert\" onclick=\"convertToInteractive('df-9e9a5f72-e021-43d4-800a-91bd9d8f6bf5')\"\n",
              "              title=\"Convert this dataframe to an interactive table.\"\n",
              "              style=\"display:none;\">\n",
              "        \n",
              "  <svg xmlns=\"http://www.w3.org/2000/svg\" height=\"24px\"viewBox=\"0 0 24 24\"\n",
              "       width=\"24px\">\n",
              "    <path d=\"M0 0h24v24H0V0z\" fill=\"none\"/>\n",
              "    <path d=\"M18.56 5.44l.94 2.06.94-2.06 2.06-.94-2.06-.94-.94-2.06-.94 2.06-2.06.94zm-11 1L8.5 8.5l.94-2.06 2.06-.94-2.06-.94L8.5 2.5l-.94 2.06-2.06.94zm10 10l.94 2.06.94-2.06 2.06-.94-2.06-.94-.94-2.06-.94 2.06-2.06.94z\"/><path d=\"M17.41 7.96l-1.37-1.37c-.4-.4-.92-.59-1.43-.59-.52 0-1.04.2-1.43.59L10.3 9.45l-7.72 7.72c-.78.78-.78 2.05 0 2.83L4 21.41c.39.39.9.59 1.41.59.51 0 1.02-.2 1.41-.59l7.78-7.78 2.81-2.81c.8-.78.8-2.07 0-2.86zM5.41 20L4 18.59l7.72-7.72 1.47 1.35L5.41 20z\"/>\n",
              "  </svg>\n",
              "      </button>\n",
              "      \n",
              "  <style>\n",
              "    .colab-df-container {\n",
              "      display:flex;\n",
              "      flex-wrap:wrap;\n",
              "      gap: 12px;\n",
              "    }\n",
              "\n",
              "    .colab-df-convert {\n",
              "      background-color: #E8F0FE;\n",
              "      border: none;\n",
              "      border-radius: 50%;\n",
              "      cursor: pointer;\n",
              "      display: none;\n",
              "      fill: #1967D2;\n",
              "      height: 32px;\n",
              "      padding: 0 0 0 0;\n",
              "      width: 32px;\n",
              "    }\n",
              "\n",
              "    .colab-df-convert:hover {\n",
              "      background-color: #E2EBFA;\n",
              "      box-shadow: 0px 1px 2px rgba(60, 64, 67, 0.3), 0px 1px 3px 1px rgba(60, 64, 67, 0.15);\n",
              "      fill: #174EA6;\n",
              "    }\n",
              "\n",
              "    [theme=dark] .colab-df-convert {\n",
              "      background-color: #3B4455;\n",
              "      fill: #D2E3FC;\n",
              "    }\n",
              "\n",
              "    [theme=dark] .colab-df-convert:hover {\n",
              "      background-color: #434B5C;\n",
              "      box-shadow: 0px 1px 3px 1px rgba(0, 0, 0, 0.15);\n",
              "      filter: drop-shadow(0px 1px 2px rgba(0, 0, 0, 0.3));\n",
              "      fill: #FFFFFF;\n",
              "    }\n",
              "  </style>\n",
              "\n",
              "      <script>\n",
              "        const buttonEl =\n",
              "          document.querySelector('#df-9e9a5f72-e021-43d4-800a-91bd9d8f6bf5 button.colab-df-convert');\n",
              "        buttonEl.style.display =\n",
              "          google.colab.kernel.accessAllowed ? 'block' : 'none';\n",
              "\n",
              "        async function convertToInteractive(key) {\n",
              "          const element = document.querySelector('#df-9e9a5f72-e021-43d4-800a-91bd9d8f6bf5');\n",
              "          const dataTable =\n",
              "            await google.colab.kernel.invokeFunction('convertToInteractive',\n",
              "                                                     [key], {});\n",
              "          if (!dataTable) return;\n",
              "\n",
              "          const docLinkHtml = 'Like what you see? Visit the ' +\n",
              "            '<a target=\"_blank\" href=https://colab.research.google.com/notebooks/data_table.ipynb>data table notebook</a>'\n",
              "            + ' to learn more about interactive tables.';\n",
              "          element.innerHTML = '';\n",
              "          dataTable['output_type'] = 'display_data';\n",
              "          await google.colab.output.renderOutput(dataTable, element);\n",
              "          const docLink = document.createElement('div');\n",
              "          docLink.innerHTML = docLinkHtml;\n",
              "          element.appendChild(docLink);\n",
              "        }\n",
              "      </script>\n",
              "    </div>\n",
              "  </div>\n",
              "  "
            ]
          },
          "metadata": {},
          "execution_count": 3
        }
      ]
    },
    {
      "cell_type": "code",
      "source": [
        "plt.figure(figsize=(15,10))\n",
        "sns.heatmap(df.corr(), cmap='BrBG', annot=True)"
      ],
      "metadata": {
        "id": "5dInPI_0o4DJ",
        "colab": {
          "base_uri": "https://localhost:8080/",
          "height": 908
        },
        "outputId": "3a361d87-6a2f-4943-9a85-8e246e816556"
      },
      "execution_count": null,
      "outputs": [
        {
          "output_type": "stream",
          "name": "stderr",
          "text": [
            "<ipython-input-4-5879926ea6b1>:2: FutureWarning: The default value of numeric_only in DataFrame.corr is deprecated. In a future version, it will default to False. Select only valid columns or specify the value of numeric_only to silence this warning.\n",
            "  sns.heatmap(df.corr(), cmap='BrBG', annot=True)\n"
          ]
        },
        {
          "output_type": "execute_result",
          "data": {
            "text/plain": [
              "<Axes: >"
            ]
          },
          "metadata": {},
          "execution_count": 4
        },
        {
          "output_type": "display_data",
          "data": {
            "text/plain": [
              "<Figure size 1500x1000 with 2 Axes>"
            ],
            "image/png": "[encoded data removed]"
          },
          "metadata": {}
        }
      ]
    },
    {
      "cell_type": "code",
      "source": [
        "caracteristicas = ['color', 'fuelType', 'km', 'make', 'model', 'province', 'transmissionType', 'year', 'seller_type', 'cubicCapacity', 'doors', 'hp', 'bodyType']\n",
        "\n",
        "resultado = ['price']"
      ],
      "metadata": {
        "id": "J2d638Ldo0N4"
      },
      "execution_count": null,
      "outputs": []
    },
    {
      "cell_type": "code",
      "source": [
        "x_df = df[caracteristicas]\n",
        "\n",
        "y_df = df[resultado]"
      ],
      "metadata": {
        "id": "YwLjHqyzo1Kb"
      },
      "execution_count": null,
      "outputs": []
    },
    {
      "cell_type": "code",
      "source": [
        "x_train,x_test,y_train, y_test = train_test_split(x_df, y_df,random_state=1,train_size=0.75)"
      ],
      "metadata": {
        "id": "d4B4nq-bo2QX"
      },
      "execution_count": null,
      "outputs": []
    },
    {
      "cell_type": "markdown",
      "metadata": {
        "id": "dt86e1pZaoZj"
      },
      "source": [
        "# 3. Ingeniería de propiedades categóricas"
      ]
    },
    {
      "cell_type": "markdown",
      "metadata": {
        "id": "kVjBtewjbDGV"
      },
      "source": [
        "Todas las propiedades categóricas se han de convertir a forma numérica de tal forma que puedan ser utilizadas por el algoritmo de aprendizaje.\n",
        "\n",
        "https://datascience.stackexchange.com/questions/9443/when-to-use-one-hot-encoding-vs-labelencoder-vs-dictvectorizor"
      ]
    },
    {
      "cell_type": "code",
      "execution_count": null,
      "metadata": {
        "id": "6FgXDCeDbD_f"
      },
      "outputs": [],
      "source": [
        "#las filas se convierten a formato de diccionario\n",
        "train_dict = x_train.to_dict(orient='records')\n",
        "test_dict = x_test.to_dict(orient='records')"
      ]
    },
    {
      "cell_type": "code",
      "source": [
        "test_dict[:1]"
      ],
      "metadata": {
        "colab": {
          "base_uri": "https://localhost:8080/"
        },
        "id": "Fj54pMpceKo7",
        "outputId": "ba19568e-020c-42dd-d5cb-9279afeb78e7"
      },
      "execution_count": null,
      "outputs": [
        {
          "output_type": "execute_result",
          "data": {
            "text/plain": [
              "[{'color': 'COLOR_WHITE',\n",
              "  'fuelType': 'Diésel',\n",
              "  'km': 93942.0,\n",
              "  'make': 'VOLKSWAGEN',\n",
              "  'model': 'Passat',\n",
              "  'province': 'Zaragoza',\n",
              "  'transmissionType': 'TRANSMISSION_MANUAL',\n",
              "  'year': 2013.0,\n",
              "  'seller_type': 'profesional',\n",
              "  'cubicCapacity': 1968.0,\n",
              "  'doors': 5.0,\n",
              "  'hp': 140.0,\n",
              "  'bodyType': 'BODY_TYPE_FAMILIAR'}]"
            ]
          },
          "metadata": {},
          "execution_count": 9
        }
      ]
    },
    {
      "cell_type": "markdown",
      "metadata": {
        "id": "awykqV-cgmtK"
      },
      "source": [
        "Las propiedades categóricas se transforman."
      ]
    },
    {
      "cell_type": "code",
      "execution_count": null,
      "metadata": {
        "colab": {
          "base_uri": "https://localhost:8080/"
        },
        "id": "7x-BbeUHfqoP",
        "outputId": "54661797-0daf-4cf3-aa70-3c8aaf1f62f9"
      },
      "outputs": [
        {
          "output_type": "execute_result",
          "data": {
            "text/plain": [
              "array([0.0000e+00, 0.0000e+00, 0.0000e+00, 0.0000e+00, 0.0000e+00,\n",
              "       0.0000e+00, 0.0000e+00, 1.0000e+00, 0.0000e+00, 0.0000e+00,\n",
              "       0.0000e+00, 0.0000e+00, 0.0000e+00, 0.0000e+00, 0.0000e+00,\n",
              "       0.0000e+00, 0.0000e+00, 0.0000e+00, 0.0000e+00, 1.0000e+00,\n",
              "       0.0000e+00, 1.3640e+03, 5.0000e+00, 1.0000e+00, 0.0000e+00,\n",
              "       0.0000e+00, 0.0000e+00, 0.0000e+00, 0.0000e+00, 0.0000e+00,\n",
              "       9.0000e+01, 8.3538e+04, 0.0000e+00, 0.0000e+00, 0.0000e+00,\n",
              "       0.0000e+00, 0.0000e+00, 0.0000e+00, 0.0000e+00, 0.0000e+00,\n",
              "       0.0000e+00, 0.0000e+00, 0.0000e+00, 0.0000e+00, 0.0000e+00,\n",
              "       0.0000e+00, 0.0000e+00, 0.0000e+00, 0.0000e+00, 0.0000e+00,\n",
              "       0.0000e+00, 0.0000e+00, 0.0000e+00, 0.0000e+00, 0.0000e+00,\n",
              "       0.0000e+00, 0.0000e+00, 0.0000e+00, 0.0000e+00, 0.0000e+00,\n",
              "       0.0000e+00, 0.0000e+00, 0.0000e+00, 0.0000e+00, 0.0000e+00,\n",
              "       0.0000e+00, 0.0000e+00, 1.0000e+00, 0.0000e+00, 0.0000e+00,\n",
              "       0.0000e+00, 0.0000e+00, 0.0000e+00, 0.0000e+00, 0.0000e+00,\n",
              "       0.0000e+00, 0.0000e+00, 0.0000e+00, 0.0000e+00, 0.0000e+00,\n",
              "       0.0000e+00, 0.0000e+00, 0.0000e+00, 0.0000e+00, 0.0000e+00,\n",
              "       0.0000e+00, 0.0000e+00, 0.0000e+00, 0.0000e+00, 0.0000e+00,\n",
              "       0.0000e+00, 0.0000e+00, 0.0000e+00, 0.0000e+00, 0.0000e+00,\n",
              "       0.0000e+00, 0.0000e+00, 0.0000e+00, 0.0000e+00, 0.0000e+00,\n",
              "       0.0000e+00, 0.0000e+00, 0.0000e+00, 0.0000e+00, 0.0000e+00,\n",
              "       0.0000e+00, 0.0000e+00, 0.0000e+00, 0.0000e+00, 0.0000e+00,\n",
              "       0.0000e+00, 0.0000e+00, 0.0000e+00, 1.0000e+00, 0.0000e+00,\n",
              "       0.0000e+00, 0.0000e+00, 0.0000e+00, 0.0000e+00, 0.0000e+00,\n",
              "       0.0000e+00, 0.0000e+00, 0.0000e+00, 0.0000e+00, 0.0000e+00,\n",
              "       0.0000e+00, 0.0000e+00, 0.0000e+00, 0.0000e+00, 0.0000e+00,\n",
              "       0.0000e+00, 0.0000e+00, 0.0000e+00, 0.0000e+00, 0.0000e+00,\n",
              "       0.0000e+00, 0.0000e+00, 0.0000e+00, 0.0000e+00, 0.0000e+00,\n",
              "       0.0000e+00, 0.0000e+00, 0.0000e+00, 0.0000e+00, 0.0000e+00,\n",
              "       0.0000e+00, 0.0000e+00, 0.0000e+00, 0.0000e+00, 0.0000e+00,\n",
              "       0.0000e+00, 0.0000e+00, 0.0000e+00, 0.0000e+00, 0.0000e+00,\n",
              "       0.0000e+00, 0.0000e+00, 0.0000e+00, 0.0000e+00, 0.0000e+00,\n",
              "       0.0000e+00, 0.0000e+00, 0.0000e+00, 0.0000e+00, 0.0000e+00,\n",
              "       0.0000e+00, 0.0000e+00, 0.0000e+00, 0.0000e+00, 0.0000e+00,\n",
              "       0.0000e+00, 0.0000e+00, 0.0000e+00, 0.0000e+00, 0.0000e+00,\n",
              "       0.0000e+00, 0.0000e+00, 0.0000e+00, 0.0000e+00, 0.0000e+00,\n",
              "       0.0000e+00, 0.0000e+00, 0.0000e+00, 0.0000e+00, 0.0000e+00,\n",
              "       0.0000e+00, 0.0000e+00, 0.0000e+00, 0.0000e+00, 0.0000e+00,\n",
              "       0.0000e+00, 0.0000e+00, 0.0000e+00, 0.0000e+00, 0.0000e+00,\n",
              "       0.0000e+00, 0.0000e+00, 0.0000e+00, 0.0000e+00, 0.0000e+00,\n",
              "       0.0000e+00, 0.0000e+00, 0.0000e+00, 0.0000e+00, 0.0000e+00,\n",
              "       0.0000e+00, 0.0000e+00, 0.0000e+00, 0.0000e+00, 0.0000e+00,\n",
              "       0.0000e+00, 0.0000e+00, 0.0000e+00, 0.0000e+00, 0.0000e+00,\n",
              "       0.0000e+00, 0.0000e+00, 0.0000e+00, 0.0000e+00, 0.0000e+00,\n",
              "       0.0000e+00, 0.0000e+00, 0.0000e+00, 0.0000e+00, 0.0000e+00,\n",
              "       0.0000e+00, 0.0000e+00, 0.0000e+00, 0.0000e+00, 0.0000e+00,\n",
              "       0.0000e+00, 0.0000e+00, 0.0000e+00, 0.0000e+00, 0.0000e+00,\n",
              "       0.0000e+00, 0.0000e+00, 0.0000e+00, 0.0000e+00, 0.0000e+00,\n",
              "       0.0000e+00, 0.0000e+00, 0.0000e+00, 0.0000e+00, 0.0000e+00,\n",
              "       0.0000e+00, 0.0000e+00, 0.0000e+00, 0.0000e+00, 0.0000e+00,\n",
              "       0.0000e+00, 0.0000e+00, 0.0000e+00, 0.0000e+00, 0.0000e+00,\n",
              "       0.0000e+00, 0.0000e+00, 0.0000e+00, 0.0000e+00, 0.0000e+00,\n",
              "       0.0000e+00, 0.0000e+00, 0.0000e+00, 0.0000e+00, 0.0000e+00,\n",
              "       0.0000e+00, 0.0000e+00, 0.0000e+00, 0.0000e+00, 0.0000e+00,\n",
              "       0.0000e+00, 0.0000e+00, 0.0000e+00, 0.0000e+00, 0.0000e+00,\n",
              "       0.0000e+00, 0.0000e+00, 0.0000e+00, 0.0000e+00, 0.0000e+00,\n",
              "       0.0000e+00, 0.0000e+00, 0.0000e+00, 0.0000e+00, 0.0000e+00,\n",
              "       0.0000e+00, 0.0000e+00, 0.0000e+00, 0.0000e+00, 0.0000e+00,\n",
              "       0.0000e+00, 0.0000e+00, 0.0000e+00, 0.0000e+00, 0.0000e+00,\n",
              "       0.0000e+00, 0.0000e+00, 0.0000e+00, 0.0000e+00, 0.0000e+00,\n",
              "       0.0000e+00, 0.0000e+00, 0.0000e+00, 0.0000e+00, 0.0000e+00,\n",
              "       0.0000e+00, 0.0000e+00, 0.0000e+00, 0.0000e+00, 0.0000e+00,\n",
              "       0.0000e+00, 0.0000e+00, 0.0000e+00, 0.0000e+00, 0.0000e+00,\n",
              "       0.0000e+00, 0.0000e+00, 0.0000e+00, 0.0000e+00, 0.0000e+00,\n",
              "       0.0000e+00, 0.0000e+00, 0.0000e+00, 0.0000e+00, 0.0000e+00,\n",
              "       0.0000e+00, 0.0000e+00, 0.0000e+00, 0.0000e+00, 0.0000e+00,\n",
              "       0.0000e+00, 0.0000e+00, 0.0000e+00, 0.0000e+00, 0.0000e+00,\n",
              "       0.0000e+00, 0.0000e+00, 0.0000e+00, 0.0000e+00, 0.0000e+00,\n",
              "       0.0000e+00, 0.0000e+00, 0.0000e+00, 0.0000e+00, 0.0000e+00,\n",
              "       0.0000e+00, 0.0000e+00, 0.0000e+00, 0.0000e+00, 0.0000e+00,\n",
              "       0.0000e+00, 0.0000e+00, 0.0000e+00, 0.0000e+00, 0.0000e+00,\n",
              "       0.0000e+00, 0.0000e+00, 0.0000e+00, 0.0000e+00, 0.0000e+00,\n",
              "       0.0000e+00, 0.0000e+00, 0.0000e+00, 0.0000e+00, 0.0000e+00,\n",
              "       0.0000e+00, 0.0000e+00, 0.0000e+00, 0.0000e+00, 0.0000e+00,\n",
              "       0.0000e+00, 0.0000e+00, 0.0000e+00, 0.0000e+00, 0.0000e+00,\n",
              "       0.0000e+00, 0.0000e+00, 0.0000e+00, 0.0000e+00, 0.0000e+00,\n",
              "       0.0000e+00, 0.0000e+00, 0.0000e+00, 0.0000e+00, 0.0000e+00,\n",
              "       0.0000e+00, 0.0000e+00, 0.0000e+00, 0.0000e+00, 0.0000e+00,\n",
              "       0.0000e+00, 0.0000e+00, 0.0000e+00, 0.0000e+00, 0.0000e+00,\n",
              "       0.0000e+00, 0.0000e+00, 0.0000e+00, 0.0000e+00, 0.0000e+00,\n",
              "       0.0000e+00, 0.0000e+00, 0.0000e+00, 0.0000e+00, 0.0000e+00,\n",
              "       0.0000e+00, 0.0000e+00, 0.0000e+00, 0.0000e+00, 0.0000e+00,\n",
              "       0.0000e+00, 0.0000e+00, 0.0000e+00, 0.0000e+00, 0.0000e+00,\n",
              "       0.0000e+00, 0.0000e+00, 0.0000e+00, 0.0000e+00, 0.0000e+00,\n",
              "       0.0000e+00, 0.0000e+00, 0.0000e+00, 0.0000e+00, 0.0000e+00,\n",
              "       0.0000e+00, 0.0000e+00, 0.0000e+00, 0.0000e+00, 0.0000e+00,\n",
              "       0.0000e+00, 0.0000e+00, 0.0000e+00, 0.0000e+00, 0.0000e+00,\n",
              "       0.0000e+00, 0.0000e+00, 0.0000e+00, 0.0000e+00, 0.0000e+00,\n",
              "       0.0000e+00, 0.0000e+00, 0.0000e+00, 0.0000e+00, 0.0000e+00,\n",
              "       0.0000e+00, 0.0000e+00, 0.0000e+00, 0.0000e+00, 0.0000e+00,\n",
              "       0.0000e+00, 0.0000e+00, 0.0000e+00, 0.0000e+00, 0.0000e+00,\n",
              "       0.0000e+00, 0.0000e+00, 0.0000e+00, 0.0000e+00, 0.0000e+00,\n",
              "       0.0000e+00, 0.0000e+00, 0.0000e+00, 0.0000e+00, 0.0000e+00,\n",
              "       0.0000e+00, 0.0000e+00, 0.0000e+00, 0.0000e+00, 0.0000e+00,\n",
              "       0.0000e+00, 0.0000e+00, 0.0000e+00, 0.0000e+00, 0.0000e+00,\n",
              "       0.0000e+00, 0.0000e+00, 0.0000e+00, 0.0000e+00, 0.0000e+00,\n",
              "       0.0000e+00, 0.0000e+00, 0.0000e+00, 0.0000e+00, 0.0000e+00,\n",
              "       0.0000e+00, 0.0000e+00, 0.0000e+00, 0.0000e+00, 0.0000e+00,\n",
              "       0.0000e+00, 0.0000e+00, 0.0000e+00, 0.0000e+00, 0.0000e+00,\n",
              "       0.0000e+00, 0.0000e+00, 0.0000e+00, 0.0000e+00, 0.0000e+00,\n",
              "       0.0000e+00, 0.0000e+00, 0.0000e+00, 0.0000e+00, 0.0000e+00,\n",
              "       0.0000e+00, 0.0000e+00, 0.0000e+00, 0.0000e+00, 0.0000e+00,\n",
              "       0.0000e+00, 0.0000e+00, 0.0000e+00, 0.0000e+00, 0.0000e+00,\n",
              "       0.0000e+00, 0.0000e+00, 0.0000e+00, 0.0000e+00, 0.0000e+00,\n",
              "       0.0000e+00, 0.0000e+00, 0.0000e+00, 0.0000e+00, 0.0000e+00,\n",
              "       0.0000e+00, 0.0000e+00, 0.0000e+00, 0.0000e+00, 0.0000e+00,\n",
              "       0.0000e+00, 0.0000e+00, 0.0000e+00, 0.0000e+00, 0.0000e+00,\n",
              "       0.0000e+00, 0.0000e+00, 0.0000e+00, 0.0000e+00, 0.0000e+00,\n",
              "       0.0000e+00, 0.0000e+00, 0.0000e+00, 0.0000e+00, 0.0000e+00,\n",
              "       0.0000e+00, 0.0000e+00, 0.0000e+00, 0.0000e+00, 0.0000e+00,\n",
              "       0.0000e+00, 0.0000e+00, 0.0000e+00, 0.0000e+00, 0.0000e+00,\n",
              "       0.0000e+00, 0.0000e+00, 0.0000e+00, 0.0000e+00, 0.0000e+00,\n",
              "       0.0000e+00, 0.0000e+00, 0.0000e+00, 0.0000e+00, 0.0000e+00,\n",
              "       0.0000e+00, 0.0000e+00, 0.0000e+00, 0.0000e+00, 0.0000e+00,\n",
              "       0.0000e+00, 0.0000e+00, 0.0000e+00, 0.0000e+00, 0.0000e+00,\n",
              "       0.0000e+00, 0.0000e+00, 0.0000e+00, 0.0000e+00, 1.0000e+00,\n",
              "       0.0000e+00, 0.0000e+00, 0.0000e+00, 0.0000e+00, 0.0000e+00,\n",
              "       0.0000e+00, 0.0000e+00, 0.0000e+00, 0.0000e+00, 0.0000e+00,\n",
              "       0.0000e+00, 0.0000e+00, 0.0000e+00, 0.0000e+00, 0.0000e+00,\n",
              "       0.0000e+00, 0.0000e+00, 0.0000e+00, 0.0000e+00, 0.0000e+00,\n",
              "       0.0000e+00, 0.0000e+00, 0.0000e+00, 1.0000e+00, 0.0000e+00,\n",
              "       1.0000e+00, 2.0160e+03])"
            ]
          },
          "metadata": {},
          "execution_count": 10
        }
      ],
      "source": [
        "dv = DictVectorizer(sparse = False)\n",
        "dv.fit(df.to_dict(orient='records'))\n",
        "X_train = dv.transform(train_dict)\n",
        "X_train[0]"
      ]
    },
    {
      "cell_type": "code",
      "source": [
        "X_train.shape[1]"
      ],
      "metadata": {
        "colab": {
          "base_uri": "https://localhost:8080/"
        },
        "id": "M6D9HjpJ4oKh",
        "outputId": "eae820a3-18ce-45fe-8793-c4fd1e2a8968"
      },
      "execution_count": null,
      "outputs": [
        {
          "output_type": "execute_result",
          "data": {
            "text/plain": [
              "607"
            ]
          },
          "metadata": {},
          "execution_count": 11
        }
      ]
    },
    {
      "cell_type": "code",
      "source": [
        "X_test = dv.transform(test_dict)\n",
        "X_test[0]"
      ],
      "metadata": {
        "colab": {
          "base_uri": "https://localhost:8080/"
        },
        "id": "3PolPNoUvqQB",
        "outputId": "24a147e1-b055-4696-b713-c3a73efa672c"
      },
      "execution_count": null,
      "outputs": [
        {
          "output_type": "execute_result",
          "data": {
            "text/plain": [
              "array([0.0000e+00, 0.0000e+00, 0.0000e+00, 0.0000e+00, 1.0000e+00,\n",
              "       0.0000e+00, 0.0000e+00, 0.0000e+00, 0.0000e+00, 0.0000e+00,\n",
              "       0.0000e+00, 0.0000e+00, 0.0000e+00, 0.0000e+00, 0.0000e+00,\n",
              "       0.0000e+00, 0.0000e+00, 0.0000e+00, 0.0000e+00, 1.0000e+00,\n",
              "       0.0000e+00, 1.9680e+03, 5.0000e+00, 1.0000e+00, 0.0000e+00,\n",
              "       0.0000e+00, 0.0000e+00, 0.0000e+00, 0.0000e+00, 0.0000e+00,\n",
              "       1.4000e+02, 9.3942e+04, 0.0000e+00, 0.0000e+00, 0.0000e+00,\n",
              "       0.0000e+00, 0.0000e+00, 0.0000e+00, 0.0000e+00, 0.0000e+00,\n",
              "       0.0000e+00, 0.0000e+00, 0.0000e+00, 0.0000e+00, 0.0000e+00,\n",
              "       0.0000e+00, 0.0000e+00, 0.0000e+00, 0.0000e+00, 0.0000e+00,\n",
              "       0.0000e+00, 0.0000e+00, 0.0000e+00, 0.0000e+00, 0.0000e+00,\n",
              "       0.0000e+00, 0.0000e+00, 0.0000e+00, 0.0000e+00, 0.0000e+00,\n",
              "       0.0000e+00, 0.0000e+00, 0.0000e+00, 0.0000e+00, 0.0000e+00,\n",
              "       0.0000e+00, 0.0000e+00, 0.0000e+00, 1.0000e+00, 0.0000e+00,\n",
              "       0.0000e+00, 0.0000e+00, 0.0000e+00, 0.0000e+00, 0.0000e+00,\n",
              "       0.0000e+00, 0.0000e+00, 0.0000e+00, 0.0000e+00, 0.0000e+00,\n",
              "       0.0000e+00, 0.0000e+00, 0.0000e+00, 0.0000e+00, 0.0000e+00,\n",
              "       0.0000e+00, 0.0000e+00, 0.0000e+00, 0.0000e+00, 0.0000e+00,\n",
              "       0.0000e+00, 0.0000e+00, 0.0000e+00, 0.0000e+00, 0.0000e+00,\n",
              "       0.0000e+00, 0.0000e+00, 0.0000e+00, 0.0000e+00, 0.0000e+00,\n",
              "       0.0000e+00, 0.0000e+00, 0.0000e+00, 0.0000e+00, 0.0000e+00,\n",
              "       0.0000e+00, 0.0000e+00, 0.0000e+00, 0.0000e+00, 0.0000e+00,\n",
              "       0.0000e+00, 0.0000e+00, 0.0000e+00, 0.0000e+00, 0.0000e+00,\n",
              "       0.0000e+00, 0.0000e+00, 0.0000e+00, 0.0000e+00, 0.0000e+00,\n",
              "       0.0000e+00, 0.0000e+00, 0.0000e+00, 0.0000e+00, 0.0000e+00,\n",
              "       0.0000e+00, 0.0000e+00, 0.0000e+00, 0.0000e+00, 0.0000e+00,\n",
              "       0.0000e+00, 0.0000e+00, 0.0000e+00, 0.0000e+00, 0.0000e+00,\n",
              "       0.0000e+00, 0.0000e+00, 0.0000e+00, 0.0000e+00, 0.0000e+00,\n",
              "       0.0000e+00, 0.0000e+00, 0.0000e+00, 0.0000e+00, 0.0000e+00,\n",
              "       0.0000e+00, 0.0000e+00, 0.0000e+00, 0.0000e+00, 0.0000e+00,\n",
              "       0.0000e+00, 0.0000e+00, 0.0000e+00, 0.0000e+00, 0.0000e+00,\n",
              "       0.0000e+00, 0.0000e+00, 0.0000e+00, 0.0000e+00, 0.0000e+00,\n",
              "       0.0000e+00, 0.0000e+00, 0.0000e+00, 0.0000e+00, 0.0000e+00,\n",
              "       0.0000e+00, 0.0000e+00, 0.0000e+00, 0.0000e+00, 0.0000e+00,\n",
              "       0.0000e+00, 0.0000e+00, 0.0000e+00, 0.0000e+00, 0.0000e+00,\n",
              "       0.0000e+00, 0.0000e+00, 0.0000e+00, 0.0000e+00, 0.0000e+00,\n",
              "       0.0000e+00, 0.0000e+00, 0.0000e+00, 0.0000e+00, 0.0000e+00,\n",
              "       0.0000e+00, 0.0000e+00, 0.0000e+00, 0.0000e+00, 0.0000e+00,\n",
              "       0.0000e+00, 0.0000e+00, 0.0000e+00, 0.0000e+00, 0.0000e+00,\n",
              "       0.0000e+00, 0.0000e+00, 0.0000e+00, 0.0000e+00, 0.0000e+00,\n",
              "       0.0000e+00, 0.0000e+00, 0.0000e+00, 0.0000e+00, 0.0000e+00,\n",
              "       0.0000e+00, 0.0000e+00, 0.0000e+00, 0.0000e+00, 0.0000e+00,\n",
              "       0.0000e+00, 0.0000e+00, 0.0000e+00, 0.0000e+00, 0.0000e+00,\n",
              "       0.0000e+00, 0.0000e+00, 0.0000e+00, 0.0000e+00, 0.0000e+00,\n",
              "       0.0000e+00, 0.0000e+00, 0.0000e+00, 0.0000e+00, 0.0000e+00,\n",
              "       0.0000e+00, 0.0000e+00, 0.0000e+00, 0.0000e+00, 0.0000e+00,\n",
              "       0.0000e+00, 0.0000e+00, 0.0000e+00, 0.0000e+00, 0.0000e+00,\n",
              "       0.0000e+00, 0.0000e+00, 0.0000e+00, 0.0000e+00, 0.0000e+00,\n",
              "       0.0000e+00, 0.0000e+00, 0.0000e+00, 0.0000e+00, 0.0000e+00,\n",
              "       0.0000e+00, 0.0000e+00, 0.0000e+00, 0.0000e+00, 0.0000e+00,\n",
              "       0.0000e+00, 0.0000e+00, 0.0000e+00, 0.0000e+00, 0.0000e+00,\n",
              "       0.0000e+00, 0.0000e+00, 0.0000e+00, 0.0000e+00, 0.0000e+00,\n",
              "       0.0000e+00, 0.0000e+00, 0.0000e+00, 0.0000e+00, 0.0000e+00,\n",
              "       0.0000e+00, 0.0000e+00, 0.0000e+00, 0.0000e+00, 0.0000e+00,\n",
              "       0.0000e+00, 0.0000e+00, 0.0000e+00, 0.0000e+00, 0.0000e+00,\n",
              "       0.0000e+00, 0.0000e+00, 0.0000e+00, 0.0000e+00, 0.0000e+00,\n",
              "       0.0000e+00, 0.0000e+00, 0.0000e+00, 0.0000e+00, 0.0000e+00,\n",
              "       0.0000e+00, 0.0000e+00, 0.0000e+00, 0.0000e+00, 0.0000e+00,\n",
              "       0.0000e+00, 0.0000e+00, 0.0000e+00, 0.0000e+00, 0.0000e+00,\n",
              "       0.0000e+00, 0.0000e+00, 0.0000e+00, 0.0000e+00, 0.0000e+00,\n",
              "       0.0000e+00, 0.0000e+00, 0.0000e+00, 0.0000e+00, 0.0000e+00,\n",
              "       0.0000e+00, 0.0000e+00, 0.0000e+00, 0.0000e+00, 0.0000e+00,\n",
              "       0.0000e+00, 0.0000e+00, 0.0000e+00, 0.0000e+00, 0.0000e+00,\n",
              "       0.0000e+00, 0.0000e+00, 0.0000e+00, 0.0000e+00, 0.0000e+00,\n",
              "       0.0000e+00, 0.0000e+00, 0.0000e+00, 0.0000e+00, 0.0000e+00,\n",
              "       0.0000e+00, 0.0000e+00, 0.0000e+00, 0.0000e+00, 0.0000e+00,\n",
              "       0.0000e+00, 0.0000e+00, 0.0000e+00, 0.0000e+00, 0.0000e+00,\n",
              "       0.0000e+00, 0.0000e+00, 0.0000e+00, 0.0000e+00, 0.0000e+00,\n",
              "       0.0000e+00, 0.0000e+00, 0.0000e+00, 0.0000e+00, 0.0000e+00,\n",
              "       0.0000e+00, 0.0000e+00, 0.0000e+00, 0.0000e+00, 0.0000e+00,\n",
              "       0.0000e+00, 0.0000e+00, 0.0000e+00, 0.0000e+00, 0.0000e+00,\n",
              "       0.0000e+00, 0.0000e+00, 0.0000e+00, 0.0000e+00, 0.0000e+00,\n",
              "       0.0000e+00, 0.0000e+00, 0.0000e+00, 0.0000e+00, 0.0000e+00,\n",
              "       0.0000e+00, 0.0000e+00, 0.0000e+00, 0.0000e+00, 0.0000e+00,\n",
              "       0.0000e+00, 0.0000e+00, 0.0000e+00, 0.0000e+00, 0.0000e+00,\n",
              "       0.0000e+00, 0.0000e+00, 1.0000e+00, 0.0000e+00, 0.0000e+00,\n",
              "       0.0000e+00, 0.0000e+00, 0.0000e+00, 0.0000e+00, 0.0000e+00,\n",
              "       0.0000e+00, 0.0000e+00, 0.0000e+00, 0.0000e+00, 0.0000e+00,\n",
              "       0.0000e+00, 0.0000e+00, 0.0000e+00, 0.0000e+00, 0.0000e+00,\n",
              "       0.0000e+00, 0.0000e+00, 0.0000e+00, 0.0000e+00, 0.0000e+00,\n",
              "       0.0000e+00, 0.0000e+00, 0.0000e+00, 0.0000e+00, 0.0000e+00,\n",
              "       0.0000e+00, 0.0000e+00, 0.0000e+00, 0.0000e+00, 0.0000e+00,\n",
              "       0.0000e+00, 0.0000e+00, 0.0000e+00, 0.0000e+00, 0.0000e+00,\n",
              "       0.0000e+00, 0.0000e+00, 0.0000e+00, 0.0000e+00, 0.0000e+00,\n",
              "       0.0000e+00, 0.0000e+00, 0.0000e+00, 0.0000e+00, 0.0000e+00,\n",
              "       0.0000e+00, 0.0000e+00, 0.0000e+00, 0.0000e+00, 0.0000e+00,\n",
              "       0.0000e+00, 0.0000e+00, 0.0000e+00, 0.0000e+00, 0.0000e+00,\n",
              "       0.0000e+00, 0.0000e+00, 0.0000e+00, 0.0000e+00, 0.0000e+00,\n",
              "       0.0000e+00, 0.0000e+00, 0.0000e+00, 0.0000e+00, 0.0000e+00,\n",
              "       0.0000e+00, 0.0000e+00, 0.0000e+00, 0.0000e+00, 0.0000e+00,\n",
              "       0.0000e+00, 0.0000e+00, 0.0000e+00, 0.0000e+00, 0.0000e+00,\n",
              "       0.0000e+00, 0.0000e+00, 0.0000e+00, 0.0000e+00, 0.0000e+00,\n",
              "       0.0000e+00, 0.0000e+00, 0.0000e+00, 0.0000e+00, 0.0000e+00,\n",
              "       0.0000e+00, 0.0000e+00, 0.0000e+00, 0.0000e+00, 0.0000e+00,\n",
              "       0.0000e+00, 0.0000e+00, 0.0000e+00, 0.0000e+00, 0.0000e+00,\n",
              "       0.0000e+00, 0.0000e+00, 0.0000e+00, 0.0000e+00, 0.0000e+00,\n",
              "       0.0000e+00, 0.0000e+00, 0.0000e+00, 0.0000e+00, 0.0000e+00,\n",
              "       0.0000e+00, 0.0000e+00, 0.0000e+00, 0.0000e+00, 0.0000e+00,\n",
              "       0.0000e+00, 0.0000e+00, 0.0000e+00, 0.0000e+00, 0.0000e+00,\n",
              "       0.0000e+00, 0.0000e+00, 0.0000e+00, 0.0000e+00, 0.0000e+00,\n",
              "       0.0000e+00, 0.0000e+00, 0.0000e+00, 0.0000e+00, 0.0000e+00,\n",
              "       0.0000e+00, 0.0000e+00, 0.0000e+00, 0.0000e+00, 0.0000e+00,\n",
              "       0.0000e+00, 0.0000e+00, 0.0000e+00, 0.0000e+00, 0.0000e+00,\n",
              "       0.0000e+00, 0.0000e+00, 0.0000e+00, 0.0000e+00, 0.0000e+00,\n",
              "       0.0000e+00, 0.0000e+00, 0.0000e+00, 0.0000e+00, 0.0000e+00,\n",
              "       0.0000e+00, 0.0000e+00, 0.0000e+00, 0.0000e+00, 0.0000e+00,\n",
              "       0.0000e+00, 0.0000e+00, 0.0000e+00, 0.0000e+00, 0.0000e+00,\n",
              "       0.0000e+00, 0.0000e+00, 0.0000e+00, 0.0000e+00, 0.0000e+00,\n",
              "       0.0000e+00, 0.0000e+00, 0.0000e+00, 0.0000e+00, 0.0000e+00,\n",
              "       0.0000e+00, 0.0000e+00, 0.0000e+00, 0.0000e+00, 0.0000e+00,\n",
              "       0.0000e+00, 0.0000e+00, 0.0000e+00, 0.0000e+00, 0.0000e+00,\n",
              "       0.0000e+00, 0.0000e+00, 0.0000e+00, 0.0000e+00, 0.0000e+00,\n",
              "       0.0000e+00, 0.0000e+00, 0.0000e+00, 0.0000e+00, 0.0000e+00,\n",
              "       0.0000e+00, 0.0000e+00, 0.0000e+00, 0.0000e+00, 0.0000e+00,\n",
              "       0.0000e+00, 0.0000e+00, 0.0000e+00, 0.0000e+00, 0.0000e+00,\n",
              "       0.0000e+00, 0.0000e+00, 0.0000e+00, 0.0000e+00, 0.0000e+00,\n",
              "       0.0000e+00, 0.0000e+00, 0.0000e+00, 0.0000e+00, 0.0000e+00,\n",
              "       0.0000e+00, 0.0000e+00, 0.0000e+00, 0.0000e+00, 0.0000e+00,\n",
              "       0.0000e+00, 0.0000e+00, 0.0000e+00, 0.0000e+00, 0.0000e+00,\n",
              "       0.0000e+00, 0.0000e+00, 0.0000e+00, 0.0000e+00, 1.0000e+00,\n",
              "       0.0000e+00, 0.0000e+00, 0.0000e+00, 1.0000e+00, 0.0000e+00,\n",
              "       1.0000e+00, 2.0130e+03])"
            ]
          },
          "metadata": {},
          "execution_count": 12
        }
      ]
    },
    {
      "cell_type": "markdown",
      "metadata": {
        "id": "t0HZezM5ryQY"
      },
      "source": [
        "Para visualizar los valores de las propiedades categóricas."
      ]
    },
    {
      "cell_type": "markdown",
      "metadata": {
        "id": "8gaU5udYgbEi"
      },
      "source": [
        "Para visualizar la transformación de las propiedades categóricas."
      ]
    },
    {
      "cell_type": "code",
      "execution_count": null,
      "metadata": {
        "colab": {
          "base_uri": "https://localhost:8080/"
        },
        "id": "81U1AnSxgNxx",
        "outputId": "4af74d76-ce24-4905-aafc-8b2ef9fa2baa"
      },
      "outputs": [
        {
          "output_type": "execute_result",
          "data": {
            "text/plain": [
              "array(['bodyType=BODY_TYPE_4X4', 'bodyType=BODY_TYPE_BERLINA',\n",
              "       'bodyType=BODY_TYPE_CABRIO', 'bodyType=BODY_TYPE_COUPE',\n",
              "       'bodyType=BODY_TYPE_FAMILIAR', 'bodyType=BODY_TYPE_MINIVAN',\n",
              "       'bodyType=BODY_TYPE_PICK_UP', 'bodyType=BODY_TYPE_SEDAN',\n",
              "       'color=COLOR_BEIGE', 'color=COLOR_BLACK', 'color=COLOR_BLUE',\n",
              "       'color=COLOR_BROWN', 'color=COLOR_GARNET', 'color=COLOR_GRAY',\n",
              "       'color=COLOR_GREEN', 'color=COLOR_ORANGE', 'color=COLOR_PINK',\n",
              "       'color=COLOR_PURPLE', 'color=COLOR_RED', 'color=COLOR_WHITE',\n",
              "       'color=COLOR_YELLOW', 'cubicCapacity', 'doors', 'fuelType=Diésel',\n",
              "       'fuelType=Eléctrico', 'fuelType=Gas licuado (GLP)',\n",
              "       'fuelType=Gas natural (CNG)', 'fuelType=Gasolina',\n",
              "       'fuelType=Híbrido', 'fuelType=Híbrido enchufable', 'hp', 'km',\n",
              "       'make=ABARTH', 'make=ALFA ROMEO', 'make=AUDI', 'make=BMW',\n",
              "       'make=CHEVROLET', 'make=CITROEN', 'make=CUPRA', 'make=DACIA',\n",
              "       'make=DS', 'make=FERRARI', 'make=FIAT', 'make=FORD', 'make=HONDA',\n",
              "       'make=HYUNDAI', 'make=JAGUAR', 'make=JEEP', 'make=KIA',\n",
              "       'make=LAND-ROVER', 'make=LEXUS', 'make=MAZDA',\n",
              "       'make=MERCEDES-BENZ', 'make=MINI', 'make=MITSUBISHI',\n",
              "       'make=NISSAN', 'make=OPEL', 'make=PEUGEOT', 'make=PORSCHE',\n",
              "       'make=RENAULT', 'make=SEAT', 'make=SKODA', 'make=SMART',\n",
              "       'make=SSANGYONG', 'make=SUBARU', 'make=SUZUKI', 'make=TESLA',\n",
              "       'make=TOYOTA', 'make=VOLKSWAGEN', 'make=VOLVO', 'model=108',\n",
              "       'model=124 Spider', 'model=2008', 'model=207', 'model=208',\n",
              "       'model=3008', 'model=3008 Hybrid', 'model=308', 'model=370Z',\n",
              "       'model=458', 'model=488', 'model=500', 'model=5008', 'model=500C',\n",
              "       'model=500L', 'model=500X', 'model=508', 'model=508 Hybrid',\n",
              "       'model=695', 'model=718', 'model=807', 'model=812', 'model=911',\n",
              "       'model=A1', 'model=A3', 'model=A4', 'model=A4 Allroad Quattro',\n",
              "       'model=A5', 'model=A6', 'model=A6 allroad quattro', 'model=A7',\n",
              "       'model=A8', 'model=ALTEA', 'model=AMG GT', 'model=ASX',\n",
              "       'model=Adam', 'model=Alhambra', 'model=Antara', 'model=Arkana',\n",
              "       'model=Arona', 'model=Arteon', 'model=Astra', 'model=Ateca',\n",
              "       'model=Auris', 'model=Austral', 'model=Avensis', 'model=Aveo',\n",
              "       'model=Aygo', 'model=BMAX', 'model=BRZ', 'model=Baleno',\n",
              "       'model=Bayon', 'model=Beetle', 'model=Berlingo', 'model=Born',\n",
              "       'model=Boxster', 'model=C1', 'model=C3', 'model=C3 Aircross',\n",
              "       'model=C3 Picasso', 'model=C4', 'model=C4 Aircross',\n",
              "       'model=C4 Cactus', 'model=C4 Picasso', 'model=C4 Spacetourer',\n",
              "       'model=C5', 'model=C5 Aircross', 'model=C5 Aircross Hybrid',\n",
              "       'model=C5 X', 'model=CAMARO 2 SS CABRIO V8 6.2i 2019 453CV',\n",
              "       'model=CC', 'model=CElysee', 'model=CHR', 'model=CLA', 'model=CLS',\n",
              "       'model=CLUBMAN', 'model=CMax', 'model=CR-V', 'model=CRV',\n",
              "       'model=CT', 'model=CX-3', 'model=CX-30', 'model=CX-5', 'model=CX3',\n",
              "       'model=CX30', 'model=CX5', 'model=CX7', 'model=CX9',\n",
              "       'model=Cabrio', 'model=Caddy', 'model=California', 'model=Camaro',\n",
              "       'model=Captiva', 'model=Captur', 'model=Caravelle', 'model=Carens',\n",
              "       'model=Cayenne', 'model=Cayenne Coupe', 'model=Cayman',\n",
              "       'model=Ceed Tourer', 'model=Celerio', 'model=Cherokee',\n",
              "       'model=Citan', 'model=Citigo', 'model=Civic', 'model=Clase A',\n",
              "       'model=Clase B', 'model=Clase C', 'model=Clase CLA',\n",
              "       'model=Clase CLS', 'model=Clase E',\n",
              "       'model=Clase E 200 4MATIC AllTerrain Estate', 'model=Clase G',\n",
              "       'model=Clase GLA', 'model=Clase GLC', 'model=Clase GLE',\n",
              "       'model=Clase GLE Coupe', 'model=Clase GLK', 'model=Clase GLS',\n",
              "       'model=Clase M', 'model=Clase S', 'model=Clase SLC',\n",
              "       'model=Clase SLK', 'model=Clase T', 'model=Clase V',\n",
              "       'model=Clase X', 'model=Clio', 'model=Combo', 'model=Combo Life',\n",
              "       'model=Compass', 'model=Corolla', 'model=Corolla Sedan',\n",
              "       'model=Corsa', 'model=Corsae', 'model=Corvette Stingray',\n",
              "       'model=Countryman', 'model=Crossland', 'model=Crossland X',\n",
              "       'model=Cruze', 'model=DS 3', 'model=DS 3 Crossback', 'model=DS 4',\n",
              "       'model=DS 4 Crossback', 'model=DS 5', 'model=DS 7 Crossback',\n",
              "       'model=DS 7 Crossback ETense', 'model=DS3', 'model=DS4',\n",
              "       'model=Defender', 'model=Discovery', 'model=Discovery 4',\n",
              "       'model=Discovery Sport', 'model=Doblo', 'model=Doblo Cargo',\n",
              "       'model=Doblo Panorama', 'model=Dokker', 'model=Ducato',\n",
              "       'model=Duster', 'model=EPace', 'model=EQA', 'model=EQC',\n",
              "       'model=EQE', 'model=ES', 'model=EV6', 'model=EVALIA',\n",
              "       'model=Eclipse Cross', 'model=EcoSport', 'model=Edge',\n",
              "       'model=Elantra', 'model=Enyaq', 'model=Espace', 'model=Exeo',\n",
              "       'model=Explorer', 'model=F-Pace', 'model=F150 RAPTOR SVT 411cv',\n",
              "       'model=F8 TRIBUTO', 'model=FF', 'model=FF 3 p.', 'model=FType',\n",
              "       'model=Fabia', 'model=Fiesta', 'model=Focus', 'model=Forester',\n",
              "       'model=Formentor', 'model=Fpace', 'model=Freelander',\n",
              "       'model=Freemont', 'model=Fullback', 'model=Fusion', 'model=GLA',\n",
              "       'model=GLA 180 CDI STYLE 110cv', 'model=GLB', 'model=GLC',\n",
              "       'model=GLC Coupe', 'model=GLC Coupé', 'model=GLE',\n",
              "       'model=GLE Coupe', 'model=GS', 'model=GTC', 'model=GTC4',\n",
              "       'model=GTR', 'model=Galaxy', 'model=Giulia', 'model=Giulietta',\n",
              "       'model=Gladiator', 'model=Golf', 'model=Golf Plus',\n",
              "       'model=Golf Sportsvan', 'model=Grand C-Max',\n",
              "       'model=Grand C4 Picasso', 'model=Grand C4 Spacetourer',\n",
              "       'model=Grand CMax', 'model=Grand Cherokee', 'model=Grand Espace',\n",
              "       'model=Grand Santa Fe', 'model=Grand Scenic',\n",
              "       'model=Grand Tourneo Connect', 'model=Grand Vitara',\n",
              "       'model=Grandland', 'model=Grandland PHEV', 'model=Grandland X',\n",
              "       'model=Grandland X PHEV', 'model=H1 Travel', 'model=HRV',\n",
              "       'model=Highlander', 'model=Hilux', 'model=ID.3', 'model=ID3',\n",
              "       'model=ID4', 'model=IONIQ', 'model=IS', 'model=Ibiza',\n",
              "       'model=Ignis', 'model=Impreza', 'model=Insignia', 'model=JUKE',\n",
              "       'model=Jazz', 'model=Jetta', 'model=Jimny', 'model=Jumper',\n",
              "       'model=KA', 'model=Kadjar', 'model=Kamiq', 'model=Kangoo',\n",
              "       'model=Kangoo Combi', 'model=Kaplus', 'model=Karoq',\n",
              "       'model=Kodiaq', 'model=Koleos', 'model=Kona', 'model=Korando',\n",
              "       'model=Kuga', 'model=L200', 'model=LEAF', 'model=LEVORG',\n",
              "       'model=Land Cruiser', 'model=Legacy', 'model=Leon', 'model=Lodgy',\n",
              "       'model=Logan', 'model=M4 COMPETITION CABRIO 450CV',\n",
              "       'model=M6 COMPETITION', 'model=MINI', 'model=MX-5', 'model=MX30',\n",
              "       'model=MX5', 'model=Macan', 'model=Mazda2', 'model=Mazda3',\n",
              "       'model=Mazda5', 'model=Mazda6', 'model=Megane',\n",
              "       'model=Megane ETech', 'model=MercedesAMG GT', 'model=Meriva',\n",
              "       'model=MiTo', 'model=Micra', 'model=Mii', 'model=Model 3',\n",
              "       'model=Model S', 'model=Model X', 'model=Model Y', 'model=Mokka',\n",
              "       'model=Mokka X', 'model=Mokkae', 'model=Mondeo', 'model=Montero',\n",
              "       'model=Multivan', 'model=Mustang', 'model=Mustang MachE',\n",
              "       'model=Mégane', 'model=NOTE', 'model=NV200 EVALIA', 'model=NV300',\n",
              "       'model=NX', 'model=Navara', 'model=Niro', 'model=Octavia',\n",
              "       'model=Optima', 'model=Orlando', 'model=Outback',\n",
              "       'model=Outlander', 'model=PULSAR', 'model=Paceman',\n",
              "       'model=Panamera', 'model=Panda', 'model=Partner', 'model=Passat',\n",
              "       'model=Passat CC', 'model=Picanto', 'model=Polo',\n",
              "       'model=Portofino', 'model=Prius', 'model=Priusplus',\n",
              "       'model=Pro Ceed', 'model=ProCeed', 'model=Proace City',\n",
              "       'model=Proace Verso', 'model=Puma', 'model=Punto', 'model=Q2',\n",
              "       'model=Q3', 'model=Q3 Sportback', 'model=Q5', 'model=Q5 SPORTBACK',\n",
              "       'model=Q7', 'model=Q8', 'model=QASHQAI', 'model=Qubo', 'model=R8',\n",
              "       'model=RC', 'model=RCZ', 'model=ROMA', 'model=RS4', 'model=RS6',\n",
              "       'model=RS7', 'model=RX', 'model=Range Rover',\n",
              "       'model=Range Rover Evoque', 'model=Range Rover Sport',\n",
              "       'model=Range Rover Velar', 'model=Ranger', 'model=Rapid',\n",
              "       'model=Rav4', 'model=Renegade', 'model=Rexton', 'model=Rifter',\n",
              "       'model=Rio', 'model=Rodius', 'model=Roma', 'model=S1', 'model=S5',\n",
              "       'model=S60', 'model=S90', 'model=SCross', 'model=SMAX',\n",
              "       'model=SQ5', 'model=SQ7', 'model=SX4 SCross', 'model=Sandero',\n",
              "       'model=Santa Fe', 'model=Scala', 'model=Scenic', 'model=Scirocco',\n",
              "       'model=Scout', 'model=Serie 1', 'model=Serie 2',\n",
              "       'model=Serie 2 Active Tourer', 'model=Serie 2 Gran Tourer',\n",
              "       'model=Serie 3', 'model=Serie 4', 'model=Serie 5', 'model=Serie 6',\n",
              "       'model=Serie 7', 'model=Serie 8', 'model=Sharan', 'model=Sorento',\n",
              "       'model=Soul', 'model=Soul EV', 'model=Space Star',\n",
              "       'model=Spaceback', 'model=Spacetourer', 'model=Spark',\n",
              "       'model=Sportage', 'model=Stelvio', 'model=Stonic', 'model=Superb',\n",
              "       'model=Swift', 'model=TCross', 'model=TRoc', 'model=TT',\n",
              "       'model=TUCSON', 'model=Taigo', 'model=Talisman', 'model=Tarraco',\n",
              "       'model=Taycan', 'model=Tiguan', 'model=Tiguan Allspace',\n",
              "       'model=Tipo', 'model=Tivoli', 'model=Toledo', 'model=Tonale',\n",
              "       'model=Touareg', 'model=Touran', 'model=Tourneo Connect',\n",
              "       'model=Tourneo Courier', 'model=Tourneo Custom', 'model=Townstar',\n",
              "       'model=Trafic', 'model=Transit Connect', 'model=Transporter',\n",
              "       'model=Traveller', 'model=Trax', 'model=Twingo', 'model=UX',\n",
              "       'model=V40', 'model=V40 Cross Country', 'model=V60',\n",
              "       'model=V60 Cross Country', 'model=V90', 'model=V90 Cross Country',\n",
              "       'model=Venga', 'model=Verso', 'model=Viano', 'model=Vitara',\n",
              "       'model=Vito', 'model=Vivaro', 'model=WRX STI', 'model=Wrangler',\n",
              "       'model=Wrangler Unlimited', 'model=X1', 'model=X2', 'model=X3',\n",
              "       'model=X4', 'model=X5', 'model=X6', 'model=X7', 'model=XC40',\n",
              "       'model=XC60', 'model=XC70', 'model=XC90', 'model=XCeed',\n",
              "       'model=XE', 'model=XF', 'model=XLV', 'model=XTRAIL', 'model=XV',\n",
              "       'model=Yaris', 'model=Yaris Cross', 'model=Yeti', 'model=Z4',\n",
              "       'model=Zafira', 'model=Zafira Life', 'model=Zafira Tourer',\n",
              "       'model=Zoe', \"model=cee'd\", 'model=ceed', 'model=ceed Sportswagon',\n",
              "       'model=e2008', 'model=e208', 'model=eC4', 'model=eNiro',\n",
              "       'model=eSoul', 'model=eup', 'model=forfour', 'model=fortwo',\n",
              "       'model=i10', 'model=i20', 'model=i20 Active', 'model=i3',\n",
              "       'model=i30', 'model=i4', 'model=i40', 'model=i8', 'model=iPace',\n",
              "       'model=iX', 'model=iX3', 'model=ix20', 'model=ix35', 'model=up',\n",
              "       'price', 'province=A Coruña', 'province=Albacete',\n",
              "       'province=Alicante', 'province=Almería', 'province=Asturias',\n",
              "       'province=Badajoz', 'province=Baleares', 'province=Barcelona',\n",
              "       'province=Burgos', 'province=Cantabria', 'province=Castellón',\n",
              "       'province=Ciudad Real', 'province=Cuenca', 'province=Cáceres',\n",
              "       'province=Cádiz', 'province=Córdoba', 'province=Girona',\n",
              "       'province=Granada', 'province=Guadalajara', 'province=Guipúzcoa',\n",
              "       'province=Huelva', 'province=Huesca', 'province=Jaén',\n",
              "       'province=La Rioja', 'province=Las Palmas', 'province=León',\n",
              "       'province=Lleida', 'province=Lugo', 'province=Madrid',\n",
              "       'province=Melilla', 'province=Murcia', 'province=Málaga',\n",
              "       'province=Navarra', 'province=Ourense', 'province=Palencia',\n",
              "       'province=Pontevedra', 'province=Salamanca', 'province=Segovia',\n",
              "       'province=Sevilla', 'province=Soria', 'province=Sta. C. Tenerife',\n",
              "       'province=Tarragona', 'province=Teruel', 'province=Toledo',\n",
              "       'province=Valencia', 'province=Valladolid', 'province=Vizcaya',\n",
              "       'province=Zamora', 'province=Zaragoza', 'province=Álava',\n",
              "       'province=Ávila', 'seller_type=particular',\n",
              "       'seller_type=profesional',\n",
              "       'transmissionType=TRANSMISSION_AUTOMATIC',\n",
              "       'transmissionType=TRANSMISSION_MANUAL', 'year'], dtype=object)"
            ]
          },
          "metadata": {},
          "execution_count": 13
        }
      ],
      "source": [
        "dv.get_feature_names_out()"
      ]
    },
    {
      "cell_type": "markdown",
      "metadata": {
        "id": "gUwSHbfzQ_qi"
      },
      "source": [
        "# 4. Red neuronal"
      ]
    },
    {
      "cell_type": "code",
      "execution_count": null,
      "metadata": {
        "colab": {
          "base_uri": "https://localhost:8080/"
        },
        "id": "VmAFFVLdRFkI",
        "outputId": "0d93eb0c-67f7-429d-c9a4-7b000b61e697"
      },
      "outputs": [
        {
          "output_type": "stream",
          "name": "stdout",
          "text": [
            "Numero de entradas: 607\n",
            "Model: \"sequential\"\n",
            "_________________________________________________________________\n",
            " Layer (type)                Output Shape              Param #   \n",
            "=================================================================\n",
            " dense (Dense)               (None, 607)               369056    \n",
            "                                                                 \n",
            " dense_1 (Dense)             (None, 1214)              738112    \n",
            "                                                                 \n",
            " dense_2 (Dense)             (None, 1)                 1215      \n",
            "                                                                 \n",
            "=================================================================\n",
            "Total params: 1,108,383\n",
            "Trainable params: 1,108,383\n",
            "Non-trainable params: 0\n",
            "_________________________________________________________________\n"
          ]
        }
      ],
      "source": [
        "model = Sequential()\n",
        "input_shape = len(X_train[0])\n",
        "print('Numero de entradas:',input_shape)\n",
        "\n",
        "model.add(Dense(X_train.shape[1], input_shape=(input_shape,), activation='relu', kernel_initializer='he_uniform'))\n",
        "model.add(Dense(X_train.shape[1]*2, activation='relu', kernel_initializer='he_uniform'))\n",
        "model.add(Dense(1, activation='linear', kernel_initializer='glorot_uniform'))\n",
        "\n",
        "model.summary()"
      ]
    },
    {
      "cell_type": "code",
      "source": [
        "# Definir el optimizador\n",
        "optimizer = Adam(learning_rate=0.01)\n",
        "\n",
        "# Compilar el modelo\n",
        "model.compile(loss='mean_squared_error', optimizer=optimizer)\n",
        "\n",
        "# Definir early stopping\n",
        "early_stop = EarlyStopping(monitor='val_loss', patience=10, mode='min', verbose=0)\n",
        "\n",
        "# Definir reducción del learning rate\n",
        "reduce_lr = ReduceLROnPlateau(monitor='val_loss', factor=0.01, patience=5, min_lr=0.001, mode='min', verbose=0)\n",
        "\n",
        "batch_size=int(math.sqrt(len(X_train)))\n",
        "print(\"batch_size:\",batch_size)\n",
        "\n",
        "# Entrenar el modelo con reducción del learning rate\n",
        "history = model.fit(X_train, y_train, validation_data=(X_test, y_test), epochs=5000, batch_size=batch_size, callbacks=[early_stop,reduce_lr], use_multiprocessing=True)"
      ],
      "metadata": {
        "colab": {
          "base_uri": "https://localhost:8080/"
        },
        "id": "-zgX5U6uiQ5I",
        "outputId": "c9f57dee-1962-4510-d466-1b8a70b5eddc"
      },
      "execution_count": null,
      "outputs": [
        {
          "output_type": "stream",
          "name": "stdout",
          "text": [
            "batch_size: 103\n",
            "Epoch 1/5000\n",
            "104/104 [==============================] - 3s 23ms/step - loss: 116854672.0000 - val_loss: 93730840.0000 - lr: 0.0100\n",
            "Epoch 2/5000\n",
            "104/104 [==============================] - 2s 22ms/step - loss: 97661104.0000 - val_loss: 93496224.0000 - lr: 0.0100\n",
            "Epoch 3/5000\n",
            "104/104 [==============================] - 2s 24ms/step - loss: 92804040.0000 - val_loss: 141778416.0000 - lr: 0.0100\n",
            "Epoch 4/5000\n",
            "104/104 [==============================] - 3s 28ms/step - loss: 87396480.0000 - val_loss: 84326784.0000 - lr: 0.0100\n",
            "Epoch 5/5000\n",
            "104/104 [==============================] - 2s 21ms/step - loss: 99758624.0000 - val_loss: 83413328.0000 - lr: 0.0100\n",
            "Epoch 6/5000\n",
            "104/104 [==============================] - 2s 21ms/step - loss: 83649856.0000 - val_loss: 82448256.0000 - lr: 0.0100\n",
            "Epoch 7/5000\n",
            "104/104 [==============================] - 2s 21ms/step - loss: 82560560.0000 - val_loss: 128969832.0000 - lr: 0.0100\n",
            "Epoch 8/5000\n",
            "104/104 [==============================] - 2s 21ms/step - loss: 90526568.0000 - val_loss: 110338320.0000 - lr: 0.0100\n",
            "Epoch 9/5000\n",
            "104/104 [==============================] - 3s 32ms/step - loss: 88216896.0000 - val_loss: 83610424.0000 - lr: 0.0100\n",
            "Epoch 10/5000\n",
            "104/104 [==============================] - 2s 21ms/step - loss: 89354368.0000 - val_loss: 92252200.0000 - lr: 0.0100\n",
            "Epoch 11/5000\n",
            "104/104 [==============================] - 2s 22ms/step - loss: 87093072.0000 - val_loss: 110049528.0000 - lr: 0.0100\n",
            "Epoch 12/5000\n",
            "104/104 [==============================] - 2s 21ms/step - loss: 80553072.0000 - val_loss: 81027456.0000 - lr: 0.0010\n",
            "Epoch 13/5000\n",
            "104/104 [==============================] - 2s 21ms/step - loss: 70501832.0000 - val_loss: 80773528.0000 - lr: 0.0010\n",
            "Epoch 14/5000\n",
            "104/104 [==============================] - 3s 28ms/step - loss: 69433728.0000 - val_loss: 78844896.0000 - lr: 0.0010\n",
            "Epoch 15/5000\n",
            "104/104 [==============================] - 3s 25ms/step - loss: 67379640.0000 - val_loss: 79025240.0000 - lr: 0.0010\n",
            "Epoch 16/5000\n",
            "104/104 [==============================] - 2s 21ms/step - loss: 68283776.0000 - val_loss: 80087736.0000 - lr: 0.0010\n",
            "Epoch 17/5000\n",
            "104/104 [==============================] - 2s 21ms/step - loss: 66351652.0000 - val_loss: 77990112.0000 - lr: 0.0010\n",
            "Epoch 18/5000\n",
            "104/104 [==============================] - 2s 21ms/step - loss: 66477584.0000 - val_loss: 77362328.0000 - lr: 0.0010\n",
            "Epoch 19/5000\n",
            "104/104 [==============================] - 2s 21ms/step - loss: 66227304.0000 - val_loss: 76913224.0000 - lr: 0.0010\n",
            "Epoch 20/5000\n",
            "104/104 [==============================] - 3s 31ms/step - loss: 64672480.0000 - val_loss: 76727160.0000 - lr: 0.0010\n",
            "Epoch 21/5000\n",
            "104/104 [==============================] - 2s 21ms/step - loss: 65028352.0000 - val_loss: 75557960.0000 - lr: 0.0010\n",
            "Epoch 22/5000\n",
            "104/104 [==============================] - 2s 21ms/step - loss: 64793716.0000 - val_loss: 80647648.0000 - lr: 0.0010\n",
            "Epoch 23/5000\n",
            "104/104 [==============================] - 2s 21ms/step - loss: 66633608.0000 - val_loss: 81270144.0000 - lr: 0.0010\n",
            "Epoch 24/5000\n",
            "104/104 [==============================] - 2s 20ms/step - loss: 65963072.0000 - val_loss: 79707888.0000 - lr: 0.0010\n",
            "Epoch 25/5000\n",
            "104/104 [==============================] - 3s 31ms/step - loss: 65123124.0000 - val_loss: 75283232.0000 - lr: 0.0010\n",
            "Epoch 26/5000\n",
            "104/104 [==============================] - 2s 22ms/step - loss: 65236420.0000 - val_loss: 75897560.0000 - lr: 0.0010\n",
            "Epoch 27/5000\n",
            "104/104 [==============================] - 2s 21ms/step - loss: 65019372.0000 - val_loss: 76717272.0000 - lr: 0.0010\n",
            "Epoch 28/5000\n",
            "104/104 [==============================] - 2s 21ms/step - loss: 64065732.0000 - val_loss: 75798496.0000 - lr: 0.0010\n",
            "Epoch 29/5000\n",
            "104/104 [==============================] - 2s 21ms/step - loss: 63935068.0000 - val_loss: 75958848.0000 - lr: 0.0010\n",
            "Epoch 30/5000\n",
            "104/104 [==============================] - 3s 24ms/step - loss: 63568456.0000 - val_loss: 77630584.0000 - lr: 0.0010\n",
            "Epoch 31/5000\n",
            "104/104 [==============================] - 3s 28ms/step - loss: 64158108.0000 - val_loss: 74675168.0000 - lr: 0.0010\n",
            "Epoch 32/5000\n",
            "104/104 [==============================] - 2s 21ms/step - loss: 64443660.0000 - val_loss: 74375112.0000 - lr: 0.0010\n",
            "Epoch 33/5000\n",
            "104/104 [==============================] - 2s 21ms/step - loss: 63579332.0000 - val_loss: 74662448.0000 - lr: 0.0010\n",
            "Epoch 34/5000\n",
            "104/104 [==============================] - 2s 21ms/step - loss: 62432072.0000 - val_loss: 75483856.0000 - lr: 0.0010\n",
            "Epoch 35/5000\n",
            "104/104 [==============================] - 2s 20ms/step - loss: 62997648.0000 - val_loss: 73337464.0000 - lr: 0.0010\n",
            "Epoch 36/5000\n",
            "104/104 [==============================] - 3s 32ms/step - loss: 64717280.0000 - val_loss: 73311144.0000 - lr: 0.0010\n",
            "Epoch 37/5000\n",
            "104/104 [==============================] - 2s 21ms/step - loss: 62753864.0000 - val_loss: 73655184.0000 - lr: 0.0010\n",
            "Epoch 38/5000\n",
            "104/104 [==============================] - 2s 21ms/step - loss: 63351664.0000 - val_loss: 73868232.0000 - lr: 0.0010\n",
            "Epoch 39/5000\n",
            "104/104 [==============================] - 2s 21ms/step - loss: 62615896.0000 - val_loss: 73626920.0000 - lr: 0.0010\n",
            "Epoch 40/5000\n",
            "104/104 [==============================] - 2s 21ms/step - loss: 63147860.0000 - val_loss: 74034160.0000 - lr: 0.0010\n",
            "Epoch 41/5000\n",
            "104/104 [==============================] - 3s 28ms/step - loss: 61363700.0000 - val_loss: 72871080.0000 - lr: 0.0010\n",
            "Epoch 42/5000\n",
            "104/104 [==============================] - 3s 25ms/step - loss: 61562316.0000 - val_loss: 74070856.0000 - lr: 0.0010\n",
            "Epoch 43/5000\n",
            "104/104 [==============================] - 2s 21ms/step - loss: 62516892.0000 - val_loss: 76839992.0000 - lr: 0.0010\n",
            "Epoch 44/5000\n",
            "104/104 [==============================] - 2s 21ms/step - loss: 62576548.0000 - val_loss: 72737704.0000 - lr: 0.0010\n",
            "Epoch 45/5000\n",
            "104/104 [==============================] - 2s 21ms/step - loss: 60822020.0000 - val_loss: 73829904.0000 - lr: 0.0010\n",
            "Epoch 46/5000\n",
            "104/104 [==============================] - 2s 22ms/step - loss: 61641168.0000 - val_loss: 73071128.0000 - lr: 0.0010\n",
            "Epoch 47/5000\n",
            "104/104 [==============================] - 3s 31ms/step - loss: 62423692.0000 - val_loss: 73334736.0000 - lr: 0.0010\n",
            "Epoch 48/5000\n",
            "104/104 [==============================] - 2s 21ms/step - loss: 61522600.0000 - val_loss: 75098848.0000 - lr: 0.0010\n",
            "Epoch 49/5000\n",
            "104/104 [==============================] - 2s 21ms/step - loss: 61616688.0000 - val_loss: 72563696.0000 - lr: 0.0010\n",
            "Epoch 50/5000\n",
            "104/104 [==============================] - 2s 21ms/step - loss: 61766336.0000 - val_loss: 75546960.0000 - lr: 0.0010\n",
            "Epoch 51/5000\n",
            "104/104 [==============================] - 2s 21ms/step - loss: 62362860.0000 - val_loss: 72077472.0000 - lr: 0.0010\n",
            "Epoch 52/5000\n",
            "104/104 [==============================] - 3s 30ms/step - loss: 60806824.0000 - val_loss: 71630456.0000 - lr: 0.0010\n",
            "Epoch 53/5000\n",
            "104/104 [==============================] - 2s 23ms/step - loss: 61065436.0000 - val_loss: 72225360.0000 - lr: 0.0010\n",
            "Epoch 54/5000\n",
            "104/104 [==============================] - 2s 21ms/step - loss: 61175748.0000 - val_loss: 72357728.0000 - lr: 0.0010\n",
            "Epoch 55/5000\n",
            "104/104 [==============================] - 2s 21ms/step - loss: 61057228.0000 - val_loss: 74021664.0000 - lr: 0.0010\n",
            "Epoch 56/5000\n",
            "104/104 [==============================] - 2s 22ms/step - loss: 61234308.0000 - val_loss: 76648608.0000 - lr: 0.0010\n",
            "Epoch 57/5000\n",
            "104/104 [==============================] - 3s 24ms/step - loss: 61139284.0000 - val_loss: 72207592.0000 - lr: 0.0010\n",
            "Epoch 58/5000\n",
            "104/104 [==============================] - 3s 28ms/step - loss: 60033568.0000 - val_loss: 72296440.0000 - lr: 0.0010\n",
            "Epoch 59/5000\n",
            "104/104 [==============================] - 2s 22ms/step - loss: 59825972.0000 - val_loss: 71588016.0000 - lr: 0.0010\n",
            "Epoch 60/5000\n",
            "104/104 [==============================] - 2s 22ms/step - loss: 59605760.0000 - val_loss: 71962544.0000 - lr: 0.0010\n",
            "Epoch 61/5000\n",
            "104/104 [==============================] - 2s 21ms/step - loss: 60009472.0000 - val_loss: 72602672.0000 - lr: 0.0010\n",
            "Epoch 62/5000\n",
            "104/104 [==============================] - 2s 21ms/step - loss: 60065352.0000 - val_loss: 70718664.0000 - lr: 0.0010\n",
            "Epoch 63/5000\n",
            "104/104 [==============================] - 3s 33ms/step - loss: 59526780.0000 - val_loss: 70530832.0000 - lr: 0.0010\n",
            "Epoch 64/5000\n",
            "104/104 [==============================] - 2s 21ms/step - loss: 60153112.0000 - val_loss: 73964200.0000 - lr: 0.0010\n",
            "Epoch 65/5000\n",
            "104/104 [==============================] - 2s 20ms/step - loss: 61580396.0000 - val_loss: 71572192.0000 - lr: 0.0010\n",
            "Epoch 66/5000\n",
            "104/104 [==============================] - 2s 21ms/step - loss: 60615532.0000 - val_loss: 71146792.0000 - lr: 0.0010\n",
            "Epoch 67/5000\n",
            "104/104 [==============================] - 2s 21ms/step - loss: 60194600.0000 - val_loss: 72727568.0000 - lr: 0.0010\n",
            "Epoch 68/5000\n",
            "104/104 [==============================] - 3s 28ms/step - loss: 60214044.0000 - val_loss: 71192688.0000 - lr: 0.0010\n",
            "Epoch 69/5000\n",
            "104/104 [==============================] - 3s 24ms/step - loss: 59376168.0000 - val_loss: 70692912.0000 - lr: 0.0010\n",
            "Epoch 70/5000\n",
            "104/104 [==============================] - 2s 21ms/step - loss: 59319088.0000 - val_loss: 70679032.0000 - lr: 0.0010\n",
            "Epoch 71/5000\n",
            "104/104 [==============================] - 2s 21ms/step - loss: 59215392.0000 - val_loss: 74442344.0000 - lr: 0.0010\n",
            "Epoch 72/5000\n",
            "104/104 [==============================] - 2s 21ms/step - loss: 58248852.0000 - val_loss: 72753328.0000 - lr: 0.0010\n",
            "Epoch 73/5000\n",
            "104/104 [==============================] - 2s 22ms/step - loss: 59634644.0000 - val_loss: 70393032.0000 - lr: 0.0010\n",
            "Epoch 74/5000\n",
            "104/104 [==============================] - 3s 30ms/step - loss: 58940400.0000 - val_loss: 69491656.0000 - lr: 0.0010\n",
            "Epoch 75/5000\n",
            "104/104 [==============================] - 2s 22ms/step - loss: 58868316.0000 - val_loss: 71143656.0000 - lr: 0.0010\n",
            "Epoch 76/5000\n",
            "104/104 [==============================] - 2s 21ms/step - loss: 58240504.0000 - val_loss: 71317032.0000 - lr: 0.0010\n",
            "Epoch 77/5000\n",
            "104/104 [==============================] - 2s 21ms/step - loss: 60695840.0000 - val_loss: 72444040.0000 - lr: 0.0010\n",
            "Epoch 78/5000\n",
            "104/104 [==============================] - 2s 21ms/step - loss: 58564000.0000 - val_loss: 69461240.0000 - lr: 0.0010\n",
            "Epoch 79/5000\n",
            "104/104 [==============================] - 4s 34ms/step - loss: 59702520.0000 - val_loss: 69639224.0000 - lr: 0.0010\n",
            "Epoch 80/5000\n",
            "104/104 [==============================] - 2s 21ms/step - loss: 58004380.0000 - val_loss: 69015152.0000 - lr: 0.0010\n",
            "Epoch 81/5000\n",
            "104/104 [==============================] - 2s 21ms/step - loss: 59263824.0000 - val_loss: 69073960.0000 - lr: 0.0010\n",
            "Epoch 82/5000\n",
            "104/104 [==============================] - 2s 21ms/step - loss: 58727220.0000 - val_loss: 69244256.0000 - lr: 0.0010\n",
            "Epoch 83/5000\n",
            "104/104 [==============================] - 2s 22ms/step - loss: 58495268.0000 - val_loss: 69514184.0000 - lr: 0.0010\n",
            "Epoch 84/5000\n",
            "104/104 [==============================] - 3s 30ms/step - loss: 58001664.0000 - val_loss: 70475888.0000 - lr: 0.0010\n",
            "Epoch 85/5000\n",
            "104/104 [==============================] - 2s 24ms/step - loss: 59591876.0000 - val_loss: 72852760.0000 - lr: 0.0010\n",
            "Epoch 86/5000\n",
            "104/104 [==============================] - 2s 21ms/step - loss: 58362892.0000 - val_loss: 68692680.0000 - lr: 0.0010\n",
            "Epoch 87/5000\n",
            "104/104 [==============================] - 2s 21ms/step - loss: 58461868.0000 - val_loss: 68529728.0000 - lr: 0.0010\n",
            "Epoch 88/5000\n",
            "104/104 [==============================] - 2s 21ms/step - loss: 57725208.0000 - val_loss: 68927376.0000 - lr: 0.0010\n",
            "Epoch 89/5000\n",
            "104/104 [==============================] - 3s 25ms/step - loss: 57574604.0000 - val_loss: 69611392.0000 - lr: 0.0010\n",
            "Epoch 90/5000\n",
            "104/104 [==============================] - 3s 28ms/step - loss: 59564396.0000 - val_loss: 69265856.0000 - lr: 0.0010\n",
            "Epoch 91/5000\n",
            "104/104 [==============================] - 2s 21ms/step - loss: 58465512.0000 - val_loss: 68371256.0000 - lr: 0.0010\n",
            "Epoch 92/5000\n",
            "104/104 [==============================] - 2s 22ms/step - loss: 58261120.0000 - val_loss: 71710072.0000 - lr: 0.0010\n",
            "Epoch 93/5000\n",
            "104/104 [==============================] - 2s 21ms/step - loss: 58184008.0000 - val_loss: 68724104.0000 - lr: 0.0010\n",
            "Epoch 94/5000\n",
            "104/104 [==============================] - 2s 22ms/step - loss: 57298900.0000 - val_loss: 68174592.0000 - lr: 0.0010\n",
            "Epoch 95/5000\n",
            "104/104 [==============================] - 3s 32ms/step - loss: 57175660.0000 - val_loss: 68201648.0000 - lr: 0.0010\n",
            "Epoch 96/5000\n",
            "104/104 [==============================] - 2s 21ms/step - loss: 57033020.0000 - val_loss: 69961784.0000 - lr: 0.0010\n",
            "Epoch 97/5000\n",
            "104/104 [==============================] - 2s 21ms/step - loss: 56858392.0000 - val_loss: 73397480.0000 - lr: 0.0010\n",
            "Epoch 98/5000\n",
            "104/104 [==============================] - 2s 21ms/step - loss: 59977448.0000 - val_loss: 71990848.0000 - lr: 0.0010\n",
            "Epoch 99/5000\n",
            "104/104 [==============================] - 2s 21ms/step - loss: 57293296.0000 - val_loss: 70240184.0000 - lr: 0.0010\n",
            "Epoch 100/5000\n",
            "104/104 [==============================] - 4s 34ms/step - loss: 57481336.0000 - val_loss: 68886424.0000 - lr: 0.0010\n",
            "Epoch 101/5000\n",
            "104/104 [==============================] - 2s 22ms/step - loss: 57563612.0000 - val_loss: 70553048.0000 - lr: 0.0010\n",
            "Epoch 102/5000\n",
            "104/104 [==============================] - 2s 21ms/step - loss: 56937120.0000 - val_loss: 75201352.0000 - lr: 0.0010\n",
            "Epoch 103/5000\n",
            "104/104 [==============================] - 2s 21ms/step - loss: 57466456.0000 - val_loss: 68021672.0000 - lr: 0.0010\n",
            "Epoch 104/5000\n",
            "104/104 [==============================] - 2s 21ms/step - loss: 55304776.0000 - val_loss: 72270528.0000 - lr: 0.0010\n",
            "Epoch 105/5000\n",
            "104/104 [==============================] - 3s 27ms/step - loss: 58195992.0000 - val_loss: 68863296.0000 - lr: 0.0010\n",
            "Epoch 106/5000\n",
            "104/104 [==============================] - 3s 26ms/step - loss: 57543940.0000 - val_loss: 67683904.0000 - lr: 0.0010\n",
            "Epoch 107/5000\n",
            "104/104 [==============================] - 2s 22ms/step - loss: 56842660.0000 - val_loss: 67607432.0000 - lr: 0.0010\n",
            "Epoch 108/5000\n",
            "104/104 [==============================] - 2s 21ms/step - loss: 56426404.0000 - val_loss: 67635768.0000 - lr: 0.0010\n",
            "Epoch 109/5000\n",
            "104/104 [==============================] - 2s 21ms/step - loss: 56634108.0000 - val_loss: 68105664.0000 - lr: 0.0010\n",
            "Epoch 110/5000\n",
            "104/104 [==============================] - 2s 23ms/step - loss: 56780904.0000 - val_loss: 68377304.0000 - lr: 0.0010\n",
            "Epoch 111/5000\n",
            "104/104 [==============================] - 3s 30ms/step - loss: 56570416.0000 - val_loss: 67252360.0000 - lr: 0.0010\n",
            "Epoch 112/5000\n",
            "104/104 [==============================] - 2s 21ms/step - loss: 56940600.0000 - val_loss: 67604216.0000 - lr: 0.0010\n",
            "Epoch 113/5000\n",
            "104/104 [==============================] - 2s 21ms/step - loss: 56460328.0000 - val_loss: 70132960.0000 - lr: 0.0010\n",
            "Epoch 114/5000\n",
            "104/104 [==============================] - 2s 21ms/step - loss: 57484192.0000 - val_loss: 67528976.0000 - lr: 0.0010\n",
            "Epoch 115/5000\n",
            "104/104 [==============================] - 2s 21ms/step - loss: 56895640.0000 - val_loss: 71101768.0000 - lr: 0.0010\n",
            "Epoch 116/5000\n",
            "104/104 [==============================] - 4s 35ms/step - loss: 57452236.0000 - val_loss: 71620328.0000 - lr: 0.0010\n",
            "Epoch 117/5000\n",
            "104/104 [==============================] - 2s 21ms/step - loss: 57456756.0000 - val_loss: 67900920.0000 - lr: 0.0010\n",
            "Epoch 118/5000\n",
            "104/104 [==============================] - 2s 21ms/step - loss: 57989360.0000 - val_loss: 70279480.0000 - lr: 0.0010\n",
            "Epoch 119/5000\n",
            "104/104 [==============================] - 2s 22ms/step - loss: 55860016.0000 - val_loss: 69229672.0000 - lr: 0.0010\n",
            "Epoch 120/5000\n",
            "104/104 [==============================] - 2s 22ms/step - loss: 57147136.0000 - val_loss: 69620928.0000 - lr: 0.0010\n",
            "Epoch 121/5000\n",
            "104/104 [==============================] - 3s 30ms/step - loss: 56178400.0000 - val_loss: 67598760.0000 - lr: 0.0010\n"
          ]
        }
      ]
    },
    {
      "cell_type": "code",
      "source": [
        "# Evaluamos el modelo en los datos de entrenamiento\n",
        "mse = model.evaluate(X_test, y_test)\n",
        "print('Error cuadrático medio (MSE): %.2f' % (mse))"
      ],
      "metadata": {
        "colab": {
          "base_uri": "https://localhost:8080/"
        },
        "id": "nRaupp3siTY7",
        "outputId": "5cb3b2e3-ba80-40b9-e66d-b70ccbc3ebfe"
      },
      "execution_count": null,
      "outputs": [
        {
          "output_type": "stream",
          "name": "stdout",
          "text": [
            "112/112 [==============================] - 1s 4ms/step - loss: 67598744.0000\n",
            "Error cuadrático medio (MSE): 67598744.00\n"
          ]
        }
      ]
    },
    {
      "cell_type": "code",
      "source": [
        "# Graficar la evolución de la función de pérdida\n",
        "plt.plot(history.history['loss'])\n",
        "plt.title('Función de Pérdida')\n",
        "plt.xlabel('Época')\n",
        "plt.ylabel('Pérdida')\n",
        "plt.show()"
      ],
      "metadata": {
        "colab": {
          "base_uri": "https://localhost:8080/",
          "height": 474
        },
        "id": "QR3R9diOiU-w",
        "outputId": "7056e440-7ab3-41f4-f428-399d5a7cd684"
      },
      "execution_count": null,
      "outputs": [
        {
          "output_type": "display_data",
          "data": {
            "text/plain": [
              "<Figure size 640x480 with 1 Axes>"
            ],
            "image/png": "[encoded data removed]"
          },
          "metadata": {}
        }
      ]
    },
    {
      "cell_type": "code",
      "source": [
        "test_data = {'color': 'COLOR_GRAY', 'fueltype': 'Diésel', 'make': 'RENAULT', 'model': 'Talisman', 'province': 'Madrid', 'transmissiontype': 'TRANSMISSION_MANUAL', 'year': 2017.0, 'seller_type': 'profesional', 'bodytype': 'BODY_TYPE_SEDAN', 'cubiccapacity': 1598.0, 'doors': 4.0, 'hp': 130.0}\n",
        "test_data = dv.transform([dict(test_data)])\n",
        "model.predict(test_data)"
      ],
      "metadata": {
        "colab": {
          "base_uri": "https://localhost:8080/"
        },
        "id": "7gEyqCHHcX_D",
        "outputId": "9e49e497-1fc5-47f2-b7e3-853be35bf682"
      },
      "execution_count": null,
      "outputs": [
        {
          "output_type": "stream",
          "name": "stdout",
          "text": [
            "1/1 [==============================] - 0s 56ms/step\n"
          ]
        },
        {
          "output_type": "execute_result",
          "data": {
            "text/plain": [
              "array([[18384.117]], dtype=float32)"
            ]
          },
          "metadata": {},
          "execution_count": 26
        }
      ]
    },
    {
      "cell_type": "code",
      "source": [
        "y_pred = model.predict(X_test)\n",
        "import numpy as np\n",
        "\n",
        "# Crear un array de índices para los datos de prueba\n",
        "indices = np.arange(15)\n",
        "\n",
        "# Crear un gráfico de barras comparando los valores reales con las predicciones\n",
        "plt.bar(indices, y_test.values.flatten()[:15], color='b', alpha=0.5, label='Real')\n",
        "plt.bar(indices, y_pred.flatten()[:15], color='r', alpha=0.5, label='Predicción')\n",
        "plt.title('Comparación de valores reales y predicciones')\n",
        "plt.xlabel('Índice de muestra')\n",
        "plt.ylabel('Valor')\n",
        "plt.legend()\n",
        "plt.show()\n"
      ],
      "metadata": {
        "colab": {
          "base_uri": "https://localhost:8080/",
          "height": 489
        },
        "id": "fGxuFgFSi3ja",
        "outputId": "154935c2-c5f1-457c-944f-68359a4e2831"
      },
      "execution_count": null,
      "outputs": [
        {
          "output_type": "stream",
          "name": "stdout",
          "text": [
            "112/112 [==============================] - 0s 4ms/step\n"
          ]
        },
        {
          "output_type": "display_data",
          "data": {
            "text/plain": [
              "<Figure size 640x480 with 1 Axes>"
            ],
            "image/png": "[encoded data removed]"
          },
          "metadata": {}
        }
      ]
    },
    {
      "cell_type": "code",
      "source": [
        "X_test[:1]"
      ],
      "metadata": {
        "colab": {
          "base_uri": "https://localhost:8080/"
        },
        "id": "qnTcQeaAdfoG",
        "outputId": "baea87ea-6b27-4a7d-d63b-b2b101216b45"
      },
      "execution_count": null,
      "outputs": [
        {
          "output_type": "execute_result",
          "data": {
            "text/plain": [
              "array([[0.0000e+00, 0.0000e+00, 0.0000e+00, 0.0000e+00, 1.0000e+00,\n",
              "        0.0000e+00, 0.0000e+00, 0.0000e+00, 0.0000e+00, 0.0000e+00,\n",
              "        0.0000e+00, 0.0000e+00, 0.0000e+00, 0.0000e+00, 0.0000e+00,\n",
              "        0.0000e+00, 0.0000e+00, 0.0000e+00, 0.0000e+00, 1.0000e+00,\n",
              "        0.0000e+00, 1.9680e+03, 5.0000e+00, 1.0000e+00, 0.0000e+00,\n",
              "        0.0000e+00, 0.0000e+00, 0.0000e+00, 0.0000e+00, 0.0000e+00,\n",
              "        1.4000e+02, 9.3942e+04, 0.0000e+00, 0.0000e+00, 0.0000e+00,\n",
              "        0.0000e+00, 0.0000e+00, 0.0000e+00, 0.0000e+00, 0.0000e+00,\n",
              "        0.0000e+00, 0.0000e+00, 0.0000e+00, 0.0000e+00, 0.0000e+00,\n",
              "        0.0000e+00, 0.0000e+00, 0.0000e+00, 0.0000e+00, 0.0000e+00,\n",
              "        0.0000e+00, 0.0000e+00, 0.0000e+00, 0.0000e+00, 0.0000e+00,\n",
              "        0.0000e+00, 0.0000e+00, 0.0000e+00, 0.0000e+00, 0.0000e+00,\n",
              "        0.0000e+00, 0.0000e+00, 0.0000e+00, 0.0000e+00, 0.0000e+00,\n",
              "        0.0000e+00, 0.0000e+00, 0.0000e+00, 1.0000e+00, 0.0000e+00,\n",
              "        0.0000e+00, 0.0000e+00, 0.0000e+00, 0.0000e+00, 0.0000e+00,\n",
              "        0.0000e+00, 0.0000e+00, 0.0000e+00, 0.0000e+00, 0.0000e+00,\n",
              "        0.0000e+00, 0.0000e+00, 0.0000e+00, 0.0000e+00, 0.0000e+00,\n",
              "        0.0000e+00, 0.0000e+00, 0.0000e+00, 0.0000e+00, 0.0000e+00,\n",
              "        0.0000e+00, 0.0000e+00, 0.0000e+00, 0.0000e+00, 0.0000e+00,\n",
              "        0.0000e+00, 0.0000e+00, 0.0000e+00, 0.0000e+00, 0.0000e+00,\n",
              "        0.0000e+00, 0.0000e+00, 0.0000e+00, 0.0000e+00, 0.0000e+00,\n",
              "        0.0000e+00, 0.0000e+00, 0.0000e+00, 0.0000e+00, 0.0000e+00,\n",
              "        0.0000e+00, 0.0000e+00, 0.0000e+00, 0.0000e+00, 0.0000e+00,\n",
              "        0.0000e+00, 0.0000e+00, 0.0000e+00, 0.0000e+00, 0.0000e+00,\n",
              "        0.0000e+00, 0.0000e+00, 0.0000e+00, 0.0000e+00, 0.0000e+00,\n",
              "        0.0000e+00, 0.0000e+00, 0.0000e+00, 0.0000e+00, 0.0000e+00,\n",
              "        0.0000e+00, 0.0000e+00, 0.0000e+00, 0.0000e+00, 0.0000e+00,\n",
              "        0.0000e+00, 0.0000e+00, 0.0000e+00, 0.0000e+00, 0.0000e+00,\n",
              "        0.0000e+00, 0.0000e+00, 0.0000e+00, 0.0000e+00, 0.0000e+00,\n",
              "        0.0000e+00, 0.0000e+00, 0.0000e+00, 0.0000e+00, 0.0000e+00,\n",
              "        0.0000e+00, 0.0000e+00, 0.0000e+00, 0.0000e+00, 0.0000e+00,\n",
              "        0.0000e+00, 0.0000e+00, 0.0000e+00, 0.0000e+00, 0.0000e+00,\n",
              "        0.0000e+00, 0.0000e+00, 0.0000e+00, 0.0000e+00, 0.0000e+00,\n",
              "        0.0000e+00, 0.0000e+00, 0.0000e+00, 0.0000e+00, 0.0000e+00,\n",
              "        0.0000e+00, 0.0000e+00, 0.0000e+00, 0.0000e+00, 0.0000e+00,\n",
              "        0.0000e+00, 0.0000e+00, 0.0000e+00, 0.0000e+00, 0.0000e+00,\n",
              "        0.0000e+00, 0.0000e+00, 0.0000e+00, 0.0000e+00, 0.0000e+00,\n",
              "        0.0000e+00, 0.0000e+00, 0.0000e+00, 0.0000e+00, 0.0000e+00,\n",
              "        0.0000e+00, 0.0000e+00, 0.0000e+00, 0.0000e+00, 0.0000e+00,\n",
              "        0.0000e+00, 0.0000e+00, 0.0000e+00, 0.0000e+00, 0.0000e+00,\n",
              "        0.0000e+00, 0.0000e+00, 0.0000e+00, 0.0000e+00, 0.0000e+00,\n",
              "        0.0000e+00, 0.0000e+00, 0.0000e+00, 0.0000e+00, 0.0000e+00,\n",
              "        0.0000e+00, 0.0000e+00, 0.0000e+00, 0.0000e+00, 0.0000e+00,\n",
              "        0.0000e+00, 0.0000e+00, 0.0000e+00, 0.0000e+00, 0.0000e+00,\n",
              "        0.0000e+00, 0.0000e+00, 0.0000e+00, 0.0000e+00, 0.0000e+00,\n",
              "        0.0000e+00, 0.0000e+00, 0.0000e+00, 0.0000e+00, 0.0000e+00,\n",
              "        0.0000e+00, 0.0000e+00, 0.0000e+00, 0.0000e+00, 0.0000e+00,\n",
              "        0.0000e+00, 0.0000e+00, 0.0000e+00, 0.0000e+00, 0.0000e+00,\n",
              "        0.0000e+00, 0.0000e+00, 0.0000e+00, 0.0000e+00, 0.0000e+00,\n",
              "        0.0000e+00, 0.0000e+00, 0.0000e+00, 0.0000e+00, 0.0000e+00,\n",
              "        0.0000e+00, 0.0000e+00, 0.0000e+00, 0.0000e+00, 0.0000e+00,\n",
              "        0.0000e+00, 0.0000e+00, 0.0000e+00, 0.0000e+00, 0.0000e+00,\n",
              "        0.0000e+00, 0.0000e+00, 0.0000e+00, 0.0000e+00, 0.0000e+00,\n",
              "        0.0000e+00, 0.0000e+00, 0.0000e+00, 0.0000e+00, 0.0000e+00,\n",
              "        0.0000e+00, 0.0000e+00, 0.0000e+00, 0.0000e+00, 0.0000e+00,\n",
              "        0.0000e+00, 0.0000e+00, 0.0000e+00, 0.0000e+00, 0.0000e+00,\n",
              "        0.0000e+00, 0.0000e+00, 0.0000e+00, 0.0000e+00, 0.0000e+00,\n",
              "        0.0000e+00, 0.0000e+00, 0.0000e+00, 0.0000e+00, 0.0000e+00,\n",
              "        0.0000e+00, 0.0000e+00, 0.0000e+00, 0.0000e+00, 0.0000e+00,\n",
              "        0.0000e+00, 0.0000e+00, 0.0000e+00, 0.0000e+00, 0.0000e+00,\n",
              "        0.0000e+00, 0.0000e+00, 0.0000e+00, 0.0000e+00, 0.0000e+00,\n",
              "        0.0000e+00, 0.0000e+00, 0.0000e+00, 0.0000e+00, 0.0000e+00,\n",
              "        0.0000e+00, 0.0000e+00, 0.0000e+00, 0.0000e+00, 0.0000e+00,\n",
              "        0.0000e+00, 0.0000e+00, 0.0000e+00, 0.0000e+00, 0.0000e+00,\n",
              "        0.0000e+00, 0.0000e+00, 0.0000e+00, 0.0000e+00, 0.0000e+00,\n",
              "        0.0000e+00, 0.0000e+00, 0.0000e+00, 0.0000e+00, 0.0000e+00,\n",
              "        0.0000e+00, 0.0000e+00, 0.0000e+00, 0.0000e+00, 0.0000e+00,\n",
              "        0.0000e+00, 0.0000e+00, 0.0000e+00, 0.0000e+00, 0.0000e+00,\n",
              "        0.0000e+00, 0.0000e+00, 0.0000e+00, 0.0000e+00, 0.0000e+00,\n",
              "        0.0000e+00, 0.0000e+00, 0.0000e+00, 0.0000e+00, 0.0000e+00,\n",
              "        0.0000e+00, 0.0000e+00, 0.0000e+00, 0.0000e+00, 0.0000e+00,\n",
              "        0.0000e+00, 0.0000e+00, 0.0000e+00, 0.0000e+00, 0.0000e+00,\n",
              "        0.0000e+00, 0.0000e+00, 0.0000e+00, 0.0000e+00, 0.0000e+00,\n",
              "        0.0000e+00, 0.0000e+00, 0.0000e+00, 0.0000e+00, 0.0000e+00,\n",
              "        0.0000e+00, 0.0000e+00, 0.0000e+00, 0.0000e+00, 0.0000e+00,\n",
              "        0.0000e+00, 0.0000e+00, 1.0000e+00, 0.0000e+00, 0.0000e+00,\n",
              "        0.0000e+00, 0.0000e+00, 0.0000e+00, 0.0000e+00, 0.0000e+00,\n",
              "        0.0000e+00, 0.0000e+00, 0.0000e+00, 0.0000e+00, 0.0000e+00,\n",
              "        0.0000e+00, 0.0000e+00, 0.0000e+00, 0.0000e+00, 0.0000e+00,\n",
              "        0.0000e+00, 0.0000e+00, 0.0000e+00, 0.0000e+00, 0.0000e+00,\n",
              "        0.0000e+00, 0.0000e+00, 0.0000e+00, 0.0000e+00, 0.0000e+00,\n",
              "        0.0000e+00, 0.0000e+00, 0.0000e+00, 0.0000e+00, 0.0000e+00,\n",
              "        0.0000e+00, 0.0000e+00, 0.0000e+00, 0.0000e+00, 0.0000e+00,\n",
              "        0.0000e+00, 0.0000e+00, 0.0000e+00, 0.0000e+00, 0.0000e+00,\n",
              "        0.0000e+00, 0.0000e+00, 0.0000e+00, 0.0000e+00, 0.0000e+00,\n",
              "        0.0000e+00, 0.0000e+00, 0.0000e+00, 0.0000e+00, 0.0000e+00,\n",
              "        0.0000e+00, 0.0000e+00, 0.0000e+00, 0.0000e+00, 0.0000e+00,\n",
              "        0.0000e+00, 0.0000e+00, 0.0000e+00, 0.0000e+00, 0.0000e+00,\n",
              "        0.0000e+00, 0.0000e+00, 0.0000e+00, 0.0000e+00, 0.0000e+00,\n",
              "        0.0000e+00, 0.0000e+00, 0.0000e+00, 0.0000e+00, 0.0000e+00,\n",
              "        0.0000e+00, 0.0000e+00, 0.0000e+00, 0.0000e+00, 0.0000e+00,\n",
              "        0.0000e+00, 0.0000e+00, 0.0000e+00, 0.0000e+00, 0.0000e+00,\n",
              "        0.0000e+00, 0.0000e+00, 0.0000e+00, 0.0000e+00, 0.0000e+00,\n",
              "        0.0000e+00, 0.0000e+00, 0.0000e+00, 0.0000e+00, 0.0000e+00,\n",
              "        0.0000e+00, 0.0000e+00, 0.0000e+00, 0.0000e+00, 0.0000e+00,\n",
              "        0.0000e+00, 0.0000e+00, 0.0000e+00, 0.0000e+00, 0.0000e+00,\n",
              "        0.0000e+00, 0.0000e+00, 0.0000e+00, 0.0000e+00, 0.0000e+00,\n",
              "        0.0000e+00, 0.0000e+00, 0.0000e+00, 0.0000e+00, 0.0000e+00,\n",
              "        0.0000e+00, 0.0000e+00, 0.0000e+00, 0.0000e+00, 0.0000e+00,\n",
              "        0.0000e+00, 0.0000e+00, 0.0000e+00, 0.0000e+00, 0.0000e+00,\n",
              "        0.0000e+00, 0.0000e+00, 0.0000e+00, 0.0000e+00, 0.0000e+00,\n",
              "        0.0000e+00, 0.0000e+00, 0.0000e+00, 0.0000e+00, 0.0000e+00,\n",
              "        0.0000e+00, 0.0000e+00, 0.0000e+00, 0.0000e+00, 0.0000e+00,\n",
              "        0.0000e+00, 0.0000e+00, 0.0000e+00, 0.0000e+00, 0.0000e+00,\n",
              "        0.0000e+00, 0.0000e+00, 0.0000e+00, 0.0000e+00, 0.0000e+00,\n",
              "        0.0000e+00, 0.0000e+00, 0.0000e+00, 0.0000e+00, 0.0000e+00,\n",
              "        0.0000e+00, 0.0000e+00, 0.0000e+00, 0.0000e+00, 0.0000e+00,\n",
              "        0.0000e+00, 0.0000e+00, 0.0000e+00, 0.0000e+00, 0.0000e+00,\n",
              "        0.0000e+00, 0.0000e+00, 0.0000e+00, 0.0000e+00, 0.0000e+00,\n",
              "        0.0000e+00, 0.0000e+00, 0.0000e+00, 0.0000e+00, 0.0000e+00,\n",
              "        0.0000e+00, 0.0000e+00, 0.0000e+00, 0.0000e+00, 0.0000e+00,\n",
              "        0.0000e+00, 0.0000e+00, 0.0000e+00, 0.0000e+00, 0.0000e+00,\n",
              "        0.0000e+00, 0.0000e+00, 0.0000e+00, 0.0000e+00, 0.0000e+00,\n",
              "        0.0000e+00, 0.0000e+00, 0.0000e+00, 0.0000e+00, 0.0000e+00,\n",
              "        0.0000e+00, 0.0000e+00, 0.0000e+00, 0.0000e+00, 0.0000e+00,\n",
              "        0.0000e+00, 0.0000e+00, 0.0000e+00, 0.0000e+00, 0.0000e+00,\n",
              "        0.0000e+00, 0.0000e+00, 0.0000e+00, 0.0000e+00, 0.0000e+00,\n",
              "        0.0000e+00, 0.0000e+00, 0.0000e+00, 0.0000e+00, 0.0000e+00,\n",
              "        0.0000e+00, 0.0000e+00, 0.0000e+00, 0.0000e+00, 0.0000e+00,\n",
              "        0.0000e+00, 0.0000e+00, 0.0000e+00, 0.0000e+00, 1.0000e+00,\n",
              "        0.0000e+00, 0.0000e+00, 0.0000e+00, 1.0000e+00, 0.0000e+00,\n",
              "        1.0000e+00, 2.0130e+03]])"
            ]
          },
          "metadata": {},
          "execution_count": 28
        }
      ]
    },
    {
      "cell_type": "code",
      "source": [
        "ind = np.arange(15)\n",
        "width = 0.35\n",
        "\n",
        "plt.figure(figsize=(9,4))\n",
        "plt.bar(ind, y_test.values.flatten()[:15], width, label='Precio de venta real')\n",
        "plt.bar(ind+width, y_pred.flatten()[:15], width, label='Precio de venta modelo')\n",
        "\n",
        "plt.xticks(ind+width/2, np.arange(1, 16))\n",
        "plt.legend(loc='best')\n",
        "\n",
        "plt.xlabel('Coches')\n",
        "plt.ylabel('Precio de venta')\n",
        "plt.title('Precio de venta - Real vs. Modelo')\n",
        "\n",
        "plt.show()\n",
        "     "
      ],
      "metadata": {
        "colab": {
          "base_uri": "https://localhost:8080/",
          "height": 410
        },
        "id": "yihWInYfNWsu",
        "outputId": "e99efd90-25a8-48a4-acd0-37da5c32d4f1"
      },
      "execution_count": null,
      "outputs": [
        {
          "output_type": "display_data",
          "data": {
            "text/plain": [
              "<Figure size 900x400 with 1 Axes>"
            ],
            "image/png": "[encoded data removed]"
          },
          "metadata": {}
        }
      ]
    },
    {
      "cell_type": "code",
      "source": [
        "x_test.values[:15]"
      ],
      "metadata": {
        "colab": {
          "base_uri": "https://localhost:8080/"
        },
        "id": "gEPRADG8w3E-",
        "outputId": "71df1388-2426-497a-9759-ee1516d4c7f8"
      },
      "execution_count": null,
      "outputs": [
        {
          "output_type": "execute_result",
          "data": {
            "text/plain": [
              "array([['COLOR_WHITE', 'Diésel', 93942.0, 'VOLKSWAGEN', 'Passat',\n",
              "        'Zaragoza', 'TRANSMISSION_MANUAL', 2013.0, 'profesional', 1968.0,\n",
              "        5.0, 140.0, 'BODY_TYPE_FAMILIAR'],\n",
              "       ['COLOR_GRAY', 'Diésel', 103000.0, 'PEUGEOT', 'Rifter', 'Vizcaya',\n",
              "        'TRANSMISSION_MANUAL', 2019.0, 'profesional', 1499.0, 5.0, 130.0,\n",
              "        'BODY_TYPE_MINIVAN'],\n",
              "       ['COLOR_WHITE', 'Diésel', 140000.0, 'MERCEDES-BENZ', 'Clase GLC',\n",
              "        'Alicante', 'TRANSMISSION_AUTOMATIC', 2019.0, 'profesional',\n",
              "        2143.0, 5.0, 204.0, 'BODY_TYPE_4X4'],\n",
              "       ['COLOR_BLUE', 'Diésel', 114000.0, 'VOLKSWAGEN', 'Golf', 'Madrid',\n",
              "        'TRANSMISSION_AUTOMATIC', 2015.0, 'profesional', 1968.0, 5.0,\n",
              "        150.0, 'BODY_TYPE_SEDAN'],\n",
              "       ['COLOR_WHITE', 'Diésel', 118050.0, 'RENAULT', 'Clio', 'Málaga',\n",
              "        'TRANSMISSION_MANUAL', 2017.0, 'profesional', 1461.0, 5.0, 75.0,\n",
              "        'BODY_TYPE_SEDAN'],\n",
              "       ['COLOR_GRAY', 'Diésel', 79000.0, 'LAND-ROVER',\n",
              "        'Range Rover Velar', 'Málaga', 'TRANSMISSION_AUTOMATIC', 2018.0,\n",
              "        'profesional', 2993.0, 5.0, 300.0, 'BODY_TYPE_4X4'],\n",
              "       ['COLOR_WHITE', 'Híbrido enchufable', 59600.0, 'VOLVO', 'XC60',\n",
              "        'Lleida', 'TRANSMISSION_AUTOMATIC', 2020.0, 'profesional',\n",
              "        1969.0, 5.0, 390.0, 'BODY_TYPE_4X4'],\n",
              "       ['COLOR_BLUE', 'Gasolina', 39950.0, 'NISSAN', 'JUKE', 'Granada',\n",
              "        'TRANSMISSION_AUTOMATIC', 2019.0, 'profesional', 1598.0, 5.0,\n",
              "        112.0, 'BODY_TYPE_4X4'],\n",
              "       ['COLOR_BROWN', 'Gasolina', 82182.0, 'AUDI', 'A5', 'Tarragona',\n",
              "        'TRANSMISSION_MANUAL', 2016.0, 'profesional', 1798.0, 2.0, 177.0,\n",
              "        'BODY_TYPE_COUPE'],\n",
              "       ['COLOR_GRAY', 'Gasolina', 100490.0, 'LAND-ROVER',\n",
              "        'Range Rover Evoque', 'Burgos', 'TRANSMISSION_AUTOMATIC', 2012.0,\n",
              "        'profesional', 1999.0, 3.0, 240.0, 'BODY_TYPE_4X4'],\n",
              "       ['COLOR_GRAY', 'Gasolina', 36962.0, 'RENAULT', 'Clio',\n",
              "        'Barcelona', 'TRANSMISSION_MANUAL', 2021.0, 'profesional', 999.0,\n",
              "        5.0, 90.0, 'BODY_TYPE_SEDAN'],\n",
              "       ['COLOR_RED', 'Gasolina', 73000.0, 'VOLKSWAGEN', 'Polo',\n",
              "        'Sta. C. Tenerife', 'TRANSMISSION_MANUAL', 2019.0, 'profesional',\n",
              "        999.0, 5.0, 95.0, 'BODY_TYPE_SEDAN'],\n",
              "       ['COLOR_WHITE', 'Diésel', 117605.0, 'PEUGEOT', '208', 'Córdoba',\n",
              "        'TRANSMISSION_MANUAL', 2016.0, 'profesional', 1560.0, 5.0, 100.0,\n",
              "        'BODY_TYPE_SEDAN'],\n",
              "       ['COLOR_BLUE', 'Híbrido', 25778.0, 'MERCEDES-BENZ', 'Clase C',\n",
              "        'Barcelona', 'TRANSMISSION_AUTOMATIC', 2021.0, 'profesional',\n",
              "        1992.0, 4.0, 200.0, 'BODY_TYPE_SEDAN'],\n",
              "       ['COLOR_WHITE', 'Diésel', 133870.0, 'MERCEDES-BENZ', 'Clase GLC',\n",
              "        'Pontevedra', 'TRANSMISSION_AUTOMATIC', 2019.0, 'profesional',\n",
              "        2143.0, 5.0, 204.0, 'BODY_TYPE_4X4']], dtype=object)"
            ]
          },
          "metadata": {},
          "execution_count": 30
        }
      ]
    },
    {
      "cell_type": "markdown",
      "source": [
        "# 5. Exportación de modelo."
      ],
      "metadata": {
        "id": "FgiflfxTgRY-"
      }
    },
    {
      "cell_type": "code",
      "source": [
        "with open('dict_vectorizer_coches_net.pck', 'wb') as f:\n",
        "  pickle.dump((dv), f)\n",
        "model.save('modelo_keras_coches_net.hdf5')"
      ],
      "metadata": {
        "id": "CmjbUfhmhHY7"
      },
      "execution_count": null,
      "outputs": []
    },
    {
      "cell_type": "code",
      "source": [
        "with open('dict_vectorizer_coches_net.pck', 'rb') as f:\n",
        "  dv_read = pickle.load(f)\n",
        "model_read = tf.keras.models.load_model('modelo_keras_coches_net.hdf5')"
      ],
      "metadata": {
        "id": "eNN0zYmvhKa-"
      },
      "execution_count": null,
      "outputs": []
    },
    {
      "cell_type": "code",
      "source": [
        "dv_read"
      ],
      "metadata": {
        "colab": {
          "base_uri": "https://localhost:8080/"
        },
        "id": "2bT__d5bhhrr",
        "outputId": "3245d07d-8538-475b-fcdb-4461066b61b8"
      },
      "execution_count": null,
      "outputs": [
        {
          "output_type": "execute_result",
          "data": {
            "text/plain": [
              "DictVectorizer(sparse=False)"
            ],
            "text/html": [
              "<style>#sk-container-id-1 {color: black;background-color: white;}#sk-container-id-1 pre{padding: 0;}#sk-container-id-1 div.sk-toggleable {background-color: white;}#sk-container-id-1 label.sk-toggleable__label {cursor: pointer;display: block;width: 100%;margin-bottom: 0;padding: 0.3em;box-sizing: border-box;text-align: center;}#sk-container-id-1 label.sk-toggleable__label-arrow:before {content: \"▸\";float: left;margin-right: 0.25em;color: #696969;}#sk-container-id-1 label.sk-toggleable__label-arrow:hover:before {color: black;}#sk-container-id-1 div.sk-estimator:hover label.sk-toggleable__label-arrow:before {color: black;}#sk-container-id-1 div.sk-toggleable__content {max-height: 0;max-width: 0;overflow: hidden;text-align: left;background-color: #f0f8ff;}#sk-container-id-1 div.sk-toggleable__content pre {margin: 0.2em;color: black;border-radius: 0.25em;background-color: #f0f8ff;}#sk-container-id-1 input.sk-toggleable__control:checked~div.sk-toggleable__content {max-height: 200px;max-width: 100%;overflow: auto;}#sk-container-id-1 input.sk-toggleable__control:checked~label.sk-toggleable__label-arrow:before {content: \"▾\";}#sk-container-id-1 div.sk-estimator input.sk-toggleable__control:checked~label.sk-toggleable__label {background-color: #d4ebff;}#sk-container-id-1 div.sk-label input.sk-toggleable__control:checked~label.sk-toggleable__label {background-color: #d4ebff;}#sk-container-id-1 input.sk-hidden--visually {border: 0;clip: rect(1px 1px 1px 1px);clip: rect(1px, 1px, 1px, 1px);height: 1px;margin: -1px;overflow: hidden;padding: 0;position: absolute;width: 1px;}#sk-container-id-1 div.sk-estimator {font-family: monospace;background-color: #f0f8ff;border: 1px dotted black;border-radius: 0.25em;box-sizing: border-box;margin-bottom: 0.5em;}#sk-container-id-1 div.sk-estimator:hover {background-color: #d4ebff;}#sk-container-id-1 div.sk-parallel-item::after {content: \"\";width: 100%;border-bottom: 1px solid gray;flex-grow: 1;}#sk-container-id-1 div.sk-label:hover label.sk-toggleable__label {background-color: #d4ebff;}#sk-container-id-1 div.sk-serial::before {content: \"\";position: absolute;border-left: 1px solid gray;box-sizing: border-box;top: 0;bottom: 0;left: 50%;z-index: 0;}#sk-container-id-1 div.sk-serial {display: flex;flex-direction: column;align-items: center;background-color: white;padding-right: 0.2em;padding-left: 0.2em;position: relative;}#sk-container-id-1 div.sk-item {position: relative;z-index: 1;}#sk-container-id-1 div.sk-parallel {display: flex;align-items: stretch;justify-content: center;background-color: white;position: relative;}#sk-container-id-1 div.sk-item::before, #sk-container-id-1 div.sk-parallel-item::before {content: \"\";position: absolute;border-left: 1px solid gray;box-sizing: border-box;top: 0;bottom: 0;left: 50%;z-index: -1;}#sk-container-id-1 div.sk-parallel-item {display: flex;flex-direction: column;z-index: 1;position: relative;background-color: white;}#sk-container-id-1 div.sk-parallel-item:first-child::after {align-self: flex-end;width: 50%;}#sk-container-id-1 div.sk-parallel-item:last-child::after {align-self: flex-start;width: 50%;}#sk-container-id-1 div.sk-parallel-item:only-child::after {width: 0;}#sk-container-id-1 div.sk-dashed-wrapped {border: 1px dashed gray;margin: 0 0.4em 0.5em 0.4em;box-sizing: border-box;padding-bottom: 0.4em;background-color: white;}#sk-container-id-1 div.sk-label label {font-family: monospace;font-weight: bold;display: inline-block;line-height: 1.2em;}#sk-container-id-1 div.sk-label-container {text-align: center;}#sk-container-id-1 div.sk-container {/* jupyter's `normalize.less` sets `[hidden] { display: none; }` but bootstrap.min.css set `[hidden] { display: none !important; }` so we also need the `!important` here to be able to override the default hidden behavior on the sphinx rendered scikit-learn.org. See: https://github.com/scikit-learn/scikit-learn/issues/21755 */display: inline-block !important;position: relative;}#sk-container-id-1 div.sk-text-repr-fallback {display: none;}</style><div id=\"sk-container-id-1\" class=\"sk-top-container\"><div class=\"sk-text-repr-fallback\"><pre>DictVectorizer(sparse=False)</pre><b>In a Jupyter environment, please rerun this cell to show the HTML representation or trust the notebook. <br />On GitHub, the HTML representation is unable to render, please try loading this page with nbviewer.org.</b></div><div class=\"sk-container\" hidden><div class=\"sk-item\"><div class=\"sk-estimator sk-toggleable\"><input class=\"sk-toggleable__control sk-hidden--visually\" id=\"sk-estimator-id-1\" type=\"checkbox\" checked><label for=\"sk-estimator-id-1\" class=\"sk-toggleable__label sk-toggleable__label-arrow\">DictVectorizer</label><div class=\"sk-toggleable__content\"><pre>DictVectorizer(sparse=False)</pre></div></div></div></div></div>"
            ]
          },
          "metadata": {},
          "execution_count": 33
        }
      ]
    },
    {
      "cell_type": "code",
      "source": [
        "model_read"
      ],
      "metadata": {
        "colab": {
          "base_uri": "https://localhost:8080/"
        },
        "id": "eAn_QAXxhkUY",
        "outputId": "dc673119-4d49-4607-c2cf-2324c033466b"
      },
      "execution_count": null,
      "outputs": [
        {
          "output_type": "execute_result",
          "data": {
            "text/plain": [
              "<keras.engine.sequential.Sequential at 0x7ff42652ffa0>"
            ]
          },
          "metadata": {},
          "execution_count": 34
        }
      ]
    },
    {
      "cell_type": "code",
      "source": [
        "files_to_compress = ['dict_vectorizer_coches_net.pck','modelo_keras_coches_net.hdf5']\n",
        "with zipfile.ZipFile('model_with_dict_vectorizer_coches_net.zip', 'w') as zip:\n",
        "  for file in files_to_compress:\n",
        "    zip.write(file)\n",
        "\n",
        "files.download('model_with_dict_vectorizer_coches_net.zip')"
      ],
      "metadata": {
        "colab": {
          "base_uri": "https://localhost:8080/"
        },
        "id": "jKj1r-9oj2VG",
        "outputId": "f720d8d6-7fa8-41dc-97d3-f66ca5d4c70a"
      },
      "execution_count": null,
      "outputs": [
        {
          "output_type": "display_data",
          "data": {
            "text/plain": [
              "<IPython.core.display.Javascript object>"
            ],
            "application/javascript": [
              "\n",
              "    async function download(id, filename, size) {\n",
              "      if (!google.colab.kernel.accessAllowed) {\n",
              "        return;\n",
              "      }\n",
              "      const div = document.createElement('div');\n",
              "      const label = document.createElement('label');\n",
              "      label.textContent = `Downloading \"${filename}\": `;\n",
              "      div.appendChild(label);\n",
              "      const progress = document.createElement('progress');\n",
              "      progress.max = size;\n",
              "      div.appendChild(progress);\n",
              "      document.body.appendChild(div);\n",
              "\n",
              "      const buffers = [];\n",
              "      let downloaded = 0;\n",
              "\n",
              "      const channel = await google.colab.kernel.comms.open(id);\n",
              "      // Send a message to notify the kernel that we're ready.\n",
              "      channel.send({})\n",
              "\n",
              "      for await (const message of channel.messages) {\n",
              "        // Send a message to notify the kernel that we're ready.\n",
              "        channel.send({})\n",
              "        if (message.buffers) {\n",
              "          for (const buffer of message.buffers) {\n",
              "            buffers.push(buffer);\n",
              "            downloaded += buffer.byteLength;\n",
              "            progress.value = downloaded;\n",
              "          }\n",
              "        }\n",
              "      }\n",
              "      const blob = new Blob(buffers, {type: 'application/binary'});\n",
              "      const a = document.createElement('a');\n",
              "      a.href = window.URL.createObjectURL(blob);\n",
              "      a.download = filename;\n",
              "      div.appendChild(a);\n",
              "      a.click();\n",
              "      div.remove();\n",
              "    }\n",
              "  "
            ]
          },
          "metadata": {}
        },
        {
          "output_type": "display_data",
          "data": {
            "text/plain": [
              "<IPython.core.display.Javascript object>"
            ],
            "application/javascript": [
              "download(\"download_9049e950-98fa-4f48-af53-38ccae0aa60c\", \"model_with_dict_vectorizer_coches_net.zip\", 13348449)"
            ]
          },
          "metadata": {}
        }
      ]
    }
  ]
}